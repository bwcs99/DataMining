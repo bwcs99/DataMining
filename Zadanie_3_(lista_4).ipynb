{
 "cells": [
  {
   "cell_type": "code",
   "execution_count": null,
   "id": "9b5d035a",
   "metadata": {
    "id": "9b5d035a"
   },
   "outputs": [],
   "source": [
    "import keras\n",
    "import os\n",
    "import shutil\n",
    "import random\n",
    "import matplotlib.pyplot as plt\n",
    "\n",
    "from keras import layers\n",
    "from keras import models\n",
    "from keras import optimizers\n",
    "from keras.preprocessing.image import ImageDataGenerator"
   ]
  },
  {
   "cell_type": "code",
   "execution_count": null,
   "id": "V0-mwmHXFKG4",
   "metadata": {
    "colab": {
     "base_uri": "https://localhost:8080/"
    },
    "id": "V0-mwmHXFKG4",
    "outputId": "72e5ab2c-ecf3-466f-8b8f-6baf2fd7e332"
   },
   "outputs": [
    {
     "name": "stdout",
     "output_type": "stream",
     "text": [
      "Mounted at /content/drive\n"
     ]
    }
   ],
   "source": [
    "from google.colab import drive\n",
    "drive.mount('/content/drive')"
   ]
  },
  {
   "cell_type": "code",
   "execution_count": null,
   "id": "yGel6t2ZFlmo",
   "metadata": {
    "id": "yGel6t2ZFlmo"
   },
   "outputs": [],
   "source": [
    "!unzip '/content/drive/MyDrive/flowers.zip' -d '/content/training_data'"
   ]
  },
  {
   "cell_type": "markdown",
   "id": "c17270c2",
   "metadata": {
    "id": "c17270c2"
   },
   "source": [
    "### Zadanie 3"
   ]
  },
  {
   "cell_type": "markdown",
   "id": "90a965d9",
   "metadata": {
    "id": "90a965d9"
   },
   "source": [
    "W zadaniu $3$ należy użyć małego zbioru danych do wytrenowania sieci neuronowej (zadanie klasyfikacji) i w tym celu trzeba zastosować takie techniki jak: data augmentation, transfer learning i fine tuning. W moim rozwiązaniu wykorzystam zbiór danych *flowers*, który był podany w treści zadania. Na początku zbudujmy prostą sieć konwolucyjną:"
   ]
  },
  {
   "cell_type": "code",
   "execution_count": null,
   "id": "c3fc1a24",
   "metadata": {
    "id": "c3fc1a24"
   },
   "outputs": [],
   "source": [
    "model = models.Sequential()\n",
    "\n",
    "\n",
    "model.add(layers.Conv2D(32, (3, 3), activation='relu', input_shape=(150, 150, 3)))\n",
    "model.add(layers.MaxPooling2D((2, 2)))\n",
    "\n",
    "model.add(layers.Conv2D(64, (3, 3), activation='relu'))\n",
    "model.add(layers.MaxPooling2D((2, 2)))\n",
    "\n",
    "model.add(layers.Conv2D(128, (3, 3), activation='relu'))\n",
    "model.add(layers.MaxPooling2D((2, 2)))\n",
    "\n",
    "model.add(layers.Conv2D(128, (3, 3), activation='relu'))\n",
    "model.add(layers.MaxPooling2D((2, 2)))\n",
    "\n",
    "model.add(layers.Flatten())\n",
    "\n",
    "model.add(layers.Dense(512, activation='relu'))\n",
    "\n",
    "model.add(layers.Dense(5, activation='softmax'))"
   ]
  },
  {
   "cell_type": "markdown",
   "id": "597c2546",
   "metadata": {
    "id": "597c2546"
   },
   "source": [
    "Wyświetlmy dane dotyczące utworzonego modelu:"
   ]
  },
  {
   "cell_type": "code",
   "execution_count": null,
   "id": "d4d84389",
   "metadata": {
    "colab": {
     "base_uri": "https://localhost:8080/"
    },
    "id": "d4d84389",
    "outputId": "1ddac84d-875c-4d77-cc7b-30feed371ed7"
   },
   "outputs": [
    {
     "name": "stdout",
     "output_type": "stream",
     "text": [
      "Model: \"sequential\"\n",
      "_________________________________________________________________\n",
      " Layer (type)                Output Shape              Param #   \n",
      "=================================================================\n",
      " conv2d (Conv2D)             (None, 148, 148, 32)      896       \n",
      "                                                                 \n",
      " max_pooling2d (MaxPooling2D  (None, 74, 74, 32)       0         \n",
      " )                                                               \n",
      "                                                                 \n",
      " conv2d_1 (Conv2D)           (None, 72, 72, 64)        18496     \n",
      "                                                                 \n",
      " max_pooling2d_1 (MaxPooling  (None, 36, 36, 64)       0         \n",
      " 2D)                                                             \n",
      "                                                                 \n",
      " conv2d_2 (Conv2D)           (None, 34, 34, 128)       73856     \n",
      "                                                                 \n",
      " max_pooling2d_2 (MaxPooling  (None, 17, 17, 128)      0         \n",
      " 2D)                                                             \n",
      "                                                                 \n",
      " conv2d_3 (Conv2D)           (None, 15, 15, 128)       147584    \n",
      "                                                                 \n",
      " max_pooling2d_3 (MaxPooling  (None, 7, 7, 128)        0         \n",
      " 2D)                                                             \n",
      "                                                                 \n",
      " flatten (Flatten)           (None, 6272)              0         \n",
      "                                                                 \n",
      " dense (Dense)               (None, 512)               3211776   \n",
      "                                                                 \n",
      " dense_1 (Dense)             (None, 5)                 2565      \n",
      "                                                                 \n",
      "=================================================================\n",
      "Total params: 3,455,173\n",
      "Trainable params: 3,455,173\n",
      "Non-trainable params: 0\n",
      "_________________________________________________________________\n"
     ]
    }
   ],
   "source": [
    "model.summary()"
   ]
  },
  {
   "cell_type": "markdown",
   "id": "d24481f1",
   "metadata": {
    "id": "d24481f1"
   },
   "source": [
    "Następnie należy odpowiednio przetworzyć zbiór danych. W zbiorze danych *flowers* mamy łącznie $4242$ zdjęcia różnych kwiatów i $5$ kategorii (tulipan, mlecz, róża, słonecznik i stokrotka). Niestety dane nie są podzielone na zbiór treningowy, walidacyjny i testowy - to jest dodatkowy krok do wykonania. Najpierw utworzmy odpowiednie zbiory danych. Poniższy kod dzieli zbiór danych *flowers* na zbiór treningowy i walidacyjny (w stosunku $80 \\%$ do $20 \\%$):    "
   ]
  },
  {
   "cell_type": "code",
   "execution_count": null,
   "id": "8123fedc",
   "metadata": {
    "id": "8123fedc"
   },
   "outputs": [],
   "source": [
    "flowers_dir = f'/content/training_data/flowers'\n",
    "\n",
    "train_dir = f'/content/training_data/flowers/train'\n",
    "validation_dir = f'/content/training_data/flowers/validation'\n",
    "\n",
    "# category = f'dandelion'\n",
    "\n",
    "# decision_list = [False, True]\n",
    "\n",
    "# current_path = os.path.join(flowers_dir, category)\n",
    "\n",
    "# for fname in os.listdir(current_path):\n",
    "#    decision = random.choices(decision_list, weights=(8, 2), k=1)[0]\n",
    "    \n",
    "#    if decision:\n",
    "#        shutil.move(os.path.join(current_path, fname), os.path.join(validation_dir, category))\n",
    "#    else:\n",
    "#        shutil.move(os.path.join(current_path, fname), os.path.join(train_dir, category))"
   ]
  },
  {
   "cell_type": "markdown",
   "id": "1f399d1d",
   "metadata": {
    "id": "1f399d1d"
   },
   "source": [
    "Następnie wczytamy zdjęcia ze zbiorów, zmienimy je w tensory z liczbami zmiennoprzecinkowymi i unormujemy ich wartości tak aby były z przedziału $[0, 1]$:"
   ]
  },
  {
   "cell_type": "code",
   "execution_count": null,
   "id": "032b7438",
   "metadata": {
    "colab": {
     "base_uri": "https://localhost:8080/"
    },
    "id": "032b7438",
    "outputId": "3ba981b8-3446-44d1-ea77-597a670f67a5"
   },
   "outputs": [
    {
     "name": "stdout",
     "output_type": "stream",
     "text": [
      "Found 3459 images belonging to 5 classes.\n",
      "Found 864 images belonging to 5 classes.\n"
     ]
    }
   ],
   "source": [
    "train_datagen = ImageDataGenerator(rescale=1./255)\n",
    "validation_datagen = ImageDataGenerator(rescale=1./255)\n",
    "\n",
    "train_generator = train_datagen.flow_from_directory(\n",
    "    train_dir,\n",
    "    target_size=(150, 150),\n",
    "    batch_size=25,\n",
    "    class_mode=f'categorical'\n",
    ")\n",
    "\n",
    "validation_generator = validation_datagen.flow_from_directory(\n",
    "    validation_dir,\n",
    "    target_size=(150, 150),\n",
    "    batch_size=25,\n",
    "    class_mode=f'categorical'\n",
    ")"
   ]
  },
  {
   "cell_type": "markdown",
   "id": "f726486f",
   "metadata": {
    "id": "f726486f"
   },
   "source": [
    "Sprawdźmy, czy wszystko działa:"
   ]
  },
  {
   "cell_type": "code",
   "execution_count": null,
   "id": "d074198f",
   "metadata": {
    "colab": {
     "base_uri": "https://localhost:8080/"
    },
    "id": "d074198f",
    "outputId": "38e7f869-7b0c-48aa-a844-fcd55a7f349a"
   },
   "outputs": [
    {
     "name": "stdout",
     "output_type": "stream",
     "text": [
      "Data batch shape: (25, 150, 150, 3)\n",
      "Label batch shape: (25, 5)\n"
     ]
    }
   ],
   "source": [
    "for data_batch, labels_batch in train_generator:\n",
    "    print(f'Data batch shape: {data_batch.shape}')\n",
    "    print(f'Label batch shape: {labels_batch.shape}')\n",
    "    break"
   ]
  },
  {
   "cell_type": "markdown",
   "id": "8044de82",
   "metadata": {
    "id": "8044de82"
   },
   "source": [
    "Następnie możemy skompilować nasz model:"
   ]
  },
  {
   "cell_type": "code",
   "execution_count": null,
   "id": "12b993ba",
   "metadata": {
    "id": "12b993ba"
   },
   "outputs": [],
   "source": [
    "model.compile(\n",
    "    loss='categorical_crossentropy',\n",
    "    optimizer=optimizers.RMSprop(learning_rate=1e-4),\n",
    "    metrics=['accuracy']\n",
    ")"
   ]
  },
  {
   "cell_type": "markdown",
   "id": "c64e35f4",
   "metadata": {
    "id": "c64e35f4"
   },
   "source": [
    "Potem możemy zacząć trening naszego modelu:"
   ]
  },
  {
   "cell_type": "code",
   "execution_count": null,
   "id": "ed04841d",
   "metadata": {
    "colab": {
     "base_uri": "https://localhost:8080/"
    },
    "id": "ed04841d",
    "outputId": "e25f3c93-848c-4eb9-8a73-d1bab0582c20"
   },
   "outputs": [
    {
     "name": "stdout",
     "output_type": "stream",
     "text": [
      "Epoch 1/50\n",
      "100/100 [==============================] - 10s 88ms/step - loss: 1.3992 - accuracy: 0.3740 - val_loss: 1.2174 - val_accuracy: 0.4220\n",
      "Epoch 2/50\n",
      "100/100 [==============================] - 10s 99ms/step - loss: 1.1743 - accuracy: 0.5032 - val_loss: 1.0712 - val_accuracy: 0.5700\n",
      "Epoch 3/50\n",
      "100/100 [==============================] - 9s 86ms/step - loss: 1.0874 - accuracy: 0.5733 - val_loss: 1.0844 - val_accuracy: 0.5480\n",
      "Epoch 4/50\n",
      "100/100 [==============================] - 9s 87ms/step - loss: 1.0166 - accuracy: 0.6052 - val_loss: 1.0806 - val_accuracy: 0.5640\n",
      "Epoch 5/50\n",
      "100/100 [==============================] - 10s 104ms/step - loss: 0.9719 - accuracy: 0.6240 - val_loss: 0.9900 - val_accuracy: 0.6160\n",
      "Epoch 6/50\n",
      "100/100 [==============================] - 10s 97ms/step - loss: 0.9515 - accuracy: 0.6308 - val_loss: 0.9664 - val_accuracy: 0.6060\n",
      "Epoch 7/50\n",
      "100/100 [==============================] - 9s 86ms/step - loss: 0.8975 - accuracy: 0.6530 - val_loss: 0.8651 - val_accuracy: 0.6600\n",
      "Epoch 8/50\n",
      "100/100 [==============================] - 9s 87ms/step - loss: 0.8737 - accuracy: 0.6656 - val_loss: 0.8812 - val_accuracy: 0.6520\n",
      "Epoch 9/50\n",
      "100/100 [==============================] - 9s 85ms/step - loss: 0.8244 - accuracy: 0.6860 - val_loss: 0.8255 - val_accuracy: 0.6700\n",
      "Epoch 10/50\n",
      "100/100 [==============================] - 9s 85ms/step - loss: 0.8070 - accuracy: 0.6961 - val_loss: 0.8048 - val_accuracy: 0.6920\n",
      "Epoch 11/50\n",
      "100/100 [==============================] - 9s 85ms/step - loss: 0.7716 - accuracy: 0.6940 - val_loss: 0.8337 - val_accuracy: 0.6640\n",
      "Epoch 12/50\n",
      "100/100 [==============================] - 9s 86ms/step - loss: 0.7449 - accuracy: 0.7144 - val_loss: 0.9003 - val_accuracy: 0.6620\n",
      "Epoch 13/50\n",
      "100/100 [==============================] - 9s 85ms/step - loss: 0.7209 - accuracy: 0.7311 - val_loss: 0.8515 - val_accuracy: 0.6700\n",
      "Epoch 14/50\n",
      "100/100 [==============================] - 9s 88ms/step - loss: 0.6822 - accuracy: 0.7548 - val_loss: 0.9749 - val_accuracy: 0.6380\n",
      "Epoch 15/50\n",
      "100/100 [==============================] - 9s 86ms/step - loss: 0.6744 - accuracy: 0.7444 - val_loss: 0.8224 - val_accuracy: 0.6740\n",
      "Epoch 16/50\n",
      "100/100 [==============================] - 9s 86ms/step - loss: 0.6462 - accuracy: 0.7548 - val_loss: 0.8651 - val_accuracy: 0.6740\n",
      "Epoch 17/50\n",
      "100/100 [==============================] - 9s 86ms/step - loss: 0.6095 - accuracy: 0.7784 - val_loss: 0.7710 - val_accuracy: 0.7300\n",
      "Epoch 18/50\n",
      "100/100 [==============================] - 9s 86ms/step - loss: 0.5993 - accuracy: 0.7790 - val_loss: 0.7891 - val_accuracy: 0.6920\n",
      "Epoch 19/50\n",
      "100/100 [==============================] - 10s 98ms/step - loss: 0.5700 - accuracy: 0.7931 - val_loss: 0.7589 - val_accuracy: 0.7260\n",
      "Epoch 20/50\n",
      "100/100 [==============================] - 9s 87ms/step - loss: 0.5419 - accuracy: 0.7876 - val_loss: 0.7830 - val_accuracy: 0.7080\n",
      "Epoch 21/50\n",
      "100/100 [==============================] - 9s 86ms/step - loss: 0.5382 - accuracy: 0.8088 - val_loss: 0.7397 - val_accuracy: 0.7160\n",
      "Epoch 22/50\n",
      "100/100 [==============================] - 9s 86ms/step - loss: 0.4848 - accuracy: 0.8257 - val_loss: 0.8383 - val_accuracy: 0.6900\n",
      "Epoch 23/50\n",
      "100/100 [==============================] - 9s 86ms/step - loss: 0.4713 - accuracy: 0.8289 - val_loss: 0.8192 - val_accuracy: 0.7200\n",
      "Epoch 24/50\n",
      "100/100 [==============================] - 10s 101ms/step - loss: 0.4463 - accuracy: 0.8293 - val_loss: 0.8073 - val_accuracy: 0.7180\n",
      "Epoch 25/50\n",
      "100/100 [==============================] - 9s 87ms/step - loss: 0.4184 - accuracy: 0.8460 - val_loss: 0.7569 - val_accuracy: 0.7360\n",
      "Epoch 26/50\n",
      "100/100 [==============================] - 10s 98ms/step - loss: 0.3945 - accuracy: 0.8567 - val_loss: 0.7643 - val_accuracy: 0.7260\n",
      "Epoch 27/50\n",
      "100/100 [==============================] - 9s 86ms/step - loss: 0.3782 - accuracy: 0.8716 - val_loss: 0.8244 - val_accuracy: 0.7160\n",
      "Epoch 28/50\n",
      "100/100 [==============================] - 9s 87ms/step - loss: 0.3398 - accuracy: 0.8852 - val_loss: 0.9041 - val_accuracy: 0.6700\n",
      "Epoch 29/50\n",
      "100/100 [==============================] - 9s 86ms/step - loss: 0.3323 - accuracy: 0.8804 - val_loss: 0.8124 - val_accuracy: 0.7220\n",
      "Epoch 30/50\n",
      "100/100 [==============================] - 10s 98ms/step - loss: 0.3080 - accuracy: 0.8937 - val_loss: 0.8954 - val_accuracy: 0.6940\n",
      "Epoch 31/50\n",
      "100/100 [==============================] - 9s 85ms/step - loss: 0.2840 - accuracy: 0.9018 - val_loss: 0.7830 - val_accuracy: 0.7060\n",
      "Epoch 32/50\n",
      "100/100 [==============================] - 9s 86ms/step - loss: 0.2629 - accuracy: 0.9128 - val_loss: 0.8733 - val_accuracy: 0.7160\n",
      "Epoch 33/50\n",
      "100/100 [==============================] - 9s 87ms/step - loss: 0.2486 - accuracy: 0.9163 - val_loss: 1.0130 - val_accuracy: 0.6760\n",
      "Epoch 34/50\n",
      "100/100 [==============================] - 9s 85ms/step - loss: 0.2272 - accuracy: 0.9255 - val_loss: 1.1106 - val_accuracy: 0.6920\n",
      "Epoch 35/50\n",
      "100/100 [==============================] - 9s 85ms/step - loss: 0.2108 - accuracy: 0.9332 - val_loss: 0.9451 - val_accuracy: 0.7040\n",
      "Epoch 36/50\n",
      "100/100 [==============================] - 9s 86ms/step - loss: 0.1936 - accuracy: 0.9348 - val_loss: 0.8929 - val_accuracy: 0.7320\n",
      "Epoch 37/50\n",
      "100/100 [==============================] - 9s 86ms/step - loss: 0.1615 - accuracy: 0.9480 - val_loss: 1.1322 - val_accuracy: 0.6680\n",
      "Epoch 38/50\n",
      "100/100 [==============================] - 9s 87ms/step - loss: 0.1615 - accuracy: 0.9476 - val_loss: 1.0025 - val_accuracy: 0.7100\n",
      "Epoch 39/50\n",
      "100/100 [==============================] - 9s 86ms/step - loss: 0.1501 - accuracy: 0.9541 - val_loss: 1.0104 - val_accuracy: 0.7200\n",
      "Epoch 40/50\n",
      "100/100 [==============================] - 10s 98ms/step - loss: 0.1296 - accuracy: 0.9614 - val_loss: 0.9511 - val_accuracy: 0.7140\n",
      "Epoch 41/50\n",
      "100/100 [==============================] - 9s 86ms/step - loss: 0.1078 - accuracy: 0.9658 - val_loss: 1.2808 - val_accuracy: 0.6840\n",
      "Epoch 42/50\n",
      "100/100 [==============================] - 9s 86ms/step - loss: 0.1063 - accuracy: 0.9682 - val_loss: 1.0777 - val_accuracy: 0.7080\n",
      "Epoch 43/50\n",
      "100/100 [==============================] - 11s 111ms/step - loss: 0.0966 - accuracy: 0.9710 - val_loss: 1.1213 - val_accuracy: 0.7020\n",
      "Epoch 44/50\n",
      "100/100 [==============================] - 9s 86ms/step - loss: 0.0861 - accuracy: 0.9758 - val_loss: 0.8713 - val_accuracy: 0.7580\n",
      "Epoch 45/50\n",
      "100/100 [==============================] - 9s 87ms/step - loss: 0.0736 - accuracy: 0.9804 - val_loss: 1.0811 - val_accuracy: 0.7460\n",
      "Epoch 46/50\n",
      "100/100 [==============================] - 9s 86ms/step - loss: 0.0662 - accuracy: 0.9835 - val_loss: 1.0524 - val_accuracy: 0.7420\n",
      "Epoch 47/50\n",
      "100/100 [==============================] - 9s 86ms/step - loss: 0.0707 - accuracy: 0.9824 - val_loss: 1.1684 - val_accuracy: 0.7260\n",
      "Epoch 48/50\n",
      "100/100 [==============================] - 9s 86ms/step - loss: 0.0618 - accuracy: 0.9807 - val_loss: 1.0990 - val_accuracy: 0.7340\n",
      "Epoch 49/50\n",
      "100/100 [==============================] - 9s 85ms/step - loss: 0.0593 - accuracy: 0.9835 - val_loss: 1.1106 - val_accuracy: 0.7420\n",
      "Epoch 50/50\n",
      "100/100 [==============================] - 10s 99ms/step - loss: 0.0524 - accuracy: 0.9855 - val_loss: 1.1351 - val_accuracy: 0.7380\n"
     ]
    }
   ],
   "source": [
    "history = model.fit(\n",
    "    train_generator,\n",
    "    steps_per_epoch=100,\n",
    "    epochs=50,\n",
    "    validation_steps=20,\n",
    "    validation_data=validation_generator\n",
    ")"
   ]
  },
  {
   "cell_type": "markdown",
   "id": "eb005e3d",
   "metadata": {
    "id": "eb005e3d"
   },
   "source": [
    "Po skończonym treningu zobaczmy jak wyglądają odpowiednie statystyki:"
   ]
  },
  {
   "cell_type": "code",
   "execution_count": null,
   "id": "df4ab511",
   "metadata": {
    "id": "df4ab511"
   },
   "outputs": [],
   "source": [
    "def get_all_parameters(history):\n",
    "\n",
    "    history_dict = history.history\n",
    "\n",
    "    loss = history_dict['loss']\n",
    "    val_loss = history_dict['val_loss']\n",
    "\n",
    "    accuracy = history_dict['accuracy']\n",
    "    val_accuracy = history_dict['val_accuracy']\n",
    "\n",
    "    epochs = len(accuracy)\n",
    "    ep = list(range(1, epochs))\n",
    "    \n",
    "    return loss, val_loss, accuracy, val_accuracy, epochs, ep\n",
    "\n",
    "\n",
    "def draw_loss_plot(history):\n",
    "\n",
    "    loss, val_loss, _, _, epochs, ep = get_all_parameters(history)\n",
    "\n",
    "    plt.title(f'Training and validation loss')\n",
    "\n",
    "    plt.xlabel(f'Epochs')\n",
    "    plt.ylabel(f'Loss')\n",
    "\n",
    "    plt.plot(ep, loss[1:epochs], '.', color='blue')\n",
    "    plt.plot(ep, val_loss[1:epochs], '.', color='red')\n",
    "\n",
    "\n",
    "def draw_accuracy_plot(history):\n",
    "    _, _, accuracy, val_accuracy, epochs, ep = get_all_parameters(history)\n",
    "    \n",
    "    plt.title(f'Training and validation accuracy')\n",
    "\n",
    "    plt.xlabel(f'Epochs')\n",
    "    plt.ylabel(f'Accuracy')\n",
    "\n",
    "    plt.plot(ep, accuracy[1:epochs], '.', color='blue')\n",
    "    plt.plot(ep, val_accuracy[1:epochs], '.', color='red')"
   ]
  },
  {
   "cell_type": "markdown",
   "id": "21bc2d26",
   "metadata": {
    "id": "21bc2d26"
   },
   "source": [
    "Wykres numer $1$:"
   ]
  },
  {
   "cell_type": "code",
   "execution_count": null,
   "id": "3a2ed1a3",
   "metadata": {
    "colab": {
     "base_uri": "https://localhost:8080/",
     "height": 295
    },
    "id": "3a2ed1a3",
    "outputId": "8fd131fb-b077-400d-e76b-311d4c3d5abb"
   },
   "outputs": [
    {
     "data": {
      "image/png": "[encoded data removed]",
      "text/plain": [
       "<Figure size 432x288 with 1 Axes>"
      ]
     },
     "metadata": {
      "needs_background": "light"
     },
     "output_type": "display_data"
    }
   ],
   "source": [
    "draw_loss_plot(history)"
   ]
  },
  {
   "cell_type": "markdown",
   "id": "2ce9aed8",
   "metadata": {
    "id": "2ce9aed8"
   },
   "source": [
    "Wykres numer $2$:"
   ]
  },
  {
   "cell_type": "code",
   "execution_count": null,
   "id": "2dad2f02",
   "metadata": {
    "colab": {
     "base_uri": "https://localhost:8080/",
     "height": 295
    },
    "id": "2dad2f02",
    "outputId": "4328f27e-4a23-426c-c6dd-973084c7ac55"
   },
   "outputs": [
    {
     "data": {
      "image/png": "[encoded data removed]",
      "text/plain": [
       "<Figure size 432x288 with 1 Axes>"
      ]
     },
     "metadata": {
      "needs_background": "light"
     },
     "output_type": "display_data"
    }
   ],
   "source": [
    "draw_accuracy_plot(history)"
   ]
  },
  {
   "cell_type": "markdown",
   "id": "RQNbiiJ-MqUO",
   "metadata": {
    "id": "RQNbiiJ-MqUO"
   },
   "source": [
    "Zatem widać, że po zastosowaniu tylko samej konwolucyjnen sieci neuronowej (sieć jest bardzo podobna do tej podanej na wykładzie), uzyskujemy skuteczność na poziomie $98 \\%$ na zbiorze treningowym i $74 \\%$ na zbiorze walidacyjnym. Strata na zbiorze treningowym malała wraz z epokami, a na zbiorze walidacyjnym utrzymywała się na stałym poziomie lub rosła (możliwe, że tutaj również mamy do czynienia z overfittingiem)."
   ]
  },
  {
   "cell_type": "markdown",
   "id": "12b86c52",
   "metadata": {
    "id": "12b86c52"
   },
   "source": [
    "### Data augmentation:"
   ]
  },
  {
   "cell_type": "markdown",
   "id": "86fd8985",
   "metadata": {
    "id": "86fd8985"
   },
   "source": [
    "Ze względu na małą liczbe obrazków w zbiorze treningowym, musimy zastosować technika regularyzacji zwaną *data augmentation*. Wykorzystywana funkcja *ImageDataGenerator* pozwala nam prosto przeprowadzić ten zabieg. Co prawda dodaliśmy nowe przykłady w zbiorze treningowym, jednakże zależności między nimi są silne (bo przekształcaliśmy istniejące obrazki). Zatem nie dodajemy żadnej nowej informacji do naszego zbioru a jedynie przerebiamy istniejące przykłady. To może nie wystarczyć do zwalczenia overfittingu. Z tego powodu zastosujemy jeszcze jedną metodę walki z overfittingiem, czyli dodamy do sieci warstwe dropout:"
   ]
  },
  {
   "cell_type": "code",
   "execution_count": null,
   "id": "815d066c",
   "metadata": {
    "colab": {
     "base_uri": "https://localhost:8080/"
    },
    "id": "815d066c",
    "outputId": "83da445d-0637-4ef0-ae9f-2d687b779b29"
   },
   "outputs": [
    {
     "name": "stdout",
     "output_type": "stream",
     "text": [
      "Model: \"sequential_2\"\n",
      "_________________________________________________________________\n",
      " Layer (type)                Output Shape              Param #   \n",
      "=================================================================\n",
      " conv2d_8 (Conv2D)           (None, 148, 148, 32)      896       \n",
      "                                                                 \n",
      " max_pooling2d_8 (MaxPooling  (None, 74, 74, 32)       0         \n",
      " 2D)                                                             \n",
      "                                                                 \n",
      " conv2d_9 (Conv2D)           (None, 72, 72, 64)        18496     \n",
      "                                                                 \n",
      " max_pooling2d_9 (MaxPooling  (None, 36, 36, 64)       0         \n",
      " 2D)                                                             \n",
      "                                                                 \n",
      " conv2d_10 (Conv2D)          (None, 34, 34, 128)       73856     \n",
      "                                                                 \n",
      " max_pooling2d_10 (MaxPoolin  (None, 17, 17, 128)      0         \n",
      " g2D)                                                            \n",
      "                                                                 \n",
      " conv2d_11 (Conv2D)          (None, 15, 15, 128)       147584    \n",
      "                                                                 \n",
      " max_pooling2d_11 (MaxPoolin  (None, 7, 7, 128)        0         \n",
      " g2D)                                                            \n",
      "                                                                 \n",
      " flatten_2 (Flatten)         (None, 6272)              0         \n",
      "                                                                 \n",
      " dropout (Dropout)           (None, 6272)              0         \n",
      "                                                                 \n",
      " dense_4 (Dense)             (None, 512)               3211776   \n",
      "                                                                 \n",
      " dense_5 (Dense)             (None, 5)                 2565      \n",
      "                                                                 \n",
      "=================================================================\n",
      "Total params: 3,455,173\n",
      "Trainable params: 3,455,173\n",
      "Non-trainable params: 0\n",
      "_________________________________________________________________\n"
     ]
    },
    {
     "name": "stderr",
     "output_type": "stream",
     "text": [
      "/usr/local/lib/python3.8/dist-packages/keras/optimizers/optimizer_v2/rmsprop.py:135: UserWarning: The `lr` argument is deprecated, use `learning_rate` instead.\n",
      "  super(RMSprop, self).__init__(name, **kwargs)\n"
     ]
    }
   ],
   "source": [
    "model = models.Sequential()\n",
    "\n",
    "\n",
    "model.add(layers.Conv2D(32, (3, 3), activation='relu', input_shape=(150, 150, 3)))\n",
    "model.add(layers.MaxPooling2D((2, 2)))\n",
    "\n",
    "model.add(layers.Conv2D(64, (3, 3), activation='relu'))\n",
    "model.add(layers.MaxPooling2D((2, 2)))\n",
    "\n",
    "model.add(layers.Conv2D(128, (3, 3), activation='relu'))\n",
    "model.add(layers.MaxPooling2D((2, 2)))\n",
    "\n",
    "model.add(layers.Conv2D(128, (3, 3), activation='relu'))\n",
    "model.add(layers.MaxPooling2D((2, 2)))\n",
    "\n",
    "model.add(layers.Flatten())\n",
    "\n",
    "model.add(layers.Dropout(0.6))\n",
    "\n",
    "model.add(layers.Dense(512, activation='relu'))\n",
    "\n",
    "model.add(layers.Dense(5, activation='softmax'))\n",
    "\n",
    "\n",
    "model.compile(\n",
    "    loss='categorical_crossentropy',\n",
    "    optimizer=optimizers.RMSprop(lr=1e-4),\n",
    "    metrics=['accuracy']\n",
    ")\n",
    "\n",
    "model.summary()"
   ]
  },
  {
   "cell_type": "markdown",
   "id": "4f501f2f",
   "metadata": {
    "id": "4f501f2f"
   },
   "source": [
    "Rozpocznijmy trening sieci:"
   ]
  },
  {
   "cell_type": "code",
   "execution_count": null,
   "id": "b2567529",
   "metadata": {
    "colab": {
     "base_uri": "https://localhost:8080/"
    },
    "id": "b2567529",
    "outputId": "add84689-a2e9-4230-fabe-2567f1db10d3"
   },
   "outputs": [
    {
     "name": "stdout",
     "output_type": "stream",
     "text": [
      "Found 3459 images belonging to 5 classes.\n",
      "Found 864 images belonging to 5 classes.\n",
      "Epoch 1/50\n",
      "100/100 [==============================] - 20s 198ms/step - loss: 1.2845 - accuracy: 0.4171 - val_loss: 1.2150 - val_accuracy: 0.4600\n",
      "Epoch 2/50\n",
      "100/100 [==============================] - 20s 196ms/step - loss: 1.2218 - accuracy: 0.4684 - val_loss: 1.1443 - val_accuracy: 0.5240\n",
      "Epoch 3/50\n",
      "100/100 [==============================] - 21s 208ms/step - loss: 1.1635 - accuracy: 0.5129 - val_loss: 1.0542 - val_accuracy: 0.5780\n",
      "Epoch 4/50\n",
      "100/100 [==============================] - 20s 202ms/step - loss: 1.1447 - accuracy: 0.5246 - val_loss: 1.0664 - val_accuracy: 0.5740\n",
      "Epoch 5/50\n",
      "100/100 [==============================] - 21s 207ms/step - loss: 1.1006 - accuracy: 0.5620 - val_loss: 0.9831 - val_accuracy: 0.6080\n",
      "Epoch 6/50\n",
      "100/100 [==============================] - 19s 194ms/step - loss: 1.0593 - accuracy: 0.5656 - val_loss: 1.1693 - val_accuracy: 0.5160\n",
      "Epoch 7/50\n",
      "100/100 [==============================] - 21s 212ms/step - loss: 1.0584 - accuracy: 0.5753 - val_loss: 1.0732 - val_accuracy: 0.5720\n",
      "Epoch 8/50\n",
      "100/100 [==============================] - 20s 195ms/step - loss: 1.0263 - accuracy: 0.5874 - val_loss: 0.9453 - val_accuracy: 0.5900\n",
      "Epoch 9/50\n",
      "100/100 [==============================] - 19s 195ms/step - loss: 0.9856 - accuracy: 0.6135 - val_loss: 0.9480 - val_accuracy: 0.6300\n",
      "Epoch 10/50\n",
      "100/100 [==============================] - 21s 208ms/step - loss: 1.0053 - accuracy: 0.6020 - val_loss: 1.0329 - val_accuracy: 0.5780\n",
      "Epoch 11/50\n",
      "100/100 [==============================] - 19s 194ms/step - loss: 0.9711 - accuracy: 0.6167 - val_loss: 0.9335 - val_accuracy: 0.6200\n",
      "Epoch 12/50\n",
      "100/100 [==============================] - 19s 194ms/step - loss: 0.9567 - accuracy: 0.6292 - val_loss: 0.8429 - val_accuracy: 0.6580\n",
      "Epoch 13/50\n",
      "100/100 [==============================] - 19s 192ms/step - loss: 0.9506 - accuracy: 0.6304 - val_loss: 0.9281 - val_accuracy: 0.6200\n",
      "Epoch 14/50\n",
      "100/100 [==============================] - 21s 211ms/step - loss: 0.9552 - accuracy: 0.6329 - val_loss: 0.9886 - val_accuracy: 0.5960\n",
      "Epoch 15/50\n",
      "100/100 [==============================] - 20s 196ms/step - loss: 0.9219 - accuracy: 0.6316 - val_loss: 0.8174 - val_accuracy: 0.6680\n",
      "Epoch 16/50\n",
      "100/100 [==============================] - 19s 194ms/step - loss: 0.9183 - accuracy: 0.6440 - val_loss: 0.8880 - val_accuracy: 0.6560\n",
      "Epoch 17/50\n",
      "100/100 [==============================] - 20s 195ms/step - loss: 0.9075 - accuracy: 0.6486 - val_loss: 0.8722 - val_accuracy: 0.6580\n",
      "Epoch 18/50\n",
      "100/100 [==============================] - 19s 194ms/step - loss: 0.9083 - accuracy: 0.6437 - val_loss: 0.7645 - val_accuracy: 0.6920\n",
      "Epoch 19/50\n",
      "100/100 [==============================] - 19s 191ms/step - loss: 0.8884 - accuracy: 0.6477 - val_loss: 0.8143 - val_accuracy: 0.6580\n",
      "Epoch 20/50\n",
      "100/100 [==============================] - 19s 193ms/step - loss: 0.8929 - accuracy: 0.6536 - val_loss: 0.7983 - val_accuracy: 0.6660\n",
      "Epoch 21/50\n",
      "100/100 [==============================] - 19s 188ms/step - loss: 0.8870 - accuracy: 0.6453 - val_loss: 0.8163 - val_accuracy: 0.6820\n",
      "Epoch 22/50\n",
      "100/100 [==============================] - 19s 191ms/step - loss: 0.8632 - accuracy: 0.6707 - val_loss: 0.7538 - val_accuracy: 0.7180\n",
      "Epoch 23/50\n",
      "100/100 [==============================] - 20s 205ms/step - loss: 0.8621 - accuracy: 0.6663 - val_loss: 0.8899 - val_accuracy: 0.6540\n",
      "Epoch 24/50\n",
      "100/100 [==============================] - 19s 192ms/step - loss: 0.8533 - accuracy: 0.6655 - val_loss: 0.7763 - val_accuracy: 0.6960\n",
      "Epoch 25/50\n",
      "100/100 [==============================] - 19s 194ms/step - loss: 0.8581 - accuracy: 0.6660 - val_loss: 0.8609 - val_accuracy: 0.6500\n",
      "Epoch 26/50\n",
      "100/100 [==============================] - 19s 188ms/step - loss: 0.8442 - accuracy: 0.6755 - val_loss: 0.8502 - val_accuracy: 0.6500\n",
      "Epoch 27/50\n",
      "100/100 [==============================] - 19s 192ms/step - loss: 0.8394 - accuracy: 0.6695 - val_loss: 0.7042 - val_accuracy: 0.7100\n",
      "Epoch 28/50\n",
      "100/100 [==============================] - 20s 205ms/step - loss: 0.8214 - accuracy: 0.6828 - val_loss: 0.7099 - val_accuracy: 0.7040\n",
      "Epoch 29/50\n",
      "100/100 [==============================] - 19s 193ms/step - loss: 0.7981 - accuracy: 0.6892 - val_loss: 0.8755 - val_accuracy: 0.6660\n",
      "Epoch 30/50\n",
      "100/100 [==============================] - 19s 193ms/step - loss: 0.8402 - accuracy: 0.6760 - val_loss: 0.6759 - val_accuracy: 0.7360\n",
      "Epoch 31/50\n",
      "100/100 [==============================] - 19s 193ms/step - loss: 0.8413 - accuracy: 0.6719 - val_loss: 0.7444 - val_accuracy: 0.7040\n",
      "Epoch 32/50\n",
      "100/100 [==============================] - 19s 193ms/step - loss: 0.8318 - accuracy: 0.6864 - val_loss: 0.7047 - val_accuracy: 0.7260\n",
      "Epoch 33/50\n",
      "100/100 [==============================] - 19s 189ms/step - loss: 0.8049 - accuracy: 0.6880 - val_loss: 0.7478 - val_accuracy: 0.7000\n",
      "Epoch 34/50\n",
      "100/100 [==============================] - 19s 189ms/step - loss: 0.8255 - accuracy: 0.6840 - val_loss: 0.7246 - val_accuracy: 0.7100\n",
      "Epoch 35/50\n",
      "100/100 [==============================] - 19s 188ms/step - loss: 0.7799 - accuracy: 0.6932 - val_loss: 0.7166 - val_accuracy: 0.7080\n",
      "Epoch 36/50\n",
      "100/100 [==============================] - 19s 191ms/step - loss: 0.7981 - accuracy: 0.6892 - val_loss: 0.7281 - val_accuracy: 0.7120\n",
      "Epoch 37/50\n",
      "100/100 [==============================] - 19s 187ms/step - loss: 0.8078 - accuracy: 0.6973 - val_loss: 0.7134 - val_accuracy: 0.7060\n",
      "Epoch 38/50\n",
      "100/100 [==============================] - 19s 190ms/step - loss: 0.7788 - accuracy: 0.6976 - val_loss: 0.8390 - val_accuracy: 0.6720\n",
      "Epoch 39/50\n",
      "100/100 [==============================] - 19s 189ms/step - loss: 0.7738 - accuracy: 0.7092 - val_loss: 0.6472 - val_accuracy: 0.7540\n",
      "Epoch 40/50\n",
      "100/100 [==============================] - 19s 188ms/step - loss: 0.8015 - accuracy: 0.6896 - val_loss: 0.7669 - val_accuracy: 0.7060\n",
      "Epoch 41/50\n",
      "100/100 [==============================] - 21s 206ms/step - loss: 0.7772 - accuracy: 0.7028 - val_loss: 0.6906 - val_accuracy: 0.7420\n",
      "Epoch 42/50\n",
      "100/100 [==============================] - 19s 191ms/step - loss: 0.7732 - accuracy: 0.7072 - val_loss: 0.7455 - val_accuracy: 0.7320\n",
      "Epoch 43/50\n",
      "100/100 [==============================] - 19s 189ms/step - loss: 0.7544 - accuracy: 0.7126 - val_loss: 0.6897 - val_accuracy: 0.7220\n",
      "Epoch 44/50\n",
      "100/100 [==============================] - 19s 190ms/step - loss: 0.7553 - accuracy: 0.7126 - val_loss: 0.7770 - val_accuracy: 0.7020\n",
      "Epoch 45/50\n",
      "100/100 [==============================] - 19s 187ms/step - loss: 0.7625 - accuracy: 0.6973 - val_loss: 0.7888 - val_accuracy: 0.6940\n",
      "Epoch 46/50\n",
      "100/100 [==============================] - 19s 190ms/step - loss: 0.7220 - accuracy: 0.7184 - val_loss: 0.6611 - val_accuracy: 0.7340\n",
      "Epoch 47/50\n",
      "100/100 [==============================] - 19s 189ms/step - loss: 0.7421 - accuracy: 0.7073 - val_loss: 0.6733 - val_accuracy: 0.7420\n",
      "Epoch 48/50\n",
      "100/100 [==============================] - 19s 191ms/step - loss: 0.7400 - accuracy: 0.7056 - val_loss: 0.7289 - val_accuracy: 0.6980\n",
      "Epoch 49/50\n",
      "100/100 [==============================] - 19s 190ms/step - loss: 0.7398 - accuracy: 0.7180 - val_loss: 0.7949 - val_accuracy: 0.7000\n",
      "Epoch 50/50\n",
      "100/100 [==============================] - 20s 204ms/step - loss: 0.7449 - accuracy: 0.7158 - val_loss: 0.8213 - val_accuracy: 0.6680\n"
     ]
    }
   ],
   "source": [
    "train_datagen = ImageDataGenerator(\n",
    "    rescale=1./255,\n",
    "    rotation_range=40,\n",
    "    width_shift_range=0.2,\n",
    "    height_shift_range=0.3,\n",
    "    shear_range=0.2,\n",
    "    zoom_range=0.3,\n",
    "    vertical_flip=True\n",
    ")\n",
    "\n",
    "validation_datagen = ImageDataGenerator(rescale=1./255)\n",
    "\n",
    "train_generator = train_datagen.flow_from_directory(\n",
    "    train_dir,\n",
    "    target_size=(150, 150),\n",
    "    batch_size=25,\n",
    "    class_mode=f'categorical'\n",
    ")\n",
    "\n",
    "validation_generator = validation_datagen.flow_from_directory(\n",
    "    validation_dir,\n",
    "    target_size=(150, 150),\n",
    "    batch_size=25,\n",
    "    class_mode=f'categorical'\n",
    ")\n",
    "\n",
    "history = model.fit(\n",
    "    train_generator,\n",
    "    steps_per_epoch=100,\n",
    "    epochs=50,\n",
    "    validation_steps=20,\n",
    "    validation_data=validation_generator\n",
    ")"
   ]
  },
  {
   "cell_type": "markdown",
   "id": "11491932",
   "metadata": {
    "id": "11491932"
   },
   "source": [
    "Zobaczmy jak wyglądają parametry po treningu:"
   ]
  },
  {
   "cell_type": "code",
   "execution_count": null,
   "id": "9e0b4732",
   "metadata": {
    "colab": {
     "base_uri": "https://localhost:8080/",
     "height": 295
    },
    "id": "9e0b4732",
    "outputId": "7a05f1ea-1a1d-4a84-e418-63967c780fb7"
   },
   "outputs": [
    {
     "data": {
      "image/png": "[encoded data removed]",
      "text/plain": [
       "<Figure size 432x288 with 1 Axes>"
      ]
     },
     "metadata": {
      "needs_background": "light"
     },
     "output_type": "display_data"
    }
   ],
   "source": [
    "draw_loss_plot(history)"
   ]
  },
  {
   "cell_type": "code",
   "execution_count": null,
   "id": "1df5ede3",
   "metadata": {
    "colab": {
     "base_uri": "https://localhost:8080/",
     "height": 295
    },
    "id": "1df5ede3",
    "outputId": "31a062a9-ea84-44cf-acac-2c6266636cea"
   },
   "outputs": [
    {
     "data": {
      "image/png": "[encoded data removed]",
      "text/plain": [
       "<Figure size 432x288 with 1 Axes>"
      ]
     },
     "metadata": {
      "needs_background": "light"
     },
     "output_type": "display_data"
    }
   ],
   "source": [
    "draw_accuracy_plot(history)"
   ]
  },
  {
   "cell_type": "markdown",
   "id": "cH1S9jxjSzkz",
   "metadata": {
    "id": "cH1S9jxjSzkz"
   },
   "source": [
    "Analizując otrzymane dane można dojść do wniosku, że tak naprawdę przez ten zabieg pogorszyliśmy jakość naszego modelu. Jednakże zamieszczone wykresy przedstawiają troszeczkę coś innego - strata na zbiorze walidacyjnym jest mniejsza niż w poprzednim modelu (dla zbioru treningowego niestety wzrosła, ale jest to normalne przy walce z overfittingiem - coś za coś) i poza tym malała (ale wolno) wraz z liczbą epok (czyli jest na odwrót niż w poprzednim modelu). Z drugiego wykresu wynika, że skuteczność na obu zbiorach dla tego modelu rosła (wolno) wraz z liczbą epok - czyli znowu mamy pewną poprawę w stosunku do poprzedniego modelu, gdzie np. skuteczność na zbiorze walidacyjnym utrzymywała się mniej więcej na takim samym poziomie."
   ]
  },
  {
   "cell_type": "markdown",
   "id": "2db48a2a",
   "metadata": {
    "id": "2db48a2a"
   },
   "source": [
    "### Transfer learning"
   ]
  },
  {
   "cell_type": "markdown",
   "id": "b7af6656",
   "metadata": {
    "id": "b7af6656"
   },
   "source": [
    "W tym punkcie zastosoujemy wcześniej wytrenowaną sieć neuronową na bardzo dużym zbiorze danych. Przerobimy tą sieć w taki sposób, że usuniemy warstwy gęste na \"górze\" sieci (w ich miejsce wstawimy własne warstwy gęste), a zostawimy wytrenowane warstwy konwolucyjne (zakładamy, że one bardzo dobrze wydobywają cechy z obrazków, ponieważ były trenowane na bardzo dużym zbiorze danych)."
   ]
  },
  {
   "cell_type": "code",
   "execution_count": null,
   "id": "5256516f",
   "metadata": {
    "colab": {
     "base_uri": "https://localhost:8080/"
    },
    "id": "5256516f",
    "outputId": "05fbdcef-e14f-488a-aa50-dc2b0742d89c"
   },
   "outputs": [
    {
     "name": "stdout",
     "output_type": "stream",
     "text": [
      "Downloading data from https://storage.googleapis.com/tensorflow/keras-applications/vgg16/vgg16_weights_tf_dim_ordering_tf_kernels_notop.h5\n",
      "58889256/58889256 [==============================] - 2s 0us/step\n"
     ]
    }
   ],
   "source": [
    "from keras.applications import VGG16\n",
    "\n",
    "convolutional_base = VGG16(\n",
    "    weights='imagenet',\n",
    "    include_top=False,\n",
    "    input_shape=(150, 150, 3)\n",
    ")"
   ]
  },
  {
   "cell_type": "markdown",
   "id": "7cc910b7",
   "metadata": {
    "id": "7cc910b7"
   },
   "source": [
    "Zobaczmy jakie są parametry tej sieci:"
   ]
  },
  {
   "cell_type": "code",
   "execution_count": null,
   "id": "8f4a1ce1",
   "metadata": {
    "colab": {
     "base_uri": "https://localhost:8080/"
    },
    "id": "8f4a1ce1",
    "outputId": "b578fb66-1002-4e42-fb24-5a6299d4274b"
   },
   "outputs": [
    {
     "name": "stdout",
     "output_type": "stream",
     "text": [
      "Model: \"vgg16\"\n",
      "_________________________________________________________________\n",
      " Layer (type)                Output Shape              Param #   \n",
      "=================================================================\n",
      " input_1 (InputLayer)        [(None, 150, 150, 3)]     0         \n",
      "                                                                 \n",
      " block1_conv1 (Conv2D)       (None, 150, 150, 64)      1792      \n",
      "                                                                 \n",
      " block1_conv2 (Conv2D)       (None, 150, 150, 64)      36928     \n",
      "                                                                 \n",
      " block1_pool (MaxPooling2D)  (None, 75, 75, 64)        0         \n",
      "                                                                 \n",
      " block2_conv1 (Conv2D)       (None, 75, 75, 128)       73856     \n",
      "                                                                 \n",
      " block2_conv2 (Conv2D)       (None, 75, 75, 128)       147584    \n",
      "                                                                 \n",
      " block2_pool (MaxPooling2D)  (None, 37, 37, 128)       0         \n",
      "                                                                 \n",
      " block3_conv1 (Conv2D)       (None, 37, 37, 256)       295168    \n",
      "                                                                 \n",
      " block3_conv2 (Conv2D)       (None, 37, 37, 256)       590080    \n",
      "                                                                 \n",
      " block3_conv3 (Conv2D)       (None, 37, 37, 256)       590080    \n",
      "                                                                 \n",
      " block3_pool (MaxPooling2D)  (None, 18, 18, 256)       0         \n",
      "                                                                 \n",
      " block4_conv1 (Conv2D)       (None, 18, 18, 512)       1180160   \n",
      "                                                                 \n",
      " block4_conv2 (Conv2D)       (None, 18, 18, 512)       2359808   \n",
      "                                                                 \n",
      " block4_conv3 (Conv2D)       (None, 18, 18, 512)       2359808   \n",
      "                                                                 \n",
      " block4_pool (MaxPooling2D)  (None, 9, 9, 512)         0         \n",
      "                                                                 \n",
      " block5_conv1 (Conv2D)       (None, 9, 9, 512)         2359808   \n",
      "                                                                 \n",
      " block5_conv2 (Conv2D)       (None, 9, 9, 512)         2359808   \n",
      "                                                                 \n",
      " block5_conv3 (Conv2D)       (None, 9, 9, 512)         2359808   \n",
      "                                                                 \n",
      " block5_pool (MaxPooling2D)  (None, 4, 4, 512)         0         \n",
      "                                                                 \n",
      "=================================================================\n",
      "Total params: 14,714,688\n",
      "Trainable params: 14,714,688\n",
      "Non-trainable params: 0\n",
      "_________________________________________________________________\n"
     ]
    }
   ],
   "source": [
    "convolutional_base.summary()"
   ]
  },
  {
   "cell_type": "markdown",
   "id": "1a8dc9f9",
   "metadata": {
    "id": "1a8dc9f9"
   },
   "source": [
    "Mamy tylko warstwy konwolucyjne z wagami z jakiejś większej sieci. Teraz dodamy naszą własną warstwe gęstą (również zachowamy warstwe dropout):"
   ]
  },
  {
   "cell_type": "code",
   "execution_count": null,
   "id": "6a4b3ca5",
   "metadata": {
    "colab": {
     "base_uri": "https://localhost:8080/"
    },
    "id": "6a4b3ca5",
    "outputId": "5d4ca7a4-d317-4abe-eaaf-8bee0e167d17"
   },
   "outputs": [
    {
     "name": "stdout",
     "output_type": "stream",
     "text": [
      "Model: \"sequential_6\"\n",
      "_________________________________________________________________\n",
      " Layer (type)                Output Shape              Param #   \n",
      "=================================================================\n",
      " vgg16 (Functional)          (None, 4, 4, 512)         14714688  \n",
      "                                                                 \n",
      " flatten_6 (Flatten)         (None, 8192)              0         \n",
      "                                                                 \n",
      " dropout_4 (Dropout)         (None, 8192)              0         \n",
      "                                                                 \n",
      " dense_12 (Dense)            (None, 512)               4194816   \n",
      "                                                                 \n",
      " dense_13 (Dense)            (None, 5)                 2565      \n",
      "                                                                 \n",
      "=================================================================\n",
      "Total params: 18,912,069\n",
      "Trainable params: 4,197,381\n",
      "Non-trainable params: 14,714,688\n",
      "_________________________________________________________________\n"
     ]
    }
   ],
   "source": [
    "convolutional_base.trainable = False\n",
    "\n",
    "model = models.Sequential()\n",
    "\n",
    "model.add(convolutional_base)\n",
    "\n",
    "model.add(layers.Flatten())\n",
    "\n",
    "model.add(layers.Dropout(0.4))\n",
    "\n",
    "model.add(layers.Dense(512, activation='relu'))\n",
    "\n",
    "model.add(layers.Dense(5, activation='softmax'))\n",
    "\n",
    "model.compile(\n",
    "    loss='categorical_crossentropy',\n",
    "    optimizer=optimizers.RMSprop(learning_rate=1e-4),\n",
    "    metrics=['accuracy']\n",
    ")\n",
    "\n",
    "model.summary()"
   ]
  },
  {
   "cell_type": "markdown",
   "id": "d54e3826",
   "metadata": {
    "id": "d54e3826"
   },
   "source": [
    "Wytrenujmy model i sprawdźmy jego parametry:"
   ]
  },
  {
   "cell_type": "code",
   "execution_count": null,
   "id": "3f5be38e",
   "metadata": {
    "colab": {
     "base_uri": "https://localhost:8080/"
    },
    "id": "3f5be38e",
    "outputId": "8699a004-99ee-441f-9bf9-4f922b4e6499"
   },
   "outputs": [
    {
     "name": "stdout",
     "output_type": "stream",
     "text": [
      "Found 3459 images belonging to 5 classes.\n",
      "Found 864 images belonging to 5 classes.\n",
      "Epoch 1/30\n",
      "100/100 [==============================] - 22s 218ms/step - loss: 1.1988 - accuracy: 0.5274 - val_loss: 0.9155 - val_accuracy: 0.6420\n",
      "Epoch 2/30\n",
      "100/100 [==============================] - 21s 208ms/step - loss: 1.0174 - accuracy: 0.6027 - val_loss: 0.7574 - val_accuracy: 0.7220\n",
      "Epoch 3/30\n",
      "100/100 [==============================] - 21s 207ms/step - loss: 0.9733 - accuracy: 0.6232 - val_loss: 0.6650 - val_accuracy: 0.7580\n",
      "Epoch 4/30\n",
      "100/100 [==============================] - 22s 222ms/step - loss: 0.9306 - accuracy: 0.6425 - val_loss: 0.6787 - val_accuracy: 0.7420\n",
      "Epoch 5/30\n",
      "100/100 [==============================] - 21s 214ms/step - loss: 0.8977 - accuracy: 0.6655 - val_loss: 0.6369 - val_accuracy: 0.7680\n",
      "Epoch 6/30\n",
      "100/100 [==============================] - 22s 215ms/step - loss: 0.8920 - accuracy: 0.6723 - val_loss: 0.6924 - val_accuracy: 0.7600\n",
      "Epoch 7/30\n",
      "100/100 [==============================] - 22s 215ms/step - loss: 0.8585 - accuracy: 0.6872 - val_loss: 0.7106 - val_accuracy: 0.7340\n",
      "Epoch 8/30\n",
      "100/100 [==============================] - 21s 212ms/step - loss: 0.8813 - accuracy: 0.6715 - val_loss: 0.6141 - val_accuracy: 0.7840\n",
      "Epoch 9/30\n",
      "100/100 [==============================] - 21s 210ms/step - loss: 0.8661 - accuracy: 0.6828 - val_loss: 0.6073 - val_accuracy: 0.7780\n",
      "Epoch 10/30\n",
      "100/100 [==============================] - 21s 208ms/step - loss: 0.8418 - accuracy: 0.6795 - val_loss: 0.6224 - val_accuracy: 0.7620\n",
      "Epoch 11/30\n",
      "100/100 [==============================] - 21s 209ms/step - loss: 0.8410 - accuracy: 0.6816 - val_loss: 0.6323 - val_accuracy: 0.7660\n",
      "Epoch 12/30\n",
      "100/100 [==============================] - 21s 208ms/step - loss: 0.8753 - accuracy: 0.6759 - val_loss: 0.6465 - val_accuracy: 0.7760\n",
      "Epoch 13/30\n",
      "100/100 [==============================] - 21s 208ms/step - loss: 0.8391 - accuracy: 0.6940 - val_loss: 0.6191 - val_accuracy: 0.7880\n",
      "Epoch 14/30\n",
      "100/100 [==============================] - 21s 210ms/step - loss: 0.8231 - accuracy: 0.6989 - val_loss: 0.6524 - val_accuracy: 0.7500\n",
      "Epoch 15/30\n",
      "100/100 [==============================] - 21s 211ms/step - loss: 0.7902 - accuracy: 0.6948 - val_loss: 0.6555 - val_accuracy: 0.7660\n",
      "Epoch 16/30\n",
      "100/100 [==============================] - 21s 207ms/step - loss: 0.8421 - accuracy: 0.6965 - val_loss: 0.6642 - val_accuracy: 0.7800\n",
      "Epoch 17/30\n",
      "100/100 [==============================] - 21s 207ms/step - loss: 0.8050 - accuracy: 0.7053 - val_loss: 0.6814 - val_accuracy: 0.7600\n",
      "Epoch 18/30\n",
      "100/100 [==============================] - 21s 209ms/step - loss: 0.8247 - accuracy: 0.6884 - val_loss: 0.5578 - val_accuracy: 0.8040\n",
      "Epoch 19/30\n",
      "100/100 [==============================] - 21s 211ms/step - loss: 0.7925 - accuracy: 0.7045 - val_loss: 0.6207 - val_accuracy: 0.7840\n",
      "Epoch 20/30\n",
      "100/100 [==============================] - 21s 211ms/step - loss: 0.7812 - accuracy: 0.7114 - val_loss: 0.6195 - val_accuracy: 0.7960\n",
      "Epoch 21/30\n",
      "100/100 [==============================] - 21s 210ms/step - loss: 0.8020 - accuracy: 0.7072 - val_loss: 0.6077 - val_accuracy: 0.7880\n",
      "Epoch 22/30\n",
      "100/100 [==============================] - 21s 213ms/step - loss: 0.7723 - accuracy: 0.7234 - val_loss: 0.6039 - val_accuracy: 0.7760\n",
      "Epoch 23/30\n",
      "100/100 [==============================] - 21s 213ms/step - loss: 0.7823 - accuracy: 0.7136 - val_loss: 0.5917 - val_accuracy: 0.7720\n",
      "Epoch 24/30\n",
      "100/100 [==============================] - 23s 226ms/step - loss: 0.7843 - accuracy: 0.7053 - val_loss: 0.5860 - val_accuracy: 0.7900\n",
      "Epoch 25/30\n",
      "100/100 [==============================] - 21s 209ms/step - loss: 0.7695 - accuracy: 0.7182 - val_loss: 0.5914 - val_accuracy: 0.8020\n",
      "Epoch 26/30\n",
      "100/100 [==============================] - 21s 210ms/step - loss: 0.7939 - accuracy: 0.7061 - val_loss: 0.6799 - val_accuracy: 0.7440\n",
      "Epoch 27/30\n",
      "100/100 [==============================] - 21s 213ms/step - loss: 0.7838 - accuracy: 0.7096 - val_loss: 0.5849 - val_accuracy: 0.8020\n",
      "Epoch 28/30\n",
      "100/100 [==============================] - 21s 209ms/step - loss: 0.7675 - accuracy: 0.7146 - val_loss: 0.5828 - val_accuracy: 0.7960\n",
      "Epoch 29/30\n",
      "100/100 [==============================] - 21s 213ms/step - loss: 0.7709 - accuracy: 0.7140 - val_loss: 0.6747 - val_accuracy: 0.7580\n",
      "Epoch 30/30\n",
      "100/100 [==============================] - 21s 211ms/step - loss: 0.7696 - accuracy: 0.7248 - val_loss: 0.6240 - val_accuracy: 0.7680\n"
     ]
    }
   ],
   "source": [
    "train_datagen = ImageDataGenerator(\n",
    "    rescale=1./255,\n",
    "    rotation_range=40,\n",
    "    width_shift_range=0.2,\n",
    "    height_shift_range=0.3,\n",
    "    shear_range=0.2,\n",
    "    zoom_range=0.3,\n",
    "    vertical_flip=True\n",
    ")\n",
    "\n",
    "validation_datagen = ImageDataGenerator(rescale=1./255)\n",
    "\n",
    "train_generator = train_datagen.flow_from_directory(\n",
    "    train_dir,\n",
    "    target_size=(150, 150),\n",
    "    batch_size=25,\n",
    "    class_mode=f'categorical'\n",
    ")\n",
    "\n",
    "validation_generator = validation_datagen.flow_from_directory(\n",
    "    validation_dir,\n",
    "    target_size=(150, 150),\n",
    "    batch_size=25,\n",
    "    class_mode=f'categorical'\n",
    ")\n",
    "\n",
    "history = model.fit(\n",
    "    train_generator,\n",
    "    steps_per_epoch=100,\n",
    "    epochs=30,\n",
    "    validation_steps=20,\n",
    "    validation_data=validation_generator\n",
    ")"
   ]
  },
  {
   "cell_type": "code",
   "execution_count": null,
   "id": "39768b68",
   "metadata": {
    "colab": {
     "base_uri": "https://localhost:8080/",
     "height": 295
    },
    "id": "39768b68",
    "outputId": "2baaf746-29e2-49c2-e179-3114ee615b02"
   },
   "outputs": [
    {
     "data": {
      "image/png": "[encoded data removed]",
      "text/plain": [
       "<Figure size 432x288 with 1 Axes>"
      ]
     },
     "metadata": {
      "needs_background": "light"
     },
     "output_type": "display_data"
    }
   ],
   "source": [
    "draw_loss_plot(history)"
   ]
  },
  {
   "cell_type": "code",
   "execution_count": null,
   "id": "ff88b150",
   "metadata": {
    "colab": {
     "base_uri": "https://localhost:8080/",
     "height": 295
    },
    "id": "ff88b150",
    "outputId": "c070b017-6bc2-4214-f4f3-cd21730dd4f4"
   },
   "outputs": [
    {
     "data": {
      "image/png": "[encoded data removed]",
      "text/plain": [
       "<Figure size 432x288 with 1 Axes>"
      ]
     },
     "metadata": {
      "needs_background": "light"
     },
     "output_type": "display_data"
    }
   ],
   "source": [
    "draw_accuracy_plot(history)"
   ]
  },
  {
   "cell_type": "markdown",
   "id": "2yP9XYDjaSmf",
   "metadata": {
    "id": "2yP9XYDjaSmf"
   },
   "source": [
    "Z powyższych wykresów wynika, że udało nam się osiągnąć skuteczność na zbiorze walidacyjnym rzędu $80 \\%$ - jest to znaczna poprawa w stosunku do $2$ poprzednich modeli. Również strata na zbiorze walidacyjnym jest mniejsza niż w poprzednich modelach."
   ]
  },
  {
   "cell_type": "markdown",
   "id": "78057f64",
   "metadata": {
    "id": "78057f64"
   },
   "source": [
    "### Fine tunning"
   ]
  },
  {
   "cell_type": "markdown",
   "id": "c1d9b093",
   "metadata": {
    "id": "c1d9b093"
   },
   "source": [
    "W tej sytuacj nie \"zamrażamy\" warstw konwolucyjnych, ale pozwalamy na to, aby algorytm wstecznej propagacji trochę pozmieniał wagi w niektórych warstwach konwolucyjnych (intuicja: bardziej \"skroimy\" model pod nasze zastosowania). Poniższy kod ustawia część warstw jako te, które trening zmieni:"
   ]
  },
  {
   "cell_type": "code",
   "execution_count": null,
   "id": "da771431",
   "metadata": {
    "collapsed": true,
    "id": "da771431"
   },
   "outputs": [],
   "source": [
    "convolutional_base.trainable = True\n",
    "\n",
    "set_trainable = False\n",
    "\n",
    "for layer in convolutional_base.layers:\n",
    "    if layer.name == 'block5_conv1':\n",
    "        set_trainable = True\n",
    "    if set_trainable:\n",
    "        layer.trainable = True\n",
    "    else:\n",
    "        layer.trainable = False"
   ]
  },
  {
   "cell_type": "markdown",
   "id": "96bbdd1d",
   "metadata": {
    "id": "96bbdd1d"
   },
   "source": [
    "Następnie znowu uruchamiamy trening sieci neuronowej i wyświetlamy wyniki:"
   ]
  },
  {
   "cell_type": "code",
   "execution_count": null,
   "id": "d7c1aabc",
   "metadata": {
    "colab": {
     "base_uri": "https://localhost:8080/"
    },
    "id": "d7c1aabc",
    "outputId": "4bbad862-958a-4a14-854c-de93ca3871f7"
   },
   "outputs": [
    {
     "name": "stdout",
     "output_type": "stream",
     "text": [
      "Model: \"sequential_8\"\n",
      "_________________________________________________________________\n",
      " Layer (type)                Output Shape              Param #   \n",
      "=================================================================\n",
      " vgg16 (Functional)          (None, 4, 4, 512)         14714688  \n",
      "                                                                 \n",
      " flatten_8 (Flatten)         (None, 8192)              0         \n",
      "                                                                 \n",
      " dropout_6 (Dropout)         (None, 8192)              0         \n",
      "                                                                 \n",
      " dense_16 (Dense)            (None, 512)               4194816   \n",
      "                                                                 \n",
      " dense_17 (Dense)            (None, 5)                 2565      \n",
      "                                                                 \n",
      "=================================================================\n",
      "Total params: 18,912,069\n",
      "Trainable params: 11,276,805\n",
      "Non-trainable params: 7,635,264\n",
      "_________________________________________________________________\n"
     ]
    },
    {
     "name": "stderr",
     "output_type": "stream",
     "text": [
      "/usr/local/lib/python3.8/dist-packages/keras/optimizers/optimizer_v2/rmsprop.py:135: UserWarning: The `lr` argument is deprecated, use `learning_rate` instead.\n",
      "  super(RMSprop, self).__init__(name, **kwargs)\n"
     ]
    }
   ],
   "source": [
    "model = models.Sequential()\n",
    "\n",
    "model.add(convolutional_base)\n",
    "\n",
    "model.add(layers.Flatten())\n",
    "\n",
    "model.add(layers.Dropout(0.6))\n",
    "\n",
    "model.add(layers.Dense(512, activation='relu'))\n",
    "\n",
    "model.add(layers.Dense(5, activation='softmax'))\n",
    "\n",
    "model.compile(\n",
    "    loss='categorical_crossentropy',\n",
    "    optimizer=optimizers.RMSprop(lr=1e-4),\n",
    "    metrics=['accuracy']\n",
    ")\n",
    "\n",
    "model.summary()"
   ]
  },
  {
   "cell_type": "code",
   "execution_count": null,
   "id": "htYB_2wsawLH",
   "metadata": {
    "colab": {
     "base_uri": "https://localhost:8080/"
    },
    "id": "htYB_2wsawLH",
    "outputId": "82bd5e92-1464-4315-a26b-27143f706d89"
   },
   "outputs": [
    {
     "name": "stdout",
     "output_type": "stream",
     "text": [
      "Found 3459 images belonging to 5 classes.\n",
      "Found 864 images belonging to 5 classes.\n",
      "Epoch 1/30\n",
      "100/100 [==============================] - 41s 219ms/step - loss: 1.1452 - accuracy: 0.5400 - val_loss: 0.8489 - val_accuracy: 0.7000\n",
      "Epoch 2/30\n",
      "100/100 [==============================] - 22s 218ms/step - loss: 0.7715 - accuracy: 0.7136 - val_loss: 0.5615 - val_accuracy: 0.7840\n",
      "Epoch 3/30\n",
      "100/100 [==============================] - 22s 219ms/step - loss: 0.7227 - accuracy: 0.7307 - val_loss: 0.5223 - val_accuracy: 0.8120\n",
      "Epoch 4/30\n",
      "100/100 [==============================] - 22s 224ms/step - loss: 0.6184 - accuracy: 0.7738 - val_loss: 0.4885 - val_accuracy: 0.8120\n",
      "Epoch 5/30\n",
      "100/100 [==============================] - 23s 231ms/step - loss: 0.5928 - accuracy: 0.7814 - val_loss: 0.8924 - val_accuracy: 0.7420\n",
      "Epoch 6/30\n",
      "100/100 [==============================] - 22s 218ms/step - loss: 0.5575 - accuracy: 0.7975 - val_loss: 0.4932 - val_accuracy: 0.8340\n",
      "Epoch 7/30\n",
      "100/100 [==============================] - 22s 219ms/step - loss: 0.5303 - accuracy: 0.8088 - val_loss: 0.8819 - val_accuracy: 0.7980\n",
      "Epoch 8/30\n",
      "100/100 [==============================] - 22s 219ms/step - loss: 0.5798 - accuracy: 0.7919 - val_loss: 0.4911 - val_accuracy: 0.8280\n",
      "Epoch 9/30\n",
      "100/100 [==============================] - 23s 231ms/step - loss: 0.5301 - accuracy: 0.8220 - val_loss: 0.4303 - val_accuracy: 0.8700\n",
      "Epoch 10/30\n",
      "100/100 [==============================] - 22s 215ms/step - loss: 0.5161 - accuracy: 0.8140 - val_loss: 0.5257 - val_accuracy: 0.8300\n",
      "Epoch 11/30\n",
      "100/100 [==============================] - 21s 214ms/step - loss: 0.5203 - accuracy: 0.8265 - val_loss: 0.7534 - val_accuracy: 0.8300\n",
      "Epoch 12/30\n",
      "100/100 [==============================] - 21s 212ms/step - loss: 0.5033 - accuracy: 0.8188 - val_loss: 0.5594 - val_accuracy: 0.8480\n",
      "Epoch 13/30\n",
      "100/100 [==============================] - 21s 212ms/step - loss: 0.4971 - accuracy: 0.8280 - val_loss: 0.5309 - val_accuracy: 0.8540\n",
      "Epoch 14/30\n",
      "100/100 [==============================] - 23s 229ms/step - loss: 0.5124 - accuracy: 0.8277 - val_loss: 0.4595 - val_accuracy: 0.8520\n",
      "Epoch 15/30\n",
      "100/100 [==============================] - 22s 215ms/step - loss: 0.4612 - accuracy: 0.8376 - val_loss: 0.7885 - val_accuracy: 0.8320\n",
      "Epoch 16/30\n",
      "100/100 [==============================] - 21s 213ms/step - loss: 0.4851 - accuracy: 0.8268 - val_loss: 0.5273 - val_accuracy: 0.8620\n",
      "Epoch 17/30\n",
      "100/100 [==============================] - 21s 213ms/step - loss: 0.4452 - accuracy: 0.8466 - val_loss: 1.7448 - val_accuracy: 0.7760\n",
      "Epoch 18/30\n",
      "100/100 [==============================] - 21s 214ms/step - loss: 0.4811 - accuracy: 0.8353 - val_loss: 0.4889 - val_accuracy: 0.8300\n",
      "Epoch 19/30\n",
      "100/100 [==============================] - 21s 213ms/step - loss: 0.4782 - accuracy: 0.8460 - val_loss: 0.5626 - val_accuracy: 0.8500\n",
      "Epoch 20/30\n",
      "100/100 [==============================] - 22s 216ms/step - loss: 0.4575 - accuracy: 0.8500 - val_loss: 0.4992 - val_accuracy: 0.8760\n",
      "Epoch 21/30\n",
      "100/100 [==============================] - 21s 214ms/step - loss: 0.4305 - accuracy: 0.8448 - val_loss: 0.6902 - val_accuracy: 0.8460\n",
      "Epoch 22/30\n",
      "100/100 [==============================] - 22s 216ms/step - loss: 0.4884 - accuracy: 0.8400 - val_loss: 0.6238 - val_accuracy: 0.8080\n",
      "Epoch 23/30\n",
      "100/100 [==============================] - 23s 228ms/step - loss: 0.4881 - accuracy: 0.8380 - val_loss: 0.5123 - val_accuracy: 0.8440\n",
      "Epoch 24/30\n",
      "100/100 [==============================] - 22s 216ms/step - loss: 0.4568 - accuracy: 0.8528 - val_loss: 0.4848 - val_accuracy: 0.8720\n",
      "Epoch 25/30\n",
      "100/100 [==============================] - 21s 214ms/step - loss: 0.4540 - accuracy: 0.8496 - val_loss: 0.5425 - val_accuracy: 0.8540\n",
      "Epoch 26/30\n",
      "100/100 [==============================] - 22s 216ms/step - loss: 0.4618 - accuracy: 0.8486 - val_loss: 0.9968 - val_accuracy: 0.8320\n",
      "Epoch 27/30\n",
      "100/100 [==============================] - 22s 216ms/step - loss: 0.4612 - accuracy: 0.8482 - val_loss: 0.8367 - val_accuracy: 0.8700\n",
      "Epoch 28/30\n",
      "100/100 [==============================] - 23s 223ms/step - loss: 0.5259 - accuracy: 0.8492 - val_loss: 0.5471 - val_accuracy: 0.8400\n",
      "Epoch 29/30\n",
      "100/100 [==============================] - 22s 217ms/step - loss: 0.4513 - accuracy: 0.8611 - val_loss: 0.5140 - val_accuracy: 0.8480\n",
      "Epoch 30/30\n",
      "100/100 [==============================] - 22s 215ms/step - loss: 0.4714 - accuracy: 0.8490 - val_loss: 0.8737 - val_accuracy: 0.8320\n"
     ]
    }
   ],
   "source": [
    "train_datagen = ImageDataGenerator(\n",
    "    rescale=1./255,\n",
    "    rotation_range=40,\n",
    "    width_shift_range=0.2,\n",
    "    height_shift_range=0.3,\n",
    "    shear_range=0.2,\n",
    "    zoom_range=0.3,\n",
    "    vertical_flip=True\n",
    ")\n",
    "\n",
    "validation_datagen = ImageDataGenerator(rescale=1./255)\n",
    "\n",
    "train_generator = train_datagen.flow_from_directory(\n",
    "    train_dir,\n",
    "    target_size=(150, 150),\n",
    "    batch_size=25,\n",
    "    class_mode=f'categorical'\n",
    ")\n",
    "\n",
    "validation_generator = validation_datagen.flow_from_directory(\n",
    "    validation_dir,\n",
    "    target_size=(150, 150),\n",
    "    batch_size=25,\n",
    "    class_mode=f'categorical'\n",
    ")\n",
    "\n",
    "history = model.fit(\n",
    "    train_generator,\n",
    "    steps_per_epoch=100,\n",
    "    epochs=30,\n",
    "    validation_steps=20,\n",
    "    validation_data=validation_generator\n",
    ")"
   ]
  },
  {
   "cell_type": "code",
   "execution_count": null,
   "id": "b65d3012",
   "metadata": {
    "colab": {
     "base_uri": "https://localhost:8080/",
     "height": 295
    },
    "id": "b65d3012",
    "outputId": "8a8d0dbf-9058-44d8-d868-6cd002bc6920"
   },
   "outputs": [
    {
     "data": {
      "image/png": "[encoded data removed]",
      "text/plain": [
       "<Figure size 432x288 with 1 Axes>"
      ]
     },
     "metadata": {
      "needs_background": "light"
     },
     "output_type": "display_data"
    }
   ],
   "source": [
    "draw_loss_plot(history)"
   ]
  },
  {
   "cell_type": "code",
   "execution_count": null,
   "id": "efd99ebf",
   "metadata": {
    "colab": {
     "base_uri": "https://localhost:8080/",
     "height": 295
    },
    "id": "efd99ebf",
    "outputId": "25e4d420-9405-445d-d3d1-51db1edb3607"
   },
   "outputs": [
    {
     "data": {
      "image/png": "[encoded data removed]",
      "text/plain": [
       "<Figure size 432x288 with 1 Axes>"
      ]
     },
     "metadata": {
      "needs_background": "light"
     },
     "output_type": "display_data"
    }
   ],
   "source": [
    "draw_accuracy_plot(history)"
   ]
  },
  {
   "cell_type": "markdown",
   "id": "dryIsceSfZOh",
   "metadata": {
    "id": "dryIsceSfZOh"
   },
   "source": [
    "Widać na dwóch powyższych wykresach, że skuteczność modelu jest lepsza niż w poprzednim przypadku (na obu zbiorach)."
   ]
  }
 ],
 "metadata": {
  "accelerator": "GPU",
  "colab": {
   "provenance": []
  },
  "gpuClass": "standard",
  "kernelspec": {
   "display_name": "Python 3 (ipykernel)",
   "language": "python",
   "name": "python3"
  },
  "language_info": {
   "codemirror_mode": {
    "name": "ipython",
    "version": 3
   },
   "file_extension": ".py",
   "mimetype": "text/x-python",
   "name": "python",
   "nbconvert_exporter": "python",
   "pygments_lexer": "ipython3",
   "version": "3.8.10"
  }
 },
 "nbformat": 4,
 "nbformat_minor": 5
}
