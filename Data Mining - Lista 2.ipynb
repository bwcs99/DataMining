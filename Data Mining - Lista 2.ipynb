{
 "cells": [
  {
   "cell_type": "markdown",
   "id": "1930570a",
   "metadata": {},
   "source": [
    "# Lista 2 - rozwiązania"
   ]
  },
  {
   "cell_type": "code",
   "execution_count": 1,
   "id": "624e3163",
   "metadata": {},
   "outputs": [],
   "source": [
    "import numpy as np\n",
    "import matplotlib.pyplot as plt\n",
    "import pandas as pd\n",
    "import statsmodels.api as sm\n",
    "import seaborn as sns\n",
    "from patsy import dmatrices\n",
    "from sklearn import metrics"
   ]
  },
  {
   "cell_type": "markdown",
   "id": "8e6e7077",
   "metadata": {},
   "source": [
    "## Zadanie 9"
   ]
  },
  {
   "cell_type": "markdown",
   "id": "f9a7a619",
   "metadata": {},
   "source": [
    "W zadaniu 9 należało rozwiązać zadania numer 13 i 14 z ćwiczeń z regresji liniowej zamieszczonych w podanej książce."
   ]
  },
  {
   "cell_type": "markdown",
   "id": "6320252c",
   "metadata": {},
   "source": [
    "### Zadanie 13"
   ]
  },
  {
   "cell_type": "markdown",
   "id": "7b979b6c",
   "metadata": {},
   "source": [
    "W zadaniu 13 mamy do czynienia z prostym modelem regresji liniowej (tylko jeden predyktor $x$ i dwa parametry do estymowania $\\beta_{0}$ oraz $\\beta_{1}$). W podpunkcie *a* należało utworzyć wektor **x** zawierający 100 obserwacji z rozkładu $N(0, 1)$. Ten wektor będzie reprezentował naszą cechę (predytkor) $X$."
   ]
  },
  {
   "cell_type": "code",
   "execution_count": 3,
   "id": "3ce69768",
   "metadata": {},
   "outputs": [],
   "source": [
    "x = np.random.normal(0, 1, size=100)"
   ]
  },
  {
   "cell_type": "code",
   "execution_count": 4,
   "id": "64b651bf",
   "metadata": {},
   "outputs": [
    {
     "name": "stdout",
     "output_type": "stream",
     "text": [
      "Wektor x: [ 6.99504671e-02  2.37609623e-03  1.56017421e+00  1.16926342e+00\n",
      " -8.94968966e-02 -1.24225561e+00 -1.80105003e+00  1.28047906e+00\n",
      " -1.02924644e+00  3.91091363e-01 -8.82989829e-01 -1.16773071e+00\n",
      "  3.78917118e-01  5.06770454e-01 -1.45287873e+00  5.78219370e-01\n",
      " -2.32872162e-01  2.61454688e-02  1.47538472e-01  1.20127416e-01\n",
      " -1.19469792e+00  3.24273151e-01  1.22587495e+00  4.70795851e-02\n",
      "  1.06123686e+00  4.21970729e-01 -3.42346269e-01 -3.10182791e-01\n",
      "  1.78192895e+00  1.76450108e+00 -1.20793907e+00  5.84145021e-01\n",
      " -3.21626798e-01 -8.01870538e-01 -3.79702735e-01  1.06552223e+00\n",
      " -2.03694609e+00  7.78844379e-02  7.44823808e-02 -1.17186146e+00\n",
      " -4.75586568e-02  9.18417502e-01  1.90318767e+00 -1.00517722e+00\n",
      " -1.21302602e-01 -2.21595682e-01  9.44619007e-01  7.10876250e-01\n",
      "  1.67984695e+00  6.46357470e-01  1.36451155e+00 -5.80720449e-01\n",
      " -1.34539673e-01 -1.07373524e+00 -1.73059710e+00  1.69905790e-01\n",
      "  1.69920982e+00 -1.88033777e-01  1.01579993e+00  1.09728405e+00\n",
      "  2.34610213e-01  1.17539118e+00  9.25286630e-02 -1.02761827e+00\n",
      "  1.27524529e+00  1.91351050e+00 -3.88824323e-01 -1.23451778e-01\n",
      "  9.51637801e-02 -6.13092748e-01 -3.60208704e-01  7.51912942e-01\n",
      " -6.66779472e-01 -7.64372727e-01  3.73792142e-01 -2.13918622e-01\n",
      "  4.47596706e-01  8.25187109e-01 -7.05889200e-01 -6.30490282e-01\n",
      " -4.16880496e-02 -1.92578962e+00  1.01468672e+00 -1.20519839e-01\n",
      " -1.91709020e+00 -2.71415690e+00  1.36545184e+00  2.43256448e+00\n",
      "  9.56110215e-01  1.11255297e+00 -3.66931574e-01  1.36285237e-01\n",
      " -9.43196198e-02 -6.66715736e-01 -9.79466715e-01  7.46296612e-01\n",
      "  3.38564979e-01 -1.31384962e-01 -1.05518260e+00  1.05189079e+00]\n"
     ]
    }
   ],
   "source": [
    "print(f'Wektor x: {x}')"
   ]
  },
  {
   "cell_type": "markdown",
   "id": "275bd189",
   "metadata": {},
   "source": [
    "Następnie należało utworzyć wektor **eps** zawierający 100 próbek z rozkładu $N(0, 0.25)$:"
   ]
  },
  {
   "cell_type": "code",
   "execution_count": 5,
   "id": "8b3c6a9b",
   "metadata": {},
   "outputs": [],
   "source": [
    "eps = np.random.normal(0, 0.25, size=100)"
   ]
  },
  {
   "cell_type": "code",
   "execution_count": 6,
   "id": "45d00fa1",
   "metadata": {},
   "outputs": [
    {
     "name": "stdout",
     "output_type": "stream",
     "text": [
      "Wektor eps: [ 0.00441082 -0.19344105  0.06083829  0.03568798  0.21682338 -0.12035344\n",
      " -0.11436559 -0.00355919  0.27738926 -0.25858682  0.28965527  0.27448968\n",
      " -0.124761    0.15892649  0.18959554  0.16203521  0.22917204  0.22048081\n",
      "  0.41187483 -0.17270208 -0.01909434  0.20175182  0.46595424  0.39248329\n",
      " -0.26606504 -0.01383649  0.04085841 -0.06158592 -0.21094535  0.18889698\n",
      "  0.04852967 -0.04421342  0.2966404   0.08881336  0.16208621  0.16479816\n",
      " -0.39116818  0.12487311  0.06079933  0.17302956  0.51593204  0.21273649\n",
      "  0.19296943 -0.17575534 -0.25210605  0.23368573 -0.02844831  0.43649163\n",
      "  0.0385971   0.21187448  0.08114342 -0.03472364 -0.45637036 -0.05359796\n",
      " -0.39228904 -0.22865634 -0.06856859 -0.26181894  0.24196536  0.14410617\n",
      " -0.31264901 -0.52918614 -0.12071861 -0.17844424  0.28874503 -0.04153425\n",
      " -0.20305677 -0.27331805  0.33142562  0.10323474 -0.38775987  0.15200155\n",
      " -0.17114008  0.29049076  0.04311107  0.25229977 -0.26899529 -0.13540712\n",
      " -0.19398646  0.12147092 -0.25793762 -0.03058228  0.02056385  0.11725022\n",
      "  0.02642695  0.10418243  0.084523    0.28275524 -0.20352248  0.08113699\n",
      " -0.22496061  0.27836566 -0.17850242  0.15206703 -0.19241017  0.33654061\n",
      "  0.18317743  0.54069106  0.5398848   0.02521635]\n"
     ]
    }
   ],
   "source": [
    "print(f'Wektor eps: {eps}')"
   ]
  },
  {
   "cell_type": "markdown",
   "id": "83ecf6d2",
   "metadata": {},
   "source": [
    "Po wygenerowaniu dwóch poprzednich wektorów, teraz trzeba utworzyć wektor y, który jest następującej postaci:\n",
    "> $Y = -1 + 0.5 \\cdot X + \\epsilon$\n",
    "\n",
    "Oczywiście długość tego wektora będzie taka sama jak długość wektora **x** oraz **eps** i będzie wynosiła 100. Wartości $\\beta_{0} = -1$ i $\\beta_{1} = 0.5$. Za wygenerowanie wektora **y** odpowiada poniższy kod:"
   ]
  },
  {
   "cell_type": "code",
   "execution_count": 7,
   "id": "06dd613a",
   "metadata": {},
   "outputs": [],
   "source": [
    "y = np.array([-1 + 0.5*x[i] + eps[i] for i in range(x.size)])"
   ]
  },
  {
   "cell_type": "code",
   "execution_count": 8,
   "id": "02a9265f",
   "metadata": {},
   "outputs": [
    {
     "name": "stdout",
     "output_type": "stream",
     "text": [
      "Wektor y: [-0.96061395 -1.192253   -0.15907461 -0.37968031 -0.82792507 -1.74148125\n",
      " -2.01489061 -0.36331966 -1.23723396 -1.06304113 -1.15183965 -1.30937567\n",
      " -0.93530244 -0.58768829 -1.53684382 -0.54885511 -0.88726404 -0.76644645\n",
      " -0.51435593 -1.11263837 -1.6164433  -0.6361116   0.07889171 -0.58397692\n",
      " -0.73544662 -0.80285112 -1.13031473 -1.21667731 -0.31998087  0.07114752\n",
      " -1.55543987 -0.75214091 -0.864173   -1.31212191 -1.02776515 -0.30244072\n",
      " -2.40964123 -0.83618467 -0.90195948 -1.41290117 -0.50784729 -0.32805476\n",
      "  0.14456327 -1.67834395 -1.31275735 -0.87711211 -0.55613881 -0.20807025\n",
      " -0.12147943 -0.46494678 -0.2366008  -1.32508386 -1.5236402  -1.59046558\n",
      " -2.25758759 -1.14370345 -0.21896368 -1.35583583 -0.25013468 -0.3072518\n",
      " -1.1953439  -0.94149055 -1.07445428 -1.69225338 -0.07363233 -0.084779\n",
      " -1.39746893 -1.33504394 -0.62099249 -1.20331163 -1.56786422 -0.47204198\n",
      " -1.50452981 -1.0916956  -0.76999286 -0.85465954 -1.04519694 -0.72281356\n",
      " -1.54693106 -1.19377423 -1.27878164 -1.99347709 -0.47209279 -0.9430097\n",
      " -1.93211815 -2.25289602 -0.23275108  0.49903748 -0.72546738 -0.36258653\n",
      " -1.4084264  -0.65349172 -1.22566222 -1.18129084 -1.68214352 -0.29031108\n",
      " -0.64754008 -0.52500142 -0.98770649 -0.44883825]\n"
     ]
    }
   ],
   "source": [
    "print(f'Wektor y: {y}')"
   ]
  },
  {
   "cell_type": "markdown",
   "id": "899b89cc",
   "metadata": {},
   "source": [
    "Później należało narysować wykres przedstawiający relację między wartościami wektora **x** i wektora **y**:"
   ]
  },
  {
   "cell_type": "code",
   "execution_count": 9,
   "id": "50598d1b",
   "metadata": {},
   "outputs": [
    {
     "data": {
      "image/png": "[encoded data removed]",
      "text/plain": [
       "<Figure size 432x288 with 1 Axes>"
      ]
     },
     "metadata": {
      "needs_background": "light"
     },
     "output_type": "display_data"
    }
   ],
   "source": [
    "plt.title(f'Wykres zależności między x i y')\n",
    "plt.xlabel(f'x')\n",
    "plt.ylabel(f'y')\n",
    "\n",
    "plt.plot(x, y, '.', color='black')\n",
    "\n",
    "plt.show()"
   ]
  },
  {
   "cell_type": "markdown",
   "id": "c626c7b2",
   "metadata": {},
   "source": [
    "Obserwując otrzymany wykres można zauważyć, że wartości $X$ i $Y$ zależą od siebie liniowo (widać pewien liniowy wzór w tych danych). Ta własność wynika z zależności między wartościami $Y$ i $X$. Oczywiście te punkty zawsze będą rozrzucone wokół pewnej prostej, ze względu na obecność wartości **eps** (szumu) w omawianej zależności."
   ]
  },
  {
   "cell_type": "markdown",
   "id": "a0db4d1e",
   "metadata": {},
   "source": [
    "Następnie należało zastosować metodę najmniejszych kwadratów do dopasowania prostej (funkcji liniowej) do naszych danych (czyli przewidujemy wartości $Y$ na podstawie wartości $X$):"
   ]
  },
  {
   "cell_type": "code",
   "execution_count": 10,
   "id": "408260f4",
   "metadata": {},
   "outputs": [
    {
     "name": "stdout",
     "output_type": "stream",
     "text": [
      "Podsumowanie regresji liniowej:                             OLS Regression Results                            \n",
      "==============================================================================\n",
      "Dep. Variable:                      y   R-squared:                       0.839\n",
      "Model:                            OLS   Adj. R-squared:                  0.838\n",
      "Method:                 Least Squares   F-statistic:                     511.9\n",
      "Date:                Sat, 19 Nov 2022   Prob (F-statistic):           1.08e-40\n",
      "Time:                        18:11:50   Log-Likelihood:                 5.1598\n",
      "No. Observations:                 100   AIC:                            -6.320\n",
      "Df Residuals:                      98   BIC:                            -1.109\n",
      "Df Model:                           1                                         \n",
      "Covariance Type:            nonrobust                                         \n",
      "==============================================================================\n",
      "                 coef    std err          t      P>|t|      [0.025      0.975]\n",
      "------------------------------------------------------------------------------\n",
      "const         -0.9641      0.023    -41.436      0.000      -1.010      -0.918\n",
      "x1             0.5246      0.023     22.626      0.000       0.479       0.571\n",
      "==============================================================================\n",
      "Omnibus:                        0.766   Durbin-Watson:                   1.819\n",
      "Prob(Omnibus):                  0.682   Jarque-Bera (JB):                0.820\n",
      "Skew:                          -0.051   Prob(JB):                        0.664\n",
      "Kurtosis:                       2.568   Cond. No.                         1.07\n",
      "==============================================================================\n",
      "\n",
      "Notes:\n",
      "[1] Standard Errors assume that the covariance matrix of the errors is correctly specified.\n",
      "[-0.96414387  0.52462288]\n"
     ]
    }
   ],
   "source": [
    "def my_lin_reg(response_vector, predictors_vector):\n",
    "    model = sm.OLS(response_vector, predictors_vector)\n",
    "    result = model.fit()\n",
    "    \n",
    "    return result\n",
    "\n",
    "x_with_constant = sm.add_constant(x)\n",
    "\n",
    "result = my_lin_reg(y, x_with_constant)\n",
    "print(f'Podsumowanie regresji liniowej: {result.summary()}')\n",
    "print(f'{result.params}')"
   ]
  },
  {
   "cell_type": "markdown",
   "id": "7164fd63",
   "metadata": {},
   "source": [
    "Następnie należało narysować na otrzymanym wykresie danych funkcje liniowe ze współczynnikami $\\hat{\\beta_{0}}$ i $\\hat{\\beta_{1}}$ oraz ${\\beta_{0}}$ i ${\\beta_{1}}$."
   ]
  },
  {
   "cell_type": "code",
   "execution_count": 11,
   "id": "acf869a9",
   "metadata": {},
   "outputs": [
    {
     "data": {
      "image/png": "[encoded data removed]",
      "text/plain": [
       "<Figure size 432x288 with 1 Axes>"
      ]
     },
     "metadata": {
      "needs_background": "light"
     },
     "output_type": "display_data"
    }
   ],
   "source": [
    "def draw_plot_with_two_lines(x, y, true_coefficients, estimated_coefficients):\n",
    "    x1 = np.linspace(-3, 4, num=50)\n",
    "    x2 = np.linspace(-3, 4, num=50)\n",
    "    \n",
    "    y1 = true_coefficients[1]*x1 + true_coefficients[0]\n",
    "    y2 = estimated_coefficients[1]*x2 + estimated_coefficients[0]\n",
    "    \n",
    "    plt.title(f'Zależność między x i y z dwoma funkcjami')\n",
    "    plt.ylabel(f'y')\n",
    "    plt.xlabel(f'x')\n",
    "    \n",
    "    plt.plot(x, y, '.', color='black')\n",
    "    plt.plot(x1, y1, linestyle='-', color='red', label=f'population line')\n",
    "    plt.plot(x2, y2, linestyle='-', color='green', label=f'regression line')\n",
    "    plt.legend(loc=\"upper left\")\n",
    "    \n",
    "    return plt\n",
    "    \n",
    "plot = draw_plot_with_two_lines(x, y, [-1, 0.5], result.params)\n",
    "plot.show()"
   ]
  },
  {
   "cell_type": "markdown",
   "id": "495c554f",
   "metadata": {},
   "source": [
    "Kolorem czerwonym oznaczona jest linia odpowiadająca oryginalnej zależności między **x** i **y**, a kolorem zielonym jest oznaczona linia odpowiadająca estymowanym współczynnikom. W następnym kroku należało użyć regresji wielomianowej do przewidywania wartości $Y$ na podstawie wartości $X$ oraz $X^{2}$."
   ]
  },
  {
   "cell_type": "code",
   "execution_count": 12,
   "id": "9f934644",
   "metadata": {},
   "outputs": [
    {
     "name": "stdout",
     "output_type": "stream",
     "text": [
      "                            OLS Regression Results                            \n",
      "==============================================================================\n",
      "Dep. Variable:                      y   R-squared:                       0.839\n",
      "Model:                            OLS   Adj. R-squared:                  0.836\n",
      "Method:                 Least Squares   F-statistic:                     253.5\n",
      "Date:                Sat, 19 Nov 2022   Prob (F-statistic):           3.00e-39\n",
      "Time:                        18:13:28   Log-Likelihood:                 5.1873\n",
      "No. Observations:                 100   AIC:                            -4.375\n",
      "Df Residuals:                      97   BIC:                             3.441\n",
      "Df Model:                           2                                         \n",
      "Covariance Type:            nonrobust                                         \n",
      "==============================================================================\n",
      "                 coef    std err          t      P>|t|      [0.025      0.975]\n",
      "------------------------------------------------------------------------------\n",
      "x1             0.5246      0.023     22.513      0.000       0.478       0.571\n",
      "x2            -0.0041      0.018     -0.231      0.818      -0.039       0.031\n",
      "const         -0.9601      0.029    -32.720      0.000      -1.018      -0.902\n",
      "==============================================================================\n",
      "Omnibus:                        0.876   Durbin-Watson:                   1.822\n",
      "Prob(Omnibus):                  0.645   Jarque-Bera (JB):                0.894\n",
      "Skew:                          -0.062   Prob(JB):                        0.639\n",
      "Kurtosis:                       2.554   Cond. No.                         2.44\n",
      "==============================================================================\n",
      "\n",
      "Notes:\n",
      "[1] Standard Errors assume that the covariance matrix of the errors is correctly specified.\n",
      "[ 0.52456782 -0.00405877 -0.96005286]\n"
     ]
    }
   ],
   "source": [
    "def my_polynomial_regression(responses, predictors):\n",
    "    nsamples = predictors.size\n",
    "    \n",
    "    new_x = np.column_stack((predictors, predictors**2, np.ones(nsamples)))\n",
    "    \n",
    "    model = sm.OLS(responses, new_x)\n",
    "    \n",
    "    result = model.fit()\n",
    "    \n",
    "    return result\n",
    "\n",
    "result = my_polynomial_regression(y, x)\n",
    "print(f'{result.summary()}')\n",
    "print(f'{result.params}')"
   ]
  },
  {
   "cell_type": "markdown",
   "id": "c19e2bb0",
   "metadata": {},
   "source": [
    "Na poniższym rysunku jest przedstawiony wykres z przebiegiem rozważanej funkcji kwadratowej na zbiorze danych:"
   ]
  },
  {
   "cell_type": "code",
   "execution_count": 13,
   "id": "0ced355d",
   "metadata": {},
   "outputs": [
    {
     "data": {
      "image/png": "[encoded data removed]",
      "text/plain": [
       "<Figure size 432x288 with 1 Axes>"
      ]
     },
     "metadata": {
      "needs_background": "light"
     },
     "output_type": "display_data"
    }
   ],
   "source": [
    "def draw_quadratic_curve(x, y, coefficients):\n",
    "    x1 = np.linspace(-3, 3, num=50)\n",
    "    \n",
    "    values = coefficients[1]*x1*x1 + coefficients[0]*x1 + coefficients[2]\n",
    "    \n",
    "    plt.title(f'Regresja wielomianowa')\n",
    "    \n",
    "    plt.xlabel(f'x')\n",
    "    plt.ylabel(f'y')\n",
    "    \n",
    "    plt.plot(x, y, '.', color='black')\n",
    "    \n",
    "    plt.plot(x1, values, color='red')\n",
    "    \n",
    "    return plt\n",
    "\n",
    "plot = draw_quadratic_curve(x, y, result.params)\n",
    "plot.show()"
   ]
  },
  {
   "cell_type": "markdown",
   "id": "fd23c13e",
   "metadata": {},
   "source": [
    "Na rysunku powyżej został przedstawiony wykres otrzymanej zależności wielomianowej między $x$ i $y$. Analizując wartości $R^{2}$ i $\\bar{R}^{2}$ można zauważyć, że wartość pierwszego nie zmieniła się a wartość drugiego wskaźnika zmniejszyła się. Z tego wynika, że model wielomianowy (z czynnikiem kwadratowym) nie jest (w tym przypadku) lepszy niż model liniowy. W następnym kroku należało powtórzyć eksperymenty dla danych z mniejszym szumem (model pozostaje ten sam). Można to uzyskać poprzez zmniejszenie wariancji w rozkładzie normalnym, użytym do generowania wartości $\\epsilon$. Oto kod odpowiedzialny za ten krok:"
   ]
  },
  {
   "cell_type": "code",
   "execution_count": 14,
   "id": "633abfb2",
   "metadata": {},
   "outputs": [
    {
     "name": "stdout",
     "output_type": "stream",
     "text": [
      "Wektor x: [-1.56401734 -1.68335859 -0.10006885 -0.01540289  1.37570317  0.21002242\n",
      "  1.19857694  1.96057316  1.06694531  2.21769968  0.22760846  1.5643202\n",
      "  0.01503743  1.73249562  0.13202056  1.07869403  0.13861563 -1.19357889\n",
      "  0.64396415 -1.4931804  -0.3265794  -1.87105078  1.47859429 -0.77934927\n",
      " -0.1647223  -1.83559517 -0.7424566  -1.15455383 -1.01837675 -0.82102832\n",
      "  1.40466913 -0.13294775  0.35296937  0.35308153 -0.23989854  0.49640764\n",
      "  2.06035118 -1.94710574 -0.31392818  0.32347099 -1.0945565  -0.38811761\n",
      " -2.29878269 -0.88615186 -3.12351578  0.45321217  1.79099176 -1.84530028\n",
      " -0.70159097  1.44309068 -0.25819735 -2.03235007 -0.28355014  1.44414463\n",
      "  0.85067644  0.51413304  1.40327724 -0.04736087  1.68076781  0.10293832\n",
      " -0.9662175  -0.10854717  1.11944486  2.05401913 -1.10630968 -1.47996921\n",
      " -1.00828839  0.54133019  0.48505189 -1.0058131  -0.97943025 -0.89169949\n",
      "  0.82381478 -0.21142276  0.65260277 -0.26149915 -0.47559018 -0.05416747\n",
      "  0.40308924  0.97108997  0.03333388  0.16065906 -1.97778385  0.02752711\n",
      "  1.06958559 -0.99254541 -0.33888141  0.87953735  1.88214208  0.22228163\n",
      "  0.59524199  0.82001782  3.1037085  -0.37361059  0.09582136 -0.22529184\n",
      "  0.62071604 -1.0451909   0.16176519 -0.80635787]\n"
     ]
    }
   ],
   "source": [
    "x = np.random.normal(0, 1, size=100)\n",
    "print(f'Wektor x: {x}')"
   ]
  },
  {
   "cell_type": "code",
   "execution_count": 15,
   "id": "6adeced6",
   "metadata": {},
   "outputs": [
    {
     "name": "stdout",
     "output_type": "stream",
     "text": [
      "Wektor eps: [ 0.08451856  0.01608359  0.10422343 -0.10237245 -0.03669985  0.07373649\n",
      "  0.00945437 -0.05229159 -0.00609516 -0.04141789  0.23249951 -0.01667421\n",
      "  0.18530355 -0.14157537 -0.0513855   0.0212525  -0.13407631 -0.04953857\n",
      " -0.02779892  0.038914   -0.12919322 -0.12027778 -0.04558758  0.03949112\n",
      " -0.02821373 -0.18504289 -0.03155547  0.13047634  0.05945235  0.10527502\n",
      " -0.11212198  0.01856527 -0.06283344  0.05500261 -0.11265357  0.01050048\n",
      "  0.00494833  0.15089104  0.00296085  0.07149899  0.04103946  0.00287937\n",
      " -0.03151928 -0.0332851  -0.09581828  0.11293461  0.11186105  0.02093499\n",
      "  0.03351666  0.11172758  0.04369008  0.00845208 -0.0593749   0.0525181\n",
      "  0.07110735  0.11234061 -0.03999264  0.00753349 -0.1490452   0.11431031\n",
      "  0.17507326 -0.06351279 -0.23921414  0.04549827  0.2148546  -0.09097993\n",
      " -0.01890445 -0.07244991 -0.02649302 -0.1576295   0.02376256  0.20882522\n",
      " -0.03721307  0.00490454 -0.05001201  0.21905215  0.05824102 -0.0347586\n",
      " -0.01365018 -0.20005351  0.03148321  0.02633656  0.12085602 -0.12437647\n",
      " -0.09902014  0.13033097  0.09580323  0.0417397   0.00080769  0.01326386\n",
      "  0.08806591  0.01261225  0.16706169  0.02373861 -0.21532061 -0.18525635\n",
      " -0.14811604 -0.02691992  0.03083835 -0.04380738]\n"
     ]
    }
   ],
   "source": [
    "eps = np.random.normal(0, 0.1, size=100)\n",
    "print(f'Wektor eps: {eps}')"
   ]
  },
  {
   "cell_type": "code",
   "execution_count": 16,
   "id": "bddf3ec8",
   "metadata": {},
   "outputs": [
    {
     "name": "stdout",
     "output_type": "stream",
     "text": [
      "Wektor y: [-1.69749012 -1.8255957  -0.94581099 -1.1100739  -0.34884826 -0.8212523\n",
      " -0.39125717 -0.07200501 -0.4726225   0.06743195 -0.65369626 -0.23451412\n",
      " -0.80717774 -0.27532756 -0.98537522 -0.43940048 -1.06476849 -1.64632801\n",
      " -0.70581685 -1.7076762  -1.29248292 -2.05580316 -0.30629044 -1.35018352\n",
      " -1.11057488 -2.10284048 -1.40278377 -1.44680057 -1.44973603 -1.30523914\n",
      " -0.40978741 -1.0479086  -0.88634875 -0.76845662 -1.23260284 -0.7412957\n",
      "  0.03512392 -1.82266182 -1.15400324 -0.76676551 -1.50623879 -1.19117943\n",
      " -2.18091062 -1.47636103 -2.65757617 -0.6604593   0.00735692 -1.90171515\n",
      " -1.31727883 -0.16672708 -1.08540859 -2.00772296 -1.20114997 -0.22540958\n",
      " -0.50355442 -0.63059287 -0.33835402 -1.01614695 -0.3086613  -0.83422053\n",
      " -1.30803549 -1.11778637 -0.6794917   0.07250784 -1.33830024 -1.83096454\n",
      " -1.52304864 -0.80178482 -0.78396708 -1.66053604 -1.46595256 -1.23702453\n",
      " -0.62530568 -1.10080684 -0.72371062 -0.91169743 -1.17955407 -1.06184234\n",
      " -0.81210556 -0.71450852 -0.95184985 -0.89333391 -1.8680359  -1.11061291\n",
      " -0.56422735 -1.36594173 -1.07363748 -0.51849163 -0.05812126 -0.87559533\n",
      " -0.6143131  -0.57737884  0.71891594 -1.16306668 -1.16740993 -1.29790227\n",
      " -0.83775802 -1.54951537 -0.88827906 -1.44698632]\n"
     ]
    }
   ],
   "source": [
    "y = -1 + 0.5 * x + eps\n",
    "print(f'Wektor y: {y}')"
   ]
  },
  {
   "cell_type": "markdown",
   "id": "e3441ec9",
   "metadata": {},
   "source": [
    "Oczywiście współczynniki $\\beta_{0}$ i $\\beta_{1}$ są takie same jak w poprzednim przypadku (i będą takie same w następnym, trzecim przypadku). W następnym kroku narysuje wykres przedstawiający zależność $y$ i $x$:"
   ]
  },
  {
   "cell_type": "code",
   "execution_count": 17,
   "id": "ecc4c582",
   "metadata": {},
   "outputs": [
    {
     "data": {
      "image/png": "[encoded data removed]",
      "text/plain": [
       "<Figure size 432x288 with 1 Axes>"
      ]
     },
     "metadata": {
      "needs_background": "light"
     },
     "output_type": "display_data"
    }
   ],
   "source": [
    "plt.title(f'Wykres zależności y od x')\n",
    "\n",
    "plt.xlabel(f'x')\n",
    "plt.ylabel(f'y')\n",
    "\n",
    "plt.plot(x, y, '.', color='black')\n",
    "\n",
    "plt.show()"
   ]
  },
  {
   "cell_type": "markdown",
   "id": "ef06fe8c",
   "metadata": {},
   "source": [
    "Jak widać po wykresie, liniowa zależność między $y$ i $x$ jest wyraźniejsza niż w poprzednim przypadku (z większym szumem). Następnie przeprowadzimy regresję liniową i narysujemy prostą populacyjną i prostą otrzymaną w wyniku regresji:"
   ]
  },
  {
   "cell_type": "code",
   "execution_count": 20,
   "id": "16613b97",
   "metadata": {},
   "outputs": [
    {
     "name": "stdout",
     "output_type": "stream",
     "text": [
      "                            OLS Regression Results                            \n",
      "==============================================================================\n",
      "Dep. Variable:                      y   R-squared:                       0.970\n",
      "Model:                            OLS   Adj. R-squared:                  0.970\n",
      "Method:                 Least Squares   F-statistic:                     3223.\n",
      "Date:                Sat, 19 Nov 2022   Prob (F-statistic):           8.70e-77\n",
      "Time:                        18:31:18   Log-Likelihood:                 89.475\n",
      "No. Observations:                 100   AIC:                            -174.9\n",
      "Df Residuals:                      98   BIC:                            -169.7\n",
      "Df Model:                           1                                         \n",
      "Covariance Type:            nonrobust                                         \n",
      "==============================================================================\n",
      "                 coef    std err          t      P>|t|      [0.025      0.975]\n",
      "------------------------------------------------------------------------------\n",
      "const         -0.9974      0.010    -99.826      0.000      -1.017      -0.978\n",
      "x1             0.4928      0.009     56.772      0.000       0.476       0.510\n",
      "==============================================================================\n",
      "Omnibus:                        0.002   Durbin-Watson:                   1.836\n",
      "Prob(Omnibus):                  0.999   Jarque-Bera (JB):                0.073\n",
      "Skew:                          -0.010   Prob(JB):                        0.964\n",
      "Kurtosis:                       2.869   Cond. No.                         1.15\n",
      "==============================================================================\n",
      "\n",
      "Notes:\n",
      "[1] Standard Errors assume that the covariance matrix of the errors is correctly specified.\n",
      "parameters: [-0.9973829   0.49278126]\n"
     ]
    }
   ],
   "source": [
    "x_with_constant = sm.add_constant(x)\n",
    "\n",
    "result = my_lin_reg(y, x_with_constant)\n",
    "\n",
    "print(f'{result.summary()}')\n",
    "print(f'parameters: {result.params}')"
   ]
  },
  {
   "cell_type": "markdown",
   "id": "aecf380c",
   "metadata": {},
   "source": [
    "Jak widać po wynikach, wartości $\\hat{\\beta_{0}}$ i $\\hat{\\beta_{1}}$ są bliższe tym właściwym niż w poprzednim przypadku. Ponadto, dwie ważne miary dopasowania linii do zbioru, czyli $R^{2}$ i $\\bar{R}^{2}$ również mają znacznie większe wartości niż w poprzednim przypadku. Z tego wynika, że gdy mamy dane z mniejszym szumem, to wówczas możemy oczekiwać znacznie lepszych wyników regresji. Poniżej znajduje się wykres z dwiema liniami:"
   ]
  },
  {
   "cell_type": "code",
   "execution_count": 21,
   "id": "a5b4e7c9",
   "metadata": {},
   "outputs": [
    {
     "data": {
      "image/png": "[encoded data removed]",
      "text/plain": [
       "<Figure size 432x288 with 1 Axes>"
      ]
     },
     "metadata": {
      "needs_background": "light"
     },
     "output_type": "display_data"
    }
   ],
   "source": [
    "plot = draw_plot_with_two_lines(x, y, [-1, 0.5], result.params)\n",
    "plot.show()"
   ]
  },
  {
   "cell_type": "markdown",
   "id": "8a3a5ace",
   "metadata": {},
   "source": [
    "Na wykresie widać, że dwie wspomniane linie właściwie się ze sobą pokrywają. W następnym kroku zobaczymy co się stanie, gdy będziemy mieć więcej szumu w danych (zwiększymy wariancję w rozkładzie normalnym, użytym do generowania wartości $\\epsilon$)."
   ]
  },
  {
   "cell_type": "code",
   "execution_count": 26,
   "id": "108f30cc",
   "metadata": {},
   "outputs": [
    {
     "name": "stdout",
     "output_type": "stream",
     "text": [
      "Wektor x: [-0.72393965  2.11152123  0.60067997 -1.20658363 -0.5624197  -0.45455794\n",
      " -0.67185926 -1.2225989   0.46329484  0.88648095 -0.40399565  0.38232594\n",
      " -0.65482795 -0.92665194 -0.22686362 -0.02521204  1.91867766  0.3253213\n",
      "  0.52591083  0.47683285  1.19827586  0.66559023  0.36955104  0.37128496\n",
      " -1.39245028 -0.19608853  1.41027238  2.21526611 -1.0027613  -0.52252839\n",
      " -1.04187012 -1.87536349  0.33627407 -0.76034734 -0.45570538  0.80652847\n",
      " -0.01435151  0.37928714 -0.83125277  0.39268828  0.45263063  0.93597673\n",
      "  1.24664783 -0.70454572 -0.0507749   0.98157695  0.65693948 -0.34154428\n",
      "  0.37752659  0.05929814 -1.82345974  0.8861174  -0.89810146  0.12665418\n",
      " -0.11560938  2.68486903 -0.7918749  -0.09391552 -1.82305305 -1.84516678\n",
      " -0.59205261 -0.33927367  0.14081445  0.06069118 -0.21282895 -0.08182227\n",
      "  0.74070728  0.16714629 -0.57426006  0.61888366 -0.99031914 -0.51564074\n",
      "  1.76178304 -0.61439804  1.99891103  0.38730567 -0.10297653 -1.788405\n",
      " -0.4677924  -1.74077164 -1.44104272  1.74869064 -1.57990685  0.26227247\n",
      "  1.03304813 -0.10208538  0.31631006 -0.17253848  1.70767544  0.07906243\n",
      " -0.33200674  0.341535    0.18895971 -0.37132368 -1.36342381 -0.79161086\n",
      "  1.08674397  1.38521062  1.60424964 -1.51450259]\n"
     ]
    }
   ],
   "source": [
    "x = np.random.normal(0, 1, size=100)\n",
    "print(f'Wektor x: {x}')"
   ]
  },
  {
   "cell_type": "code",
   "execution_count": 27,
   "id": "da5df01c",
   "metadata": {},
   "outputs": [
    {
     "name": "stdout",
     "output_type": "stream",
     "text": [
      "Wektor eps: [-7.31026484e-01  1.36505562e-01 -4.15771607e-01 -8.98224222e-01\n",
      "  5.65392738e-01 -2.71022137e-01 -7.54558294e-01 -6.55355600e-01\n",
      " -8.97613188e-02 -1.83830947e-01  6.28452502e-01  6.77729814e-01\n",
      " -1.93454698e-01  1.61712915e-01 -2.28204981e-01  9.33897843e-02\n",
      "  2.17578781e-01 -3.01412830e-01  1.86037368e-01 -6.76194030e-01\n",
      " -4.12916947e-01  5.71717868e-02 -1.11694004e+00 -5.41776533e-01\n",
      "  1.19376148e-01  1.94387266e-01  1.90811999e-01  7.04990059e-01\n",
      "  1.15400881e-01  5.65451925e-01  1.19453191e-01 -2.05791056e-01\n",
      "  2.52946425e-01  1.40197048e-01 -7.68138852e-01  1.35390666e-01\n",
      "  7.01617752e-01 -2.52028369e-02  7.06568237e-01 -5.04656052e-01\n",
      " -3.46794835e-01  4.76122993e-01 -6.75737058e-01  4.34242956e-01\n",
      "  6.79051977e-01  9.02896261e-02  3.27795438e-02  6.99373033e-02\n",
      " -3.65426358e-01  1.01964974e-01  5.20468043e-01  1.79222733e-01\n",
      " -4.06896046e-01 -6.42241455e-01 -3.79729259e-04 -7.12243408e-01\n",
      "  7.17734242e-01  1.77197058e-01  4.73121447e-01 -8.16540032e-01\n",
      "  7.74139340e-01 -1.47012685e-01  3.62259979e-01 -3.07459188e-01\n",
      "  4.80501802e-01  4.63069845e-01 -7.51987230e-01  7.44487453e-02\n",
      "  6.81896352e-01  2.60139211e-01 -6.68430747e-01 -1.04659990e-01\n",
      "  4.77035769e-01  1.05352686e+00 -5.35843636e-01 -6.61135805e-02\n",
      "  4.91493991e-01  1.68628257e-01  2.09970524e-01  7.93204711e-02\n",
      " -4.36925514e-01  5.32931873e-01  3.79794196e-01  4.30773394e-01\n",
      "  3.32054614e-01  4.62824593e-01 -8.74318134e-01  3.12137587e-01\n",
      "  3.06679625e-01 -1.69888634e-01 -2.92076253e-01  1.87480395e-01\n",
      "  7.23776335e-02  1.12243782e-01 -3.21137330e-01  6.49144399e-02\n",
      "  1.93942044e-01 -8.27886311e-01 -6.19174625e-02 -3.24949829e-01]\n"
     ]
    }
   ],
   "source": [
    "eps = np.random.normal(0, 0.4, size=100)\n",
    "print(f'Wektor eps: {eps}')"
   ]
  },
  {
   "cell_type": "code",
   "execution_count": 28,
   "id": "de7c701a",
   "metadata": {},
   "outputs": [
    {
     "name": "stdout",
     "output_type": "stream",
     "text": [
      "Wektor y: [-2.09299631  0.19226618 -1.11543162 -2.50151604 -0.71581711 -1.49830111\n",
      " -2.09048792 -2.26665505 -0.8581139  -0.74059047 -0.57354532 -0.13110721\n",
      " -1.52086867 -1.30161306 -1.34163679 -0.91921623  0.17691761 -1.13875218\n",
      " -0.55100722 -1.43777761 -0.81377902 -0.6100331  -1.93216452 -1.35613405\n",
      " -1.57684899 -0.903657   -0.10405181  0.81262312 -1.38597977 -0.69581227\n",
      " -1.40148187 -2.1434728  -0.57891654 -1.23997662 -1.99599154 -0.4613451\n",
      " -0.305558   -0.83555926 -0.70905815 -1.30831191 -1.12047952 -0.05588864\n",
      " -1.05241314 -0.9180299  -0.34633548 -0.4189219  -0.63875071 -1.10083484\n",
      " -1.17666306 -0.86838596 -1.39126183 -0.37771857 -1.85594678 -1.57891437\n",
      " -1.05818442 -0.36980889 -0.67820321 -0.8697607  -1.43840508 -2.73912342\n",
      " -0.52188696 -1.31664952 -0.5673328  -1.2771136  -0.62591267 -0.57784129\n",
      " -1.38163359 -0.84197811 -0.60523368 -0.43041896 -2.16359032 -1.36248036\n",
      "  0.35792729 -0.25367216 -0.53638812 -0.87246074 -0.55999428 -1.72557424\n",
      " -1.02392568 -1.79106535 -2.15744688  0.4072772  -1.41015923 -0.43809037\n",
      " -0.15142132 -0.5882181  -1.7161631  -0.77413165  0.16051735 -1.13035742\n",
      " -1.45807962 -0.6417521  -0.83314251 -1.07341806 -2.00284923 -1.33089099\n",
      " -0.26268597 -1.135281   -0.25979264 -2.08220112]\n"
     ]
    }
   ],
   "source": [
    "y = -1 + 0.5 * x + eps\n",
    "print(f'Wektor y: {y}')"
   ]
  },
  {
   "cell_type": "markdown",
   "id": "af408bf0",
   "metadata": {},
   "source": [
    "Poniżej znajduje się wykres przedstawiający zależność między  $y$ i $x$ w nowym przypadku z większym szumem w danych:"
   ]
  },
  {
   "cell_type": "code",
   "execution_count": 29,
   "id": "4006f87f",
   "metadata": {},
   "outputs": [
    {
     "data": {
      "image/png": "[encoded data removed]",
      "text/plain": [
       "<Figure size 432x288 with 1 Axes>"
      ]
     },
     "metadata": {
      "needs_background": "light"
     },
     "output_type": "display_data"
    }
   ],
   "source": [
    "plt.title(f'Wykres zależności y od x')\n",
    "\n",
    "plt.xlabel(f'x')\n",
    "plt.ylabel(f'y')\n",
    "\n",
    "plt.plot(x, y, '.', color='black')\n",
    "\n",
    "plt.show()"
   ]
  },
  {
   "cell_type": "markdown",
   "id": "ec443a42",
   "metadata": {},
   "source": [
    "Jak widać liniowa zależność między wartościami $y$ i $x$ jest już mniej widoczna, niż w dwóch poprzednich przypadkach (punkty są mniej skupione wokół pewnej prostej i są bardziej rozsiane po płaszczyźnie). W następnym kroku dokonamy regresji:"
   ]
  },
  {
   "cell_type": "code",
   "execution_count": 31,
   "id": "4da9d8ec",
   "metadata": {},
   "outputs": [
    {
     "name": "stdout",
     "output_type": "stream",
     "text": [
      "                            OLS Regression Results                            \n",
      "==============================================================================\n",
      "Dep. Variable:                      y   R-squared:                       0.525\n",
      "Model:                            OLS   Adj. R-squared:                  0.520\n",
      "Method:                 Least Squares   F-statistic:                     108.1\n",
      "Date:                Sat, 19 Nov 2022   Prob (F-statistic):           1.67e-17\n",
      "Time:                        18:44:47   Log-Likelihood:                -65.310\n",
      "No. Observations:                 100   AIC:                             134.6\n",
      "Df Residuals:                      98   BIC:                             139.8\n",
      "Df Model:                           1                                         \n",
      "Covariance Type:            nonrobust                                         \n",
      "==============================================================================\n",
      "                 coef    std err          t      P>|t|      [0.025      0.975]\n",
      "------------------------------------------------------------------------------\n",
      "const         -0.9924      0.047    -21.129      0.000      -1.086      -0.899\n",
      "x1             0.4888      0.047     10.397      0.000       0.395       0.582\n",
      "==============================================================================\n",
      "Omnibus:                        4.352   Durbin-Watson:                   2.093\n",
      "Prob(Omnibus):                  0.113   Jarque-Bera (JB):                3.119\n",
      "Skew:                          -0.283   Prob(JB):                        0.210\n",
      "Kurtosis:                       2.346   Cond. No.                         1.01\n",
      "==============================================================================\n",
      "\n",
      "Notes:\n",
      "[1] Standard Errors assume that the covariance matrix of the errors is correctly specified.\n",
      "parameters: [-0.99237938  0.48879002]\n"
     ]
    }
   ],
   "source": [
    "x_with_constant = sm.add_constant(x)\n",
    "\n",
    "result = my_lin_reg(y, x_with_constant)\n",
    "\n",
    "print(f'{result.summary()}')\n",
    "print(f'parameters: {result.params}')"
   ]
  },
  {
   "cell_type": "markdown",
   "id": "ac48068e",
   "metadata": {},
   "source": [
    "Jak widać wartości współczynników $\\hat{\\beta_{0}}$ i $\\hat{\\beta_{1}}$ są znowu bliskie prawdziwym wartościom $\\beta_{0}$ i $\\beta_{1}$ ich estymacje są podobne do tych z przypadku pierwszego (jednakże estymacja $\\beta_{0}$ jest znacznie lepsza). Poniżej znajduje się wykres z linią populacyjną i z linią z regresji:"
   ]
  },
  {
   "cell_type": "code",
   "execution_count": 32,
   "id": "9ae41508",
   "metadata": {},
   "outputs": [
    {
     "data": {
      "image/png": "[encoded data removed]",
      "text/plain": [
       "<Figure size 432x288 with 1 Axes>"
      ]
     },
     "metadata": {
      "needs_background": "light"
     },
     "output_type": "display_data"
    }
   ],
   "source": [
    "plot = draw_plot_with_two_lines(x, y, [-1, 0.5], result.params)\n",
    "plot.show()"
   ]
  },
  {
   "cell_type": "markdown",
   "id": "ada2d4be",
   "metadata": {},
   "source": [
    "Jak widać, znowu dwie linie prawie się pokrywają. Jednakże widać, że dopasowanie do zbioru jest gorsze niż w poprzednich przypadkach, bo wartości $R^{2}$ i $\\bar{R}^{2}$ są znacznie mniejsze (mimo, że estymacje współczynników są lepsze niż w pierwszym przypadku). Następnie należało porównać jak wyglądają przedziały pewności dla oryginalnego zbioru danych, zbioru danych z mniejszym szumem i większym szumem. Analizując otrzymane przedziały pewności można zauważyć, że im mniejszy szum w danych, tym szerokość tego przedziału jest mniejsza (tzn. dla zbioru danych z największym szumem szerokość przedziału była największa, dla zbioru danych z średnim szumem szerokość przedziału była średnia a dla zbioru danych z największym szumem szerokość tego przedziału była największa). Jest to spowodowane tym, że wraz ze wzrostem szumu w zbiorze danych, rośnie błąd standardowy estymatorów $\\hat{\\beta_{0}}$ oraz $\\hat{\\beta_{1}}$ (co wynika bezpośrednio ze wzorów na błędy standardowe dla tych estymatorów), zatem musi rosnąć ich średnie odchylenie, co bezpośrednio przekłada się na wzrost szerokości tych przedziałów (reguła trzech sigm)."
   ]
  },
  {
   "cell_type": "markdown",
   "id": "746aa4ee",
   "metadata": {},
   "source": [
    "### Zadanie 14"
   ]
  },
  {
   "cell_type": "markdown",
   "id": "637cdbc4",
   "metadata": {},
   "source": [
    "W zadaniu 14 z książki, skupiliśmy się na problemie liniowej zależności między zmiennymi. W pierwszym podpunkcie należało stworzyć 3 wektory ***x1***, ***x2*** oraz ***y***. Wektory ***x2*** i ***x1*** są powiązane następującą zależnością:\n",
    "> $x_{2} = \\frac{1}{2} \\cdot x_{1} + \\epsilon$\n",
    "\n",
    "A wektor ***y*** jest obliczany następująco:\n",
    "> $y = 2 + 2 \\cdot x_{1} + 0.3 \\cdot x_{2} + \\epsilon$\n",
    "\n",
    "Korzystając z zależności między $x_{2}$ oraz $x_{1}$ nasz liniowy model możemy zapisać jako:\n",
    "> $y = 2 + 2.15 \\cdot x_{1} + \\epsilon$\n",
    "\n",
    "Oraz możemy wyrazić nasz model w zależności tylko od $x_{2}$:\n",
    "> $y = 2 + 4.3 \\cdot x_{2} + \\epsilon$\n",
    "\n",
    "Za tą część odpowiada następujący kod:"
   ]
  },
  {
   "cell_type": "code",
   "execution_count": 34,
   "id": "8bcd7cec",
   "metadata": {},
   "outputs": [
    {
     "name": "stdout",
     "output_type": "stream",
     "text": [
      "x1: [0.98669683 0.00280874 0.82274495 0.70801602 0.35520636 0.84537439\n",
      " 0.1016614  0.96773649 0.27468878 0.58504462 0.17356572 0.12999178\n",
      " 0.18092772 0.80953105 0.9645964  0.82102779 0.14008694 0.93875525\n",
      " 0.25961767 0.98816106 0.22983636 0.48167464 0.17147238 0.75718319\n",
      " 0.72526771 0.52053236 0.04800854 0.95506877 0.84012832 0.38967185\n",
      " 0.45352569 0.22766587 0.88728357 0.56407914 0.39499194 0.95310085\n",
      " 0.2441423  0.73106365 0.47966457 0.6386402  0.48459384 0.05900388\n",
      " 0.71159509 0.08591902 0.28180486 0.11135059 0.69644894 0.8792886\n",
      " 0.50749248 0.11153688 0.03612164 0.81899941 0.54614269 0.28746147\n",
      " 0.28824226 0.25462308 0.40567695 0.78875592 0.49499513 0.75315058\n",
      " 0.25999044 0.37756417 0.92126453 0.12483157 0.09275773 0.58558874\n",
      " 0.70715543 0.37507224 0.93805448 0.33017066 0.15258889 0.73300598\n",
      " 0.30513275 0.22907151 0.8437863  0.21022655 0.03719153 0.54204542\n",
      " 0.38534909 0.65841395 0.99865819 0.42087304 0.15617115 0.41573346\n",
      " 0.52793418 0.76930584 0.29276377 0.96170411 0.7075825  0.39433253\n",
      " 0.35854501 0.47878951 0.55007633 0.16437838 0.00336004 0.74051689\n",
      " 0.19194981 0.5868197  0.61798573 0.89651681]\n",
      "x2: [ 0.57393023 -0.11474537  0.27120773  0.41516643  0.12302963  0.38311045\n",
      " -0.05235298  0.45525882  0.15756909  0.451771    0.29434135  0.06547049\n",
      "  0.1600428   0.28793722  0.65436315  0.17876401  0.12970604  0.25687618\n",
      "  0.09838122  0.50470153  0.07690235  0.41503707  0.07038763  0.41465491\n",
      "  0.44360968  0.18766206  0.0680917   0.50226469  0.4395988   0.32423684\n",
      "  0.31567011  0.06339832  0.68486502  0.16798597  0.25933409  0.53293635\n",
      "  0.15852478  0.4848811   0.32032444  0.54425068  0.25857723  0.08670113\n",
      "  0.43714327  0.14412318 -0.0592618   0.14791084  0.35902309  0.50671041\n",
      "  0.20657015  0.03670994  0.1210053   0.31789316  0.30689405  0.12249187\n",
      "  0.25088658  0.14758783  0.24195355  0.5063757   0.25745361  0.39434692\n",
      "  0.04347247  0.15780758  0.19396377  0.0479485   0.00720459  0.18040192\n",
      "  0.37258637  0.19585799  0.50023994  0.05731041  0.28138854  0.37788788\n",
      "  0.16981427  0.0590313   0.4165995   0.25617069  0.22278348  0.28951488\n",
      "  0.04203667  0.14434803  0.44815834  0.17229069  0.08798726  0.24530773\n",
      "  0.53958981  0.39210756  0.10309139  0.39872037  0.47770996  0.13850852\n",
      "  0.14221177  0.13895364  0.46518236  0.1464027  -0.01896048  0.48931837\n",
      "  0.14796551  0.41173081  0.26718377  0.56131489]\n",
      "y: [6.00714865 2.71968703 3.98268595 2.00828176 1.52870815 3.07966729\n",
      " 1.64492148 3.30897728 2.95367791 3.23652772 1.82184733 1.41331463\n",
      " 2.02409759 4.83009071 5.38391401 4.46892588 2.0666149  2.26281666\n",
      " 4.53782058 3.06326394 3.57357038 3.39530128 3.06010862 4.79165026\n",
      " 2.14537614 2.41562663 0.2356126  5.44966062 4.145819   2.67851735\n",
      " 3.40507205 2.79851997 3.7209308  4.28497682 1.72290491 5.01863022\n",
      " 3.43145406 3.01344173 1.65779436 2.52806047 4.14960096 2.84817394\n",
      " 3.16755602 1.39141707 2.2295848  3.47215585 4.33792137 2.96452771\n",
      " 4.057918   3.6301486  2.00408826 4.41132709 3.97794364 3.46758453\n",
      " 2.32992411 3.08700535 4.23660707 3.42319638 2.93263534 4.84589945\n",
      " 1.94872156 2.17474977 3.36121658 2.05906082 2.4959866  3.72710446\n",
      " 4.01169669 1.95190738 1.89265061 1.4487946  2.83897875 3.73780481\n",
      " 1.69271861 2.06879396 4.71681314 2.40233345 1.53760416 4.51748247\n",
      " 2.09688158 4.05316085 4.16928026 1.80352356 2.91455374 3.31827375\n",
      " 3.09447787 4.70124527 2.53914619 4.68847187 2.72640576 3.48149198\n",
      " 1.64485002 3.36324392 3.79854432 3.50597129 2.16923747 5.09684511\n",
      " 2.70692849 3.19029281 4.10915275 2.66917092]\n"
     ]
    }
   ],
   "source": [
    "def generate_data(number_of_samples):\n",
    "    x1 = np.random.uniform(size=number_of_samples)\n",
    "    x2 = 0.5*x1 + np.random.normal(size=number_of_samples) / 10\n",
    "    \n",
    "    y = 2 + 2*x1 + 0.3*x2 + np.random.normal(size=number_of_samples)\n",
    "    \n",
    "    return x1, x2, y\n",
    "\n",
    "x1, x2, y = generate_data(100)\n",
    "\n",
    "print(f'x1: {x1}')\n",
    "print(f'x2: {x2}')\n",
    "print(f'y: {y}')"
   ]
  },
  {
   "cell_type": "markdown",
   "id": "50b6ff08",
   "metadata": {},
   "source": [
    "Następnie należało zbadać relację między zmiennymi $x_{1}$ i $x_{2}$ oraz narysować wykres ich zależności. Oczywiście ze względu na sposób generowania wartości $x_{2}$ wiemy, że ta relacja będzie liniowa (w danych można zauważyć liniowy wzór):"
   ]
  },
  {
   "cell_type": "code",
   "execution_count": 35,
   "id": "69e6b82d",
   "metadata": {},
   "outputs": [
    {
     "data": {
      "image/png": "[encoded data removed]",
      "text/plain": [
       "<Figure size 432x288 with 1 Axes>"
      ]
     },
     "metadata": {
      "needs_background": "light"
     },
     "output_type": "display_data"
    }
   ],
   "source": [
    "def plot_relation(x1, x2):\n",
    "    plt.title(f'Zależność między zmiennymi x1 i x2')\n",
    "    \n",
    "    plt.xlabel(f'x1')\n",
    "    plt.ylabel(f'x2')\n",
    "    \n",
    "    plt.plot(x1, x2, '.', color='black')\n",
    "    \n",
    "    plt.show()\n",
    "    \n",
    "plot_relation(x1, x2)"
   ]
  },
  {
   "cell_type": "markdown",
   "id": "e78819a9",
   "metadata": {},
   "source": [
    "Jak widać powyżej w tej zależności widać liniowy wzór (między innymi). Następnie należało przeprowadzić regresję liniową na tym modelu. Za to odpowiada poniższy kod:"
   ]
  },
  {
   "cell_type": "code",
   "execution_count": 36,
   "id": "32ab76ac",
   "metadata": {},
   "outputs": [
    {
     "name": "stdout",
     "output_type": "stream",
     "text": [
      "Wartości współczynników b1, b2, b0: [ 2.25849206 -0.1338255   2.05170806]\n",
      "Podsumowanie:                             OLS Regression Results                            \n",
      "==============================================================================\n",
      "Dep. Variable:                      y   R-squared:                       0.341\n",
      "Model:                            OLS   Adj. R-squared:                  0.328\n",
      "Method:                 Least Squares   F-statistic:                     25.11\n",
      "Date:                Sat, 19 Nov 2022   Prob (F-statistic):           1.63e-09\n",
      "Time:                        20:22:45   Log-Likelihood:                -130.98\n",
      "No. Observations:                 100   AIC:                             268.0\n",
      "Df Residuals:                      97   BIC:                             275.8\n",
      "Df Model:                           2                                         \n",
      "Covariance Type:            nonrobust                                         \n",
      "==============================================================================\n",
      "                 coef    std err          t      P>|t|      [0.025      0.975]\n",
      "------------------------------------------------------------------------------\n",
      "x1             2.2585      0.520      4.343      0.000       1.226       3.291\n",
      "x2            -0.1338      0.877     -0.153      0.879      -1.874       1.606\n",
      "const          2.0517      0.180     11.416      0.000       1.695       2.408\n",
      "==============================================================================\n",
      "Omnibus:                        4.149   Durbin-Watson:                   1.901\n",
      "Prob(Omnibus):                  0.126   Jarque-Bera (JB):                2.629\n",
      "Skew:                          -0.199   Prob(JB):                        0.269\n",
      "Kurtosis:                       2.313   Cond. No.                         12.5\n",
      "==============================================================================\n",
      "\n",
      "Notes:\n",
      "[1] Standard Errors assume that the covariance matrix of the errors is correctly specified.\n"
     ]
    }
   ],
   "source": [
    "def my_linear_regression(x1, x2, y):\n",
    "    number_of_samples = x1.size\n",
    "    \n",
    "    predictors = np.column_stack((x1, x2, np.ones(number_of_samples)))\n",
    "    \n",
    "    model = sm.OLS(y, predictors)\n",
    "    \n",
    "    results = model.fit()\n",
    "    \n",
    "    return results\n",
    "\n",
    "results = my_linear_regression(x1, x2, y)\n",
    "\n",
    "print(f'Wartości współczynników b1, b2, b0: {results.params}')\n",
    "print(f'Podsumowanie: {results.summary()}')"
   ]
  },
  {
   "cell_type": "markdown",
   "id": "b946b8fb",
   "metadata": {},
   "source": [
    "Jak widać współczynniki $\\hat{\\beta_{0}}$, $\\hat{\\beta_{1}}$ oraz $\\hat{\\beta_{2}}$ różnią się od prawdziwych wartości $\\beta_{0}$, $\\beta_{1}$ i $\\beta_{2}$ (nie są tak bliskie jak w poprzednich przypadkach) i mają znacznie większe wartości błędów standardowych. Dla wartości $\\beta_{1}$ *p-value* wynosi $0$, więc mogę odrzucić tezę $H_{0}: \\beta_{1} = 0$, ale nie mogę odrzucić tezy $H_{0}: \\beta_{2} = 0$ (bo w tym przypadku $p-value$ jest dużo większe niż powszechnie przyjęte $\\alpha = 5\\%$). W następnym kroku należało dokonać regresji liniowej, ale używając tylko zmiennej $x_{1}$:"
   ]
  },
  {
   "cell_type": "code",
   "execution_count": 25,
   "id": "2417d6b6",
   "metadata": {},
   "outputs": [
    {
     "name": "stdout",
     "output_type": "stream",
     "text": [
      "                            OLS Regression Results                            \n",
      "==============================================================================\n",
      "Dep. Variable:                      y   R-squared:                       0.236\n",
      "Model:                            OLS   Adj. R-squared:                  0.228\n",
      "Method:                 Least Squares   F-statistic:                     30.25\n",
      "Date:                Fri, 18 Nov 2022   Prob (F-statistic):           3.03e-07\n",
      "Time:                        22:20:04   Log-Likelihood:                -143.68\n",
      "No. Observations:                 100   AIC:                             291.4\n",
      "Df Residuals:                      98   BIC:                             296.6\n",
      "Df Model:                           1                                         \n",
      "Covariance Type:            nonrobust                                         \n",
      "==============================================================================\n",
      "                 coef    std err          t      P>|t|      [0.025      0.975]\n",
      "------------------------------------------------------------------------------\n",
      "const          2.1049      0.188     11.203      0.000       1.732       2.478\n",
      "x1             1.9459      0.354      5.500      0.000       1.244       2.648\n",
      "==============================================================================\n",
      "Omnibus:                        0.735   Durbin-Watson:                   1.905\n",
      "Prob(Omnibus):                  0.693   Jarque-Bera (JB):                0.839\n",
      "Skew:                          -0.187   Prob(JB):                        0.657\n",
      "Kurtosis:                       2.752   Cond. No.                         4.17\n",
      "==============================================================================\n",
      "\n",
      "Notes:\n",
      "[1] Standard Errors assume that the covariance matrix of the errors is correctly specified.\n"
     ]
    }
   ],
   "source": [
    "x_with_constant = sm.add_constant(x1)\n",
    "\n",
    "results = my_lin_reg(y, x_with_constant)\n",
    "\n",
    "print(results.summary())"
   ]
  },
  {
   "cell_type": "markdown",
   "id": "ea3e3eb3",
   "metadata": {},
   "source": [
    "Jak widać w tym przypadku $p-value$ dla $x_{1}$ jest równe $0.000$. Z tego wynika, że mogę odrzucić teze $H_{0}: \\beta_{1} = 0$. Ponadto widać, że zmalała wartość błędu standardowego dla estymatora współczynnika $\\beta_{1}$.\n",
    "W następnym punkcie dokonam regersji, ale biorąc jedynie $x_{2}$ jako zmienną zależną:"
   ]
  },
  {
   "cell_type": "code",
   "execution_count": 26,
   "id": "4af5710a",
   "metadata": {},
   "outputs": [
    {
     "name": "stdout",
     "output_type": "stream",
     "text": [
      "                            OLS Regression Results                            \n",
      "==============================================================================\n",
      "Dep. Variable:                      y   R-squared:                       0.218\n",
      "Model:                            OLS   Adj. R-squared:                  0.210\n",
      "Method:                 Least Squares   F-statistic:                     27.32\n",
      "Date:                Fri, 18 Nov 2022   Prob (F-statistic):           9.74e-07\n",
      "Time:                        22:21:20   Log-Likelihood:                -144.83\n",
      "No. Observations:                 100   AIC:                             293.7\n",
      "Df Residuals:                      98   BIC:                             298.9\n",
      "Df Model:                           1                                         \n",
      "Covariance Type:            nonrobust                                         \n",
      "==============================================================================\n",
      "                 coef    std err          t      P>|t|      [0.025      0.975]\n",
      "------------------------------------------------------------------------------\n",
      "const          2.3101      0.164     14.125      0.000       1.986       2.635\n",
      "x1             3.0548      0.584      5.227      0.000       1.895       4.215\n",
      "==============================================================================\n",
      "Omnibus:                        0.782   Durbin-Watson:                   1.741\n",
      "Prob(Omnibus):                  0.676   Jarque-Bera (JB):                0.516\n",
      "Skew:                          -0.172   Prob(JB):                        0.773\n",
      "Kurtosis:                       3.074   Cond. No.                         5.89\n",
      "==============================================================================\n",
      "\n",
      "Notes:\n",
      "[1] Standard Errors assume that the covariance matrix of the errors is correctly specified.\n"
     ]
    }
   ],
   "source": [
    "x2_with_constant = sm.add_constant(x2)\n",
    "\n",
    "results = my_lin_reg(y, x2_with_constant)\n",
    "\n",
    "print(f'{results.summary()}')"
   ]
  },
  {
   "cell_type": "markdown",
   "id": "ba2710e7",
   "metadata": {},
   "source": [
    "W tym przypadku widać, że $p\\_value$ dla $\\beta_{1}$ jest znowu równe $0.00$, czyli znowu mogę odrzucić teze, że $H_{0}: \\beta_{1} = 0$. Oprócz tego znacznie wzrósł błąd standardowy estymatora wartości $\\beta_{1}$. W pierwszym kroku otrzymaliśmy, że można odrzucić teze $H_{0}: \\beta_{2} = 0$, a w tym punkcie otrzymaliśmy, że można odrzucić tezę, że współczynnik przy $x_{2}$ jest równy $0$. Nie stanowi to sprzeczności, ponieważ wartości $x_{2}$ są zależne od wartości $x_{1}$, zatem z wartości $x_{1}$ można *estymować* wartości $x_{2}$, więc dodanie tej zmiennej do modelu nic nie wnosi (sama w sobie może nie mieć wpływu na wynik, bo tak naprawdę jest zmienną $x_{1}$ tylko trochę przerobioną). To, że $x_{2}$ jest tak naprawdę przerobioną zmienną $x_{1}$ widać po ostatnim przykładzie, gdzie możemy odrzucić tezę, że $\\beta_{1} = 0$. W następnym punkcie należało dodać do wektorów ***x1*** oraz ***x2*** pewne wartości, które traktujemy jako błędne (źle zmierzone). Za to odpowiada poniższy kod:"
   ]
  },
  {
   "cell_type": "code",
   "execution_count": 37,
   "id": "1e84221f",
   "metadata": {},
   "outputs": [],
   "source": [
    "x1 = np.append(x1, 0.1)\n",
    "x2 = np.append(x2, 0.8)\n",
    "y = np.append(y, 6)"
   ]
  },
  {
   "cell_type": "markdown",
   "id": "56215928",
   "metadata": {},
   "source": [
    "Następnie dokonamy regresji na nowych wektorach $x_{1}$, $x_{2}$ oraz $y$. Za to odpowiada kod umieszczony poniżej:"
   ]
  },
  {
   "cell_type": "code",
   "execution_count": 38,
   "id": "5812dae3",
   "metadata": {},
   "outputs": [
    {
     "name": "stdout",
     "output_type": "stream",
     "text": [
      "Wyniki:                             OLS Regression Results                            \n",
      "==============================================================================\n",
      "Dep. Variable:                      y   R-squared:                       0.308\n",
      "Model:                            OLS   Adj. R-squared:                  0.294\n",
      "Method:                 Least Squares   F-statistic:                     21.81\n",
      "Date:                Sat, 19 Nov 2022   Prob (F-statistic):           1.47e-08\n",
      "Time:                        20:50:59   Log-Likelihood:                -137.53\n",
      "No. Observations:                 101   AIC:                             281.1\n",
      "Df Residuals:                      98   BIC:                             288.9\n",
      "Df Model:                           2                                         \n",
      "Covariance Type:            nonrobust                                         \n",
      "==============================================================================\n",
      "                 coef    std err          t      P>|t|      [0.025      0.975]\n",
      "------------------------------------------------------------------------------\n",
      "x1             1.3340      0.468      2.852      0.005       0.406       2.262\n",
      "x2             1.5646      0.761      2.057      0.042       0.055       3.074\n",
      "const          2.0864      0.189     11.042      0.000       1.711       2.461\n",
      "==============================================================================\n",
      "Omnibus:                        2.058   Durbin-Watson:                   2.045\n",
      "Prob(Omnibus):                  0.357   Jarque-Bera (JB):                1.470\n",
      "Skew:                          -0.033   Prob(JB):                        0.480\n",
      "Kurtosis:                       2.413   Cond. No.                         10.2\n",
      "==============================================================================\n",
      "\n",
      "Notes:\n",
      "[1] Standard Errors assume that the covariance matrix of the errors is correctly specified.\n"
     ]
    }
   ],
   "source": [
    "result = my_linear_regression(x1, x2, y)\n",
    "\n",
    "print(f'Wyniki: {result.summary()}')"
   ]
  },
  {
   "cell_type": "markdown",
   "id": "2e580f6d",
   "metadata": {},
   "source": [
    "Regresje tylko ze zmienną $x_{1}$ albo $x_{2}$:"
   ]
  },
  {
   "cell_type": "code",
   "execution_count": 39,
   "id": "13a711fe",
   "metadata": {},
   "outputs": [
    {
     "name": "stdout",
     "output_type": "stream",
     "text": [
      "                            OLS Regression Results                            \n",
      "==============================================================================\n",
      "Dep. Variable:                      y   R-squared:                       0.278\n",
      "Model:                            OLS   Adj. R-squared:                  0.271\n",
      "Method:                 Least Squares   F-statistic:                     38.14\n",
      "Date:                Sat, 19 Nov 2022   Prob (F-statistic):           1.46e-08\n",
      "Time:                        20:52:06   Log-Likelihood:                -139.66\n",
      "No. Observations:                 101   AIC:                             283.3\n",
      "Df Residuals:                      99   BIC:                             288.6\n",
      "Df Model:                           1                                         \n",
      "Covariance Type:            nonrobust                                         \n",
      "==============================================================================\n",
      "                 coef    std err          t      P>|t|      [0.025      0.975]\n",
      "------------------------------------------------------------------------------\n",
      "const          2.1661      0.188     11.525      0.000       1.793       2.539\n",
      "x1             2.0291      0.329      6.175      0.000       1.377       2.681\n",
      "==============================================================================\n",
      "Omnibus:                        4.078   Durbin-Watson:                   1.903\n",
      "Prob(Omnibus):                  0.130   Jarque-Bera (JB):                3.652\n",
      "Skew:                           0.304   Prob(JB):                        0.161\n",
      "Kurtosis:                       3.706   Cond. No.                         4.26\n",
      "==============================================================================\n",
      "\n",
      "Notes:\n",
      "[1] Standard Errors assume that the covariance matrix of the errors is correctly specified.\n"
     ]
    }
   ],
   "source": [
    "x1_with_constant = sm.add_constant(x1)\n",
    "\n",
    "results = my_lin_reg(y, x1_with_constant)\n",
    "\n",
    "print(results.summary())"
   ]
  },
  {
   "cell_type": "code",
   "execution_count": 40,
   "id": "e521233a",
   "metadata": {},
   "outputs": [
    {
     "name": "stdout",
     "output_type": "stream",
     "text": [
      "                            OLS Regression Results                            \n",
      "==============================================================================\n",
      "Dep. Variable:                      y   R-squared:                       0.251\n",
      "Model:                            OLS   Adj. R-squared:                  0.243\n",
      "Method:                 Least Squares   F-statistic:                     33.09\n",
      "Date:                Sat, 19 Nov 2022   Prob (F-statistic):           9.82e-08\n",
      "Time:                        20:52:20   Log-Likelihood:                -141.56\n",
      "No. Observations:                 101   AIC:                             287.1\n",
      "Df Residuals:                      99   BIC:                             292.3\n",
      "Df Model:                           1                                         \n",
      "Covariance Type:            nonrobust                                         \n",
      "==============================================================================\n",
      "                 coef    std err          t      P>|t|      [0.025      0.975]\n",
      "------------------------------------------------------------------------------\n",
      "const          2.3191      0.176     13.141      0.000       1.969       2.669\n",
      "x1             3.1319      0.544      5.753      0.000       2.052       4.212\n",
      "==============================================================================\n",
      "Omnibus:                       12.704   Durbin-Watson:                   2.150\n",
      "Prob(Omnibus):                  0.002   Jarque-Bera (JB):                4.087\n",
      "Skew:                          -0.079   Prob(JB):                        0.130\n",
      "Kurtosis:                       2.027   Cond. No.                         5.92\n",
      "==============================================================================\n",
      "\n",
      "Notes:\n",
      "[1] Standard Errors assume that the covariance matrix of the errors is correctly specified.\n"
     ]
    }
   ],
   "source": [
    "x2_with_constant = sm.add_constant(x2)\n",
    "\n",
    "results = my_lin_reg(y, x2_with_constant)\n",
    "\n",
    "print(results.summary())"
   ]
  },
  {
   "cell_type": "markdown",
   "id": "10c447ac",
   "metadata": {},
   "source": [
    "Analizując wyżej otrzymane wyniki można zauważyć, że błędy standardowe dla estymatorów wartości $\\beta_{1}$ oraz $\\beta_{2}$ znacznie spadły (dla estymatora $\\beta_{0}$ spadek tej wartości nie był tak duży). Podobnie w dwóch następnych modelach błędy standardowe estymatora wartości $\\beta_{1}$ również znacznie spadły. Dodanie tego nowego punktu spowodowało, że w pierwszym modelu wartości $R^{2}$ oraz $\\hat{R}^{2}$ spadły (czyli pogorszyło się dopasowanie do danych) a dla dwóch następnych modeli można zauważyć wzrost wartości tych współczynników (czyli poprawiło się dopasowanie do danych). Poniżej narysuje wykresy zależności $x_{2}$ od $x_{1}$ z nowym punktem, wykres zależności $y$ od $x_{1}$ z nowym punktem oraz wykres zależności $y$ od $x_{2}$ (również z nowym punktem, który jest zaznaczony kolorem czerwonym)."
   ]
  },
  {
   "cell_type": "code",
   "execution_count": 41,
   "id": "97c96c25",
   "metadata": {},
   "outputs": [
    {
     "data": {
      "image/png": "[encoded data removed]",
      "text/plain": [
       "<Figure size 432x288 with 1 Axes>"
      ]
     },
     "metadata": {
      "needs_background": "light"
     },
     "output_type": "display_data"
    }
   ],
   "source": [
    "plt.title(f'Wykres zależności x2 od x1')\n",
    "\n",
    "plt.xlabel(f'x1')\n",
    "plt.ylabel(f'x2')\n",
    "\n",
    "plt.plot(x1, x2, '.', color='blue')\n",
    "plt.plot([0.1], [0.8], '.', color='red')\n",
    "\n",
    "plt.show()"
   ]
  },
  {
   "cell_type": "code",
   "execution_count": 42,
   "id": "e3769391",
   "metadata": {},
   "outputs": [
    {
     "data": {
      "image/png": "[encoded data removed]",
      "text/plain": [
       "<Figure size 432x288 with 1 Axes>"
      ]
     },
     "metadata": {
      "needs_background": "light"
     },
     "output_type": "display_data"
    }
   ],
   "source": [
    "plt.title(f'Wykres zależności y od x1')\n",
    "\n",
    "plt.xlabel(f'x1')\n",
    "plt.ylabel(f'y')\n",
    "\n",
    "plt.plot(x1, y, '.', color='blue')\n",
    "plt.plot([0.1], [6], '.', color='red')\n",
    "\n",
    "plt.show()"
   ]
  },
  {
   "cell_type": "code",
   "execution_count": 43,
   "id": "55f9039e",
   "metadata": {},
   "outputs": [
    {
     "data": {
      "image/png": "[encoded data removed]",
      "text/plain": [
       "<Figure size 432x288 with 1 Axes>"
      ]
     },
     "metadata": {
      "needs_background": "light"
     },
     "output_type": "display_data"
    }
   ],
   "source": [
    "plt.title(f'Wykres zależności y od x2')\n",
    "\n",
    "plt.xlabel(f'x2')\n",
    "plt.ylabel(f'y')\n",
    "\n",
    "plt.plot(x2, y, '.', color='blue')\n",
    "plt.plot([0.8], [6], '.', color='red')\n",
    "\n",
    "plt.show()"
   ]
  },
  {
   "cell_type": "markdown",
   "id": "7c7bbd69",
   "metadata": {},
   "source": [
    "Na podstawie pierwszego wykresu można zauważyć, że nowy punkt w pierwszym modelu jest zarówno outlierem (bo dodanie go spowodowało spadek dopasowania linii z regresji do zbioru danych) i high leverage pointem bo widać, że ma nietypową wartość jeśli chodzi o zmienną $x_{2}$. W drugim przypadku, ta obserwacja nie jest ani outlierem ani high leverage pointem (wartości $x_{1}$ oraz $y$ dla tego punktu są w normie). Z kolei w trzecim modelu, ta nowa oberwacja jest high leverage pointem, bo nie ma ekstremalnej wartości $y$, ale ma esktremalną wartość $x_{2}$. Oczywiście tutaj mamy szczęście, bo mamy mało zmiennych w modelu i mamy tylko jeden predyktor, co umożliwia nam narysowanie tych wykresów i sprawdzenie czym jest właściwie dana obserwacja. Jednakże w bardziej skomplikowanych przypadkach, takie proste podejście może nie być możliwe. W takiej sytuacji do wykrywania outlierów i high leverage pointów można użyć odpowiednio wykresu residuów oraz tzw. leverage statistic (im większa wartość tego parametru, tym większa szansa na to, że dana obserwacja jest high leverage pointem)."
   ]
  },
  {
   "cell_type": "markdown",
   "id": "da97505e",
   "metadata": {},
   "source": [
    "## Zadanie 10"
   ]
  },
  {
   "cell_type": "markdown",
   "id": "9a07b073",
   "metadata": {},
   "source": [
    "W zadaniu 10 należało wczytać dane z pliku *Auto.csv* jako ***dataframe*** i zmienic typ kolumny *origin* na typ *category*. Potem należało rozdzielić ten zbiór danych na zbiór treningowy i walidacyjny (przyjąłem stosunek odpowiednio $80 \\%$ oraz $20 \\%$). Za te kroki odpowiada poniższy kod:"
   ]
  },
  {
   "cell_type": "code",
   "execution_count": 72,
   "id": "f6baaada",
   "metadata": {},
   "outputs": [
    {
     "data": {
      "text/html": [
       "<div>\n",
       "<style scoped>\n",
       "    .dataframe tbody tr th:only-of-type {\n",
       "        vertical-align: middle;\n",
       "    }\n",
       "\n",
       "    .dataframe tbody tr th {\n",
       "        vertical-align: top;\n",
       "    }\n",
       "\n",
       "    .dataframe thead th {\n",
       "        text-align: right;\n",
       "    }\n",
       "</style>\n",
       "<table border=\"1\" class=\"dataframe\">\n",
       "  <thead>\n",
       "    <tr style=\"text-align: right;\">\n",
       "      <th></th>\n",
       "      <th>mpg</th>\n",
       "      <th>cylinders</th>\n",
       "      <th>displacement</th>\n",
       "      <th>horsepower</th>\n",
       "      <th>weight</th>\n",
       "      <th>acceleration</th>\n",
       "      <th>year</th>\n",
       "      <th>origin</th>\n",
       "      <th>name</th>\n",
       "    </tr>\n",
       "  </thead>\n",
       "  <tbody>\n",
       "    <tr>\n",
       "      <th>0</th>\n",
       "      <td>18.0</td>\n",
       "      <td>8</td>\n",
       "      <td>307.0</td>\n",
       "      <td>130</td>\n",
       "      <td>3504</td>\n",
       "      <td>12.0</td>\n",
       "      <td>70</td>\n",
       "      <td>1</td>\n",
       "      <td>chevrolet chevelle malibu</td>\n",
       "    </tr>\n",
       "    <tr>\n",
       "      <th>1</th>\n",
       "      <td>15.0</td>\n",
       "      <td>8</td>\n",
       "      <td>350.0</td>\n",
       "      <td>165</td>\n",
       "      <td>3693</td>\n",
       "      <td>11.5</td>\n",
       "      <td>70</td>\n",
       "      <td>1</td>\n",
       "      <td>buick skylark 320</td>\n",
       "    </tr>\n",
       "    <tr>\n",
       "      <th>2</th>\n",
       "      <td>18.0</td>\n",
       "      <td>8</td>\n",
       "      <td>318.0</td>\n",
       "      <td>150</td>\n",
       "      <td>3436</td>\n",
       "      <td>11.0</td>\n",
       "      <td>70</td>\n",
       "      <td>1</td>\n",
       "      <td>plymouth satellite</td>\n",
       "    </tr>\n",
       "    <tr>\n",
       "      <th>3</th>\n",
       "      <td>16.0</td>\n",
       "      <td>8</td>\n",
       "      <td>304.0</td>\n",
       "      <td>150</td>\n",
       "      <td>3433</td>\n",
       "      <td>12.0</td>\n",
       "      <td>70</td>\n",
       "      <td>1</td>\n",
       "      <td>amc rebel sst</td>\n",
       "    </tr>\n",
       "    <tr>\n",
       "      <th>4</th>\n",
       "      <td>17.0</td>\n",
       "      <td>8</td>\n",
       "      <td>302.0</td>\n",
       "      <td>140</td>\n",
       "      <td>3449</td>\n",
       "      <td>10.5</td>\n",
       "      <td>70</td>\n",
       "      <td>1</td>\n",
       "      <td>ford torino</td>\n",
       "    </tr>\n",
       "  </tbody>\n",
       "</table>\n",
       "</div>"
      ],
      "text/plain": [
       "    mpg  cylinders  displacement horsepower  weight  acceleration  year  \\\n",
       "0  18.0          8         307.0        130    3504          12.0    70   \n",
       "1  15.0          8         350.0        165    3693          11.5    70   \n",
       "2  18.0          8         318.0        150    3436          11.0    70   \n",
       "3  16.0          8         304.0        150    3433          12.0    70   \n",
       "4  17.0          8         302.0        140    3449          10.5    70   \n",
       "\n",
       "   origin                       name  \n",
       "0       1  chevrolet chevelle malibu  \n",
       "1       1          buick skylark 320  \n",
       "2       1         plymouth satellite  \n",
       "3       1              amc rebel sst  \n",
       "4       1                ford torino  "
      ]
     },
     "execution_count": 72,
     "metadata": {},
     "output_type": "execute_result"
    }
   ],
   "source": [
    "PATH = f'Downloads/Auto.csv'\n",
    "\n",
    "df = pd.read_csv(PATH)\n",
    "\n",
    "df.head(n=5)"
   ]
  },
  {
   "cell_type": "markdown",
   "id": "06ed1653",
   "metadata": {},
   "source": [
    "Jak widać tak prezentuje się 5 pierwszych wierszy w tabeli z danymi z rozważanego pliku. Sprawdzimy jeszcze, czy w danych nie ma pustych wartości (tzn. *null values*):"
   ]
  },
  {
   "cell_type": "code",
   "execution_count": 73,
   "id": "e94266fb",
   "metadata": {},
   "outputs": [
    {
     "data": {
      "text/plain": [
       "mpg             0\n",
       "cylinders       0\n",
       "displacement    0\n",
       "horsepower      0\n",
       "weight          0\n",
       "acceleration    0\n",
       "year            0\n",
       "origin          0\n",
       "name            0\n",
       "dtype: int64"
      ]
     },
     "execution_count": 73,
     "metadata": {},
     "output_type": "execute_result"
    }
   ],
   "source": [
    "df.isnull().sum()"
   ]
  },
  {
   "cell_type": "markdown",
   "id": "7c1aad87",
   "metadata": {},
   "source": [
    "Jak widać, nie ma żadnych pustych wartości (zatem nie mamy brakujących obserwacji). Zmienimy teraz typ kolumny *origin* na category:"
   ]
  },
  {
   "cell_type": "code",
   "execution_count": 74,
   "id": "215fe0ca",
   "metadata": {},
   "outputs": [
    {
     "name": "stdout",
     "output_type": "stream",
     "text": [
      "Typy kolumn: mpg              float64\n",
      "cylinders          int64\n",
      "displacement     float64\n",
      "horsepower        object\n",
      "weight             int64\n",
      "acceleration     float64\n",
      "year               int64\n",
      "origin          category\n",
      "name              object\n",
      "dtype: object\n"
     ]
    }
   ],
   "source": [
    "df = df.astype({'origin': 'category'})\n",
    "print(f'Typy kolumn: {df.dtypes}')"
   ]
  },
  {
   "cell_type": "markdown",
   "id": "f5aca36b",
   "metadata": {},
   "source": [
    "Teraz podzielimy zbiór na zbiory treningowe i walidacyjne:"
   ]
  },
  {
   "cell_type": "code",
   "execution_count": 75,
   "id": "7642c191",
   "metadata": {},
   "outputs": [],
   "source": [
    "mask = np.random.rand(len(df)) < 0.8\n",
    "\n",
    "training_set = df[mask]\n",
    "validation_set = df[~mask]"
   ]
  },
  {
   "cell_type": "markdown",
   "id": "3137a97d",
   "metadata": {},
   "source": [
    "Następnie dokonam regresji liniowej na otrzymanym zbiorze danych. Moim predykatorem jest zmienna ***horsepower*** a odpowiedzią jest ***mpg***. Jednakże w kolumnie $horsepower$ znajdują się pola bez wartości. W tej sytuacji możemy ominąć te pola lub obliczyć średnią tej zmiennej dla wszystkich samochodów pochodzących z tego samego regionu. W tym przypadku wybrałem to pierwsze rozwiązanie:"
   ]
  },
  {
   "cell_type": "code",
   "execution_count": 76,
   "id": "e06c3df0",
   "metadata": {},
   "outputs": [
    {
     "name": "stdout",
     "output_type": "stream",
     "text": [
      "Błąd na zbiorze treningowym: 25.09676897478251\n",
      "Błąd na zbiorze walidacyjnym: 19.815561110469705\n",
      "Podsumowanie:                             OLS Regression Results                            \n",
      "==============================================================================\n",
      "Dep. Variable:                    mpg   R-squared:                       0.595\n",
      "Model:                            OLS   Adj. R-squared:                  0.593\n",
      "Method:                 Least Squares   F-statistic:                     449.0\n",
      "Date:                Wed, 23 Nov 2022   Prob (F-statistic):           5.79e-62\n",
      "Time:                        14:24:32   Log-Likelihood:                -933.33\n",
      "No. Observations:                 308   AIC:                             1871.\n",
      "Df Residuals:                     306   BIC:                             1878.\n",
      "Df Model:                           1                                         \n",
      "Covariance Type:            nonrobust                                         \n",
      "==============================================================================\n",
      "                 coef    std err          t      P>|t|      [0.025      0.975]\n",
      "------------------------------------------------------------------------------\n",
      "Intercept     39.5249      0.813     48.618      0.000      37.925      41.125\n",
      "horsepower    -0.1541      0.007    -21.189      0.000      -0.168      -0.140\n",
      "==============================================================================\n",
      "Omnibus:                       10.992   Durbin-Watson:                   0.900\n",
      "Prob(Omnibus):                  0.004   Jarque-Bera (JB):               11.208\n",
      "Skew:                           0.459   Prob(JB):                      0.00368\n",
      "Kurtosis:                       3.177   Cond. No.                         317.\n",
      "==============================================================================\n",
      "\n",
      "Notes:\n",
      "[1] Standard Errors assume that the covariance matrix of the errors is correctly specified.\n"
     ]
    }
   ],
   "source": [
    "def my_linear_regression(training_set, validation_set, model_formula, printMSE=False):\n",
    "    y_train, X_train = dmatrices(model_formula, data=training_set, return_type='dataframe')\n",
    "    y_valid, X_valid = dmatrices(model_formula, data=validation_set, return_type='dataframe')\n",
    "    \n",
    "    model = sm.OLS(y_train, X_train)\n",
    "    result = model.fit()\n",
    "    \n",
    "    if printMSE == True:\n",
    "        y_train_prediction = result.predict(X_train)\n",
    "        y_valid_prediction = result.predict(X_valid)\n",
    "        \n",
    "        print(f'Błąd na zbiorze treningowym: {metrics.mean_squared_error(y_train, y_train_prediction)}')\n",
    "        print(f'Błąd na zbiorze walidacyjnym: {metrics.mean_squared_error(y_valid, y_valid_prediction)}')\n",
    "    \n",
    "    return result\n",
    "\n",
    "new_training_set = training_set.loc[training_set['horsepower'] != '?']\n",
    "new_validation_set = validation_set.loc[validation_set['horsepower'] != '?']\n",
    "\n",
    "new_training_set = new_training_set.astype({'horsepower': 'int64'})\n",
    "new_validation_set = new_validation_set.astype({'horsepower': 'int64'})\n",
    "\n",
    "result = my_linear_regression(new_training_set, new_validation_set, f'mpg ~ horsepower', True)\n",
    "print(f'Podsumowanie: {result.summary()}')"
   ]
  },
  {
   "cell_type": "markdown",
   "id": "5f0b8019",
   "metadata": {},
   "source": [
    "W następnym kroku należało utworzyć macierz zależności między wszystkimi zmiennymi w modelu i obliczyć macierz korelacji. Za ten krok odpowiada poniższy kod:"
   ]
  },
  {
   "cell_type": "code",
   "execution_count": 77,
   "id": "b6eb0dc0",
   "metadata": {},
   "outputs": [
    {
     "name": "stdout",
     "output_type": "stream",
     "text": [
      "                   mpg  cylinders  displacement    weight  acceleration  \\\n",
      "mpg           1.000000  -0.776260     -0.804443 -0.831739      0.422297   \n",
      "cylinders    -0.776260   1.000000      0.950920  0.897017     -0.504061   \n",
      "displacement -0.804443   0.950920      1.000000  0.933104     -0.544162   \n",
      "weight       -0.831739   0.897017      0.933104  1.000000     -0.419502   \n",
      "acceleration  0.422297  -0.504061     -0.544162 -0.419502      1.000000   \n",
      "year          0.581469  -0.346717     -0.369804 -0.307900      0.282901   \n",
      "\n",
      "                  year  \n",
      "mpg           0.581469  \n",
      "cylinders    -0.346717  \n",
      "displacement -0.369804  \n",
      "weight       -0.307900  \n",
      "acceleration  0.282901  \n",
      "year          1.000000  \n"
     ]
    },
    {
     "data": {
      "image/png": "[encoded data removed]",
      "text/plain": [
       "<Figure size 576x576 with 36 Axes>"
      ]
     },
     "metadata": {
      "needs_background": "light"
     },
     "output_type": "display_data"
    }
   ],
   "source": [
    "print(f'{df.corr()}')\n",
    "axis = pd.plotting.scatter_matrix(df, color=f'red', figsize=(8, 8))"
   ]
  },
  {
   "cell_type": "markdown",
   "id": "ba085508",
   "metadata": {},
   "source": [
    "Jak widać po macierzy korelacji i otrzymanym wykresie, (niestety) zmienne nie są od siebie niezależne. Ponadto, wartości w macierzy korelacji wskazują na to, że część zmiennych jest zależna od siebie liniowo (np. ***displacement*** i ***weight***)."
   ]
  },
  {
   "cell_type": "markdown",
   "id": "f57a72fb",
   "metadata": {},
   "source": [
    "W następnym kroku należało przetestować modele z różnymi zmiennymi (i ich kombinacjami) jako predykatory (również należało obliczać pewne funkcje na wartościach tych zmiennych) i wykonać na tych modelach regresję. Poniżej znajdują się przetestowane przeze mnie modele:"
   ]
  },
  {
   "cell_type": "code",
   "execution_count": 78,
   "id": "d2314989",
   "metadata": {},
   "outputs": [
    {
     "name": "stdout",
     "output_type": "stream",
     "text": [
      "~~~~~ MODEL: mpg ~ cylinders + acceleration:year ~~~~~\n",
      "Błąd na zbiorze treningowym: 24.091083003456003\n",
      "Błąd na zbiorze walidacyjnym: 20.126409651111118\n",
      "~~~~~ MODEL: mpg ~ cylinders*acceleration*year ~~~~~\n",
      "Błąd na zbiorze treningowym: 16.11968206930049\n",
      "Błąd na zbiorze walidacyjnym: 17.279162552619667\n",
      "~~~~~ MODEL: mpg ~ cylinders + acceleration:displacement - 1 ~~~~~\n",
      "Błąd na zbiorze treningowym: 154.62654297925425\n",
      "Błąd na zbiorze walidacyjnym: 131.52361091474862\n",
      "~~~~~ MODEL: mpg ~ cylinders + acceleration*displacement ~~~~~\n",
      "Błąd na zbiorze treningowym: 20.839643263974747\n",
      "Błąd na zbiorze walidacyjnym: 16.142137792645183\n",
      "~~~~~ MODEL: mpg ~ I(np.reciprocal(displacement)) + I(np.sqrt(acceleration)) ~~~~~\n",
      "Błąd na zbiorze treningowym: 21.140570201489403\n",
      "Błąd na zbiorze walidacyjnym: 17.501763238509557\n",
      "~~~~~ MODEL: mpg ~ I(np.reciprocal(displacement))*I(np.sqrt(acceleration))*weight ~~~~~\n",
      "Błąd na zbiorze treningowym: 18.346753399670384\n",
      "Błąd na zbiorze walidacyjnym: 10.396839728767693\n",
      "~~~~~ MODEL: mpg ~ cylinders + acceleration + displacement + weight + origin + acceleration + year ~~~~~\n",
      "Błąd na zbiorze treningowym: 10.848395342409546\n",
      "Błąd na zbiorze walidacyjnym: 10.538520449865818\n",
      "***** Model: mpg ~ cylinders + acceleration:year *****\n",
      "                            OLS Regression Results                            \n",
      "==============================================================================\n",
      "Dep. Variable:                    mpg   R-squared:                       0.613\n",
      "Model:                            OLS   Adj. R-squared:                  0.611\n",
      "Method:                 Least Squares   F-statistic:                     246.0\n",
      "Date:                Wed, 23 Nov 2022   Prob (F-statistic):           1.05e-64\n",
      "Time:                        14:24:41   Log-Likelihood:                -942.09\n",
      "No. Observations:                 313   AIC:                             1890.\n",
      "Df Residuals:                     310   BIC:                             1901.\n",
      "Df Model:                           2                                         \n",
      "Covariance Type:            nonrobust                                         \n",
      "=====================================================================================\n",
      "                        coef    std err          t      P>|t|      [0.025      0.975]\n",
      "-------------------------------------------------------------------------------------\n",
      "Intercept            33.4553      2.439     13.717      0.000      28.656      38.254\n",
      "cylinders            -3.1028      0.195    -15.943      0.000      -3.486      -2.720\n",
      "acceleration:year     0.0059      0.001      4.228      0.000       0.003       0.009\n",
      "==============================================================================\n",
      "Omnibus:                       11.579   Durbin-Watson:                   1.042\n",
      "Prob(Omnibus):                  0.003   Jarque-Bera (JB):               11.845\n",
      "Skew:                           0.438   Prob(JB):                      0.00268\n",
      "Kurtosis:                       3.375   Cond. No.                     1.06e+04\n",
      "==============================================================================\n",
      "\n",
      "Notes:\n",
      "[1] Standard Errors assume that the covariance matrix of the errors is correctly specified.\n",
      "[2] The condition number is large, 1.06e+04. This might indicate that there are\n",
      "strong multicollinearity or other numerical problems.\n",
      "***** Model: mpg ~ cylinders*acceleration*year *****\n",
      "                            OLS Regression Results                            \n",
      "==============================================================================\n",
      "Dep. Variable:                    mpg   R-squared:                       0.741\n",
      "Model:                            OLS   Adj. R-squared:                  0.735\n",
      "Method:                 Least Squares   F-statistic:                     124.9\n",
      "Date:                Wed, 23 Nov 2022   Prob (F-statistic):           1.17e-85\n",
      "Time:                        14:24:41   Log-Likelihood:                -879.20\n",
      "No. Observations:                 313   AIC:                             1774.\n",
      "Df Residuals:                     305   BIC:                             1804.\n",
      "Df Model:                           7                                         \n",
      "Covariance Type:            nonrobust                                         \n",
      "===============================================================================================\n",
      "                                  coef    std err          t      P>|t|      [0.025      0.975]\n",
      "-----------------------------------------------------------------------------------------------\n",
      "Intercept                     -80.4434     98.112     -0.820      0.413    -273.505     112.618\n",
      "cylinders                      18.9201     15.971      1.185      0.237     -12.508      50.348\n",
      "acceleration                    3.2122      6.113      0.525      0.600      -8.817      15.241\n",
      "cylinders:acceleration         -1.3514      1.057     -1.279      0.202      -3.431       0.728\n",
      "year                            1.3987      1.291      1.083      0.280      -1.142       3.940\n",
      "cylinders:year                 -0.2591      0.213     -1.218      0.224      -0.678       0.160\n",
      "acceleration:year              -0.0296      0.080     -0.368      0.713      -0.188       0.129\n",
      "cylinders:acceleration:year     0.0157      0.014      1.116      0.265      -0.012       0.043\n",
      "==============================================================================\n",
      "Omnibus:                        7.086   Durbin-Watson:                   1.464\n",
      "Prob(Omnibus):                  0.029   Jarque-Bera (JB):                7.152\n",
      "Skew:                           0.297   Prob(JB):                       0.0280\n",
      "Kurtosis:                       3.443   Cond. No.                     2.87e+06\n",
      "==============================================================================\n",
      "\n",
      "Notes:\n",
      "[1] Standard Errors assume that the covariance matrix of the errors is correctly specified.\n",
      "[2] The condition number is large, 2.87e+06. This might indicate that there are\n",
      "strong multicollinearity or other numerical problems.\n",
      "***** Model: mpg ~ cylinders + acceleration:displacement - 1 *****\n",
      "                                 OLS Regression Results                                \n",
      "=======================================================================================\n",
      "Dep. Variable:                    mpg   R-squared (uncentered):                   0.748\n",
      "Model:                            OLS   Adj. R-squared (uncentered):              0.747\n",
      "Method:                 Least Squares   F-statistic:                              462.2\n",
      "Date:                Wed, 23 Nov 2022   Prob (F-statistic):                    7.06e-94\n",
      "Time:                        14:24:41   Log-Likelihood:                         -1233.0\n",
      "No. Observations:                 313   AIC:                                      2470.\n",
      "Df Residuals:                     311   BIC:                                      2478.\n",
      "Df Model:                           2                                                  \n",
      "Covariance Type:            nonrobust                                                  \n",
      "=============================================================================================\n",
      "                                coef    std err          t      P>|t|      [0.025      0.975]\n",
      "---------------------------------------------------------------------------------------------\n",
      "cylinders                     8.5012      0.604     14.066      0.000       7.312       9.690\n",
      "acceleration:displacement    -0.0091      0.001     -8.300      0.000      -0.011      -0.007\n",
      "==============================================================================\n",
      "Omnibus:                       21.437   Durbin-Watson:                   0.601\n",
      "Prob(Omnibus):                  0.000   Jarque-Bera (JB):               14.211\n",
      "Skew:                          -0.394   Prob(JB):                     0.000820\n",
      "Kurtosis:                       2.314   Cond. No.                     2.70e+03\n",
      "==============================================================================\n",
      "\n",
      "Notes:\n",
      "[1] R² is computed without centering (uncentered) since the model does not contain a constant.\n",
      "[2] Standard Errors assume that the covariance matrix of the errors is correctly specified.\n",
      "[3] The condition number is large, 2.7e+03. This might indicate that there are\n",
      "strong multicollinearity or other numerical problems.\n",
      "***** Model: mpg ~ cylinders + acceleration*displacement *****\n",
      "                            OLS Regression Results                            \n",
      "==============================================================================\n",
      "Dep. Variable:                    mpg   R-squared:                       0.666\n",
      "Model:                            OLS   Adj. R-squared:                  0.661\n",
      "Method:                 Least Squares   F-statistic:                     153.3\n",
      "Date:                Wed, 23 Nov 2022   Prob (F-statistic):           5.63e-72\n",
      "Time:                        14:24:41   Log-Likelihood:                -919.40\n",
      "No. Observations:                 313   AIC:                             1849.\n",
      "Df Residuals:                     308   BIC:                             1868.\n",
      "Df Model:                           4                                         \n",
      "Covariance Type:            nonrobust                                         \n",
      "=============================================================================================\n",
      "                                coef    std err          t      P>|t|      [0.025      0.975]\n",
      "---------------------------------------------------------------------------------------------\n",
      "Intercept                    21.7830      3.822      5.699      0.000      14.263      29.303\n",
      "cylinders                     0.2363      0.520      0.455      0.650      -0.787       1.259\n",
      "acceleration                  0.8666      0.210      4.128      0.000       0.454       1.280\n",
      "displacement                  0.0002      0.014      0.016      0.987      -0.027       0.028\n",
      "acceleration:displacement    -0.0046      0.001     -5.004      0.000      -0.006      -0.003\n",
      "==============================================================================\n",
      "Omnibus:                       38.991   Durbin-Watson:                   0.949\n",
      "Prob(Omnibus):                  0.000   Jarque-Bera (JB):               70.311\n",
      "Skew:                           0.708   Prob(JB):                     5.40e-16\n",
      "Kurtosis:                       4.841   Cond. No.                     4.66e+04\n",
      "==============================================================================\n",
      "\n",
      "Notes:\n",
      "[1] Standard Errors assume that the covariance matrix of the errors is correctly specified.\n",
      "[2] The condition number is large, 4.66e+04. This might indicate that there are\n",
      "strong multicollinearity or other numerical problems.\n",
      "***** Model: mpg ~ I(np.reciprocal(displacement)) + I(np.sqrt(acceleration)) *****\n"
     ]
    },
    {
     "name": "stdout",
     "output_type": "stream",
     "text": [
      "                            OLS Regression Results                            \n",
      "==============================================================================\n",
      "Dep. Variable:                    mpg   R-squared:                       0.661\n",
      "Model:                            OLS   Adj. R-squared:                  0.659\n",
      "Method:                 Least Squares   F-statistic:                     301.9\n",
      "Date:                Wed, 23 Nov 2022   Prob (F-statistic):           1.68e-73\n",
      "Time:                        14:24:41   Log-Likelihood:                -921.64\n",
      "No. Observations:                 313   AIC:                             1849.\n",
      "Df Residuals:                     310   BIC:                             1861.\n",
      "Df Model:                           2                                         \n",
      "Covariance Type:            nonrobust                                         \n",
      "==================================================================================================\n",
      "                                     coef    std err          t      P>|t|      [0.025      0.975]\n",
      "--------------------------------------------------------------------------------------------------\n",
      "Intercept                          4.6202      3.015      1.532      0.126      -1.312      10.553\n",
      "I(np.reciprocal(displacement))  1858.6282     91.102     20.402      0.000    1679.373    2037.884\n",
      "I(np.sqrt(acceleration))           1.6039      0.827      1.939      0.053      -0.024       3.232\n",
      "==============================================================================\n",
      "Omnibus:                       24.617   Durbin-Watson:                   0.842\n",
      "Prob(Omnibus):                  0.000   Jarque-Bera (JB):               71.273\n",
      "Skew:                           0.276   Prob(JB):                     3.34e-16\n",
      "Kurtosis:                       5.272   Cond. No.                     1.42e+03\n",
      "==============================================================================\n",
      "\n",
      "Notes:\n",
      "[1] Standard Errors assume that the covariance matrix of the errors is correctly specified.\n",
      "[2] The condition number is large, 1.42e+03. This might indicate that there are\n",
      "strong multicollinearity or other numerical problems.\n",
      "***** Model: mpg ~ I(np.reciprocal(displacement))*I(np.sqrt(acceleration))*weight *****\n",
      "                            OLS Regression Results                            \n",
      "==============================================================================\n",
      "Dep. Variable:                    mpg   R-squared:                       0.706\n",
      "Model:                            OLS   Adj. R-squared:                  0.699\n",
      "Method:                 Least Squares   F-statistic:                     104.4\n",
      "Date:                Wed, 23 Nov 2022   Prob (F-statistic):           3.84e-77\n",
      "Time:                        14:24:41   Log-Likelihood:                -899.46\n",
      "No. Observations:                 313   AIC:                             1815.\n",
      "Df Residuals:                     305   BIC:                             1845.\n",
      "Df Model:                           7                                         \n",
      "Covariance Type:            nonrobust                                         \n",
      "==================================================================================================================================\n",
      "                                                                     coef    std err          t      P>|t|      [0.025      0.975]\n",
      "----------------------------------------------------------------------------------------------------------------------------------\n",
      "Intercept                                                         32.4841     35.924      0.904      0.367     -38.206     103.175\n",
      "I(np.reciprocal(displacement))                                  5971.8867   4460.649      1.339      0.182   -2805.656    1.47e+04\n",
      "I(np.sqrt(acceleration))                                          -0.4355      9.373     -0.046      0.963     -18.880      18.009\n",
      "I(np.reciprocal(displacement)):I(np.sqrt(acceleration))        -1169.7486   1094.845     -1.068      0.286   -3324.154     984.656\n",
      "weight                                                            -0.0002      0.009     -0.021      0.983      -0.018       0.018\n",
      "I(np.reciprocal(displacement)):weight                             -3.2244      1.876     -1.718      0.087      -6.916       0.468\n",
      "I(np.sqrt(acceleration)):weight                                   -0.0009      0.002     -0.391      0.696      -0.006       0.004\n",
      "I(np.reciprocal(displacement)):I(np.sqrt(acceleration)):weight     0.7469      0.454      1.645      0.101      -0.146       1.640\n",
      "==============================================================================\n",
      "Omnibus:                       25.978   Durbin-Watson:                   0.816\n",
      "Prob(Omnibus):                  0.000   Jarque-Bera (JB):               39.328\n",
      "Skew:                           0.553   Prob(JB):                     2.88e-09\n",
      "Kurtosis:                       4.339   Cond. No.                     2.31e+08\n",
      "==============================================================================\n",
      "\n",
      "Notes:\n",
      "[1] Standard Errors assume that the covariance matrix of the errors is correctly specified.\n",
      "[2] The condition number is large, 2.31e+08. This might indicate that there are\n",
      "strong multicollinearity or other numerical problems.\n",
      "***** Model: mpg ~ cylinders + acceleration + displacement + weight + origin + acceleration + year *****\n",
      "                            OLS Regression Results                            \n",
      "==============================================================================\n",
      "Dep. Variable:                    mpg   R-squared:                       0.826\n",
      "Model:                            OLS   Adj. R-squared:                  0.822\n",
      "Method:                 Least Squares   F-statistic:                     206.7\n",
      "Date:                Wed, 23 Nov 2022   Prob (F-statistic):          9.01e-112\n",
      "Time:                        14:24:41   Log-Likelihood:                -817.23\n",
      "No. Observations:                 313   AIC:                             1650.\n",
      "Df Residuals:                     305   BIC:                             1680.\n",
      "Df Model:                           7                                         \n",
      "Covariance Type:            nonrobust                                         \n",
      "================================================================================\n",
      "                   coef    std err          t      P>|t|      [0.025      0.975]\n",
      "--------------------------------------------------------------------------------\n",
      "Intercept      -25.5651      4.578     -5.584      0.000     -34.574     -16.556\n",
      "origin[T.2]      2.9094      0.612      4.750      0.000       1.704       4.115\n",
      "origin[T.3]      3.0372      0.623      4.876      0.000       1.812       4.263\n",
      "cylinders       -0.2876      0.370     -0.778      0.437      -1.015       0.440\n",
      "acceleration     0.1762      0.086      2.059      0.040       0.008       0.345\n",
      "displacement     0.0169      0.008      2.052      0.041       0.001       0.033\n",
      "weight          -0.0068      0.001    -10.393      0.000      -0.008      -0.005\n",
      "year             0.8384      0.055     15.136      0.000       0.729       0.947\n",
      "==============================================================================\n",
      "Omnibus:                       12.079   Durbin-Watson:                   1.370\n",
      "Prob(Omnibus):                  0.002   Jarque-Bera (JB):               17.515\n",
      "Skew:                           0.283   Prob(JB):                     0.000157\n",
      "Kurtosis:                       4.012   Cond. No.                     7.53e+04\n",
      "==============================================================================\n",
      "\n",
      "Notes:\n",
      "[1] Standard Errors assume that the covariance matrix of the errors is correctly specified.\n",
      "[2] The condition number is large, 7.53e+04. This might indicate that there are\n",
      "strong multicollinearity or other numerical problems.\n"
     ]
    }
   ],
   "source": [
    "models = ['mpg ~ cylinders + acceleration:year',\n",
    "         'mpg ~ cylinders*acceleration*year',\n",
    "         'mpg ~ cylinders + acceleration:displacement - 1',\n",
    "         'mpg ~ cylinders + acceleration*displacement',\n",
    "         'mpg ~ I(np.reciprocal(displacement)) + I(np.sqrt(acceleration))',\n",
    "         'mpg ~ I(np.reciprocal(displacement))*I(np.sqrt(acceleration))*weight',\n",
    "         'mpg ~ cylinders + acceleration + displacement + weight + origin + acceleration + year']\n",
    "\n",
    "results_dict = dict()\n",
    "\n",
    "for m in models:\n",
    "    print(f'~~~~~ MODEL: {m} ~~~~~')\n",
    "    res = my_linear_regression(training_set, validation_set, m, True)\n",
    "    \n",
    "    results_dict[m] = res\n",
    "    \n",
    "for k, v in results_dict.items():\n",
    "    print(f'***** Model: {k} *****')\n",
    "    print(v.summary())"
   ]
  },
  {
   "cell_type": "markdown",
   "id": "75add26e",
   "metadata": {},
   "source": [
    "Jak widać powyżej, zaimplementowałem i przetestowałem $7$ różnych modeli, przy użyciu różnych znaków :, \\*, - i różnych funkcji transformujących wektory i macierze z danymi (pierwiastek kwadratowy oraz odwrotność). Jak widać po wynikach regresji oraz wartościach w macierzy korelacji, wiele zmiennych w tym zbiorze danych jest od siebie liniowo zależnych (co stanowi problem dla regresji liniowej, choćby wtedy, gdy chcemy otrzymać dobre estymacje wartości wspólczynników). Dla każdego modelu, porównuje jego wartość $\\bar{R}^{2}$ oraz błąd na zbiorze walidacyjnym. Jak widać na ostatnim modelu, w którym biorę wszystkie zmienne, błąd na zbiorze walidacyjnym jest najmniejszy (czyli estymacja błędu generalizacji) oraz wartość $\\bar{R}^{2}$ jest największa (czyli mam wytłumaczoną za pomocą regresji największą część wariancji w zbiorze danych). W ostatnim kroku należało usunąć ze zbioru danych outliery i high leverage points. Outlier jest obserwacją, dla której wartość odpowiedzi $y$ jest ekstremalna (przyjmuje zaskakująco niskie lub wysokie wartości) a wartość $x$ dla tej obserwacji jest w normie. Z kolei high leverage point jest punktem, dla którego wartość $x$ przyjmuje zaskakująco niskie lub wysokie wartości. Oba punkty mają wpływ (różny) na przebieg linii najmniejszych kwadratów. Może okazać się, że dany punkt jest zarówno outlierem i high leverage pointem (szczególnie niebezpieczna kombinacja). Z tego względu przed rozpoczęciem tworzenia modeli na jakimś zbiorze danych, dobrze jest wykryć i usunąć wspomniane wyżej anomalne punkty. Do wykrywania outlierów może przydać się wykres residuów lub tzw. Z-score. Pierwszy metoda tworzy wykres wartości residuów tj. $e_{i} = y_{i} - \\hat{y_{i}}$ i jeśli widzimy, że jakaś wartość $e_{i}$ znacząco odstaje od reszty wartości residuów, to możemy uznać tą wartość za outliera (w praktyce stosuje się wygodniejszą miarę, czyli wartości residuów unormowane estymacją odchylenia standardowego). Z kolei wartość $Z-score$ mówi nam o ile odchyleń standardowych jesteśmy od średniej dla danego zbioru danych (poniżej lub powyżej średniej). Typową wartością graniczną w tym przypadku jest 3 (zatem jeśli jakaś odpowiedź jest dalej niż 3 odchylenia standardowe od średniej to możemy uznać, że jest outlierem). Do wykrywania high leverage points można użyć tak zwanego $leverage-statistic$ ($h_{i} = \\frac{1}{n} + \\frac{(x_{i} - \\bar{x})^2}{\\sum_{i' = 1}^{n} (x_{i'} - \\bar{x})^2}$). Duża wartość tego wskaźnika wskazuje na to, że dana obserwacja może byc high leverage pointem (z reguły jako wartość graniczną przyjmuje się $\\frac{p+1}{n}$). W poniższym kodzie wykrywam i usuwam outliery i high leverage pointy:"
   ]
  },
  {
   "cell_type": "code",
   "execution_count": 79,
   "id": "42a3ec11",
   "metadata": {},
   "outputs": [
    {
     "data": {
      "text/plain": [
       "<AxesSubplot:xlabel='Fitted values', ylabel='Normalized Residuals'>"
      ]
     },
     "execution_count": 79,
     "metadata": {},
     "output_type": "execute_result"
    },
    {
     "data": {
      "image/png": "[encoded data removed]",
      "text/plain": [
       "<Figure size 432x288 with 1 Axes>"
      ]
     },
     "metadata": {
      "needs_background": "light"
     },
     "output_type": "display_data"
    }
   ],
   "source": [
    "result = results_dict['mpg ~ cylinders + acceleration:year']\n",
    "\n",
    "fitted_values = pd.Series(result.fittedvalues, name=f'Fitted values')\n",
    "residuals = pd.Series(result.resid_pearson, name=f'Normalized Residuals')\n",
    "\n",
    "sns.regplot(x=fitted_values, y=residuals, fit_reg=False)"
   ]
  },
  {
   "cell_type": "code",
   "execution_count": 80,
   "id": "4a3a0781",
   "metadata": {},
   "outputs": [
    {
     "data": {
      "text/plain": [
       "<AxesSubplot:xlabel='Leverage', ylabel='Normalized Residuals'>"
      ]
     },
     "execution_count": 80,
     "metadata": {},
     "output_type": "execute_result"
    },
    {
     "data": {
      "image/png": "[encoded data removed]",
      "text/plain": [
       "<Figure size 432x288 with 1 Axes>"
      ]
     },
     "metadata": {
      "needs_background": "light"
     },
     "output_type": "display_data"
    }
   ],
   "source": [
    "from statsmodels.stats.outliers_influence import OLSInfluence\n",
    "leverage = pd.Series(OLSInfluence(result).influence, name = \"Leverage\")\n",
    "sns.regplot(x=leverage, y=residuals,  fit_reg=False)"
   ]
  },
  {
   "cell_type": "code",
   "execution_count": 81,
   "id": "5355dd00",
   "metadata": {},
   "outputs": [],
   "source": [
    "from scipy.stats import zscore\n",
    "\n",
    "df['zscore'] = zscore(df.loc[:, 'acceleration'])\n",
    "\n",
    "df['is_outlier'] = df['zscore'].apply(lambda x: x <= -3 or x >= 3)\n",
    "\n",
    "df = df[~df['is_outlier']]"
   ]
  },
  {
   "cell_type": "markdown",
   "id": "314dd9eb",
   "metadata": {},
   "source": [
    "Tworzę nowy zbiór treningowy:"
   ]
  },
  {
   "cell_type": "code",
   "execution_count": 82,
   "id": "ad991097",
   "metadata": {},
   "outputs": [],
   "source": [
    "mask = np.random.rand(len(df)) < 0.8\n",
    "\n",
    "training_set = df[mask]\n",
    "validation_set = df[~mask]"
   ]
  },
  {
   "cell_type": "markdown",
   "id": "d6ac5f53",
   "metadata": {},
   "source": [
    "Wykonuje regresję na oczyszczonych danych:"
   ]
  },
  {
   "cell_type": "code",
   "execution_count": 83,
   "id": "f6a4a8b0",
   "metadata": {
    "scrolled": true
   },
   "outputs": [
    {
     "name": "stdout",
     "output_type": "stream",
     "text": [
      "Błąd na zbiorze treningowym: 22.444817915661396\n",
      "Błąd na zbiorze walidacyjnym: 25.32236485185661\n",
      "                            OLS Regression Results                            \n",
      "==============================================================================\n",
      "Dep. Variable:                    mpg   R-squared:                       0.622\n",
      "Model:                            OLS   Adj. R-squared:                  0.620\n",
      "Method:                 Least Squares   F-statistic:                     264.9\n",
      "Date:                Wed, 23 Nov 2022   Prob (F-statistic):           9.40e-69\n",
      "Time:                        14:24:52   Log-Likelihood:                -966.70\n",
      "No. Observations:                 325   AIC:                             1939.\n",
      "Df Residuals:                     322   BIC:                             1951.\n",
      "Df Model:                           2                                         \n",
      "Covariance Type:            nonrobust                                         \n",
      "=====================================================================================\n",
      "                        coef    std err          t      P>|t|      [0.025      0.975]\n",
      "-------------------------------------------------------------------------------------\n",
      "Intercept            34.3386      2.357     14.566      0.000      29.701      38.976\n",
      "cylinders            -3.1614      0.185    -17.078      0.000      -3.526      -2.797\n",
      "acceleration:year     0.0054      0.001      3.922      0.000       0.003       0.008\n",
      "==============================================================================\n",
      "Omnibus:                       16.237   Durbin-Watson:                   1.045\n",
      "Prob(Omnibus):                  0.000   Jarque-Bera (JB):               17.784\n",
      "Skew:                           0.495   Prob(JB):                     0.000137\n",
      "Kurtosis:                       3.577   Cond. No.                     1.08e+04\n",
      "==============================================================================\n",
      "\n",
      "Notes:\n",
      "[1] Standard Errors assume that the covariance matrix of the errors is correctly specified.\n",
      "[2] The condition number is large, 1.08e+04. This might indicate that there are\n",
      "strong multicollinearity or other numerical problems.\n"
     ]
    }
   ],
   "source": [
    "result = my_linear_regression(training_set, validation_set, 'mpg ~ cylinders + acceleration:year', printMSE=True)\n",
    "print(f'{result.summary()}')"
   ]
  },
  {
   "cell_type": "markdown",
   "id": "6095d65b",
   "metadata": {},
   "source": [
    "Jak widać po usunięciu outlierów, otrzymałem lepsze (wyższe) wartości $R^{2}$ oraz $\\bar{R^{2}}$, zatem poprawiło się dopasowanie linii najmniejszych kwadratów do zbioru danych (oraz mam mniejsze wartości błędów standardowych dla estymacji współczynników)."
   ]
  }
 ],
 "metadata": {
  "kernelspec": {
   "display_name": "Python 3 (ipykernel)",
   "language": "python",
   "name": "python3"
  },
  "language_info": {
   "codemirror_mode": {
    "name": "ipython",
    "version": 3
   },
   "file_extension": ".py",
   "mimetype": "text/x-python",
   "name": "python",
   "nbconvert_exporter": "python",
   "pygments_lexer": "ipython3",
   "version": "3.8.10"
  }
 },
 "nbformat": 4,
 "nbformat_minor": 5
}
