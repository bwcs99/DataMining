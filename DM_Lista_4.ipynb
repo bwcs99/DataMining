{
 "cells": [
  {
   "cell_type": "markdown",
   "id": "1226e2f0",
   "metadata": {
    "id": "1226e2f0"
   },
   "source": [
    "## Lista 4 - rozwiązania"
   ]
  },
  {
   "cell_type": "code",
   "execution_count": null,
   "id": "fd0089d7",
   "metadata": {
    "id": "fd0089d7"
   },
   "outputs": [],
   "source": [
    "import numpy as np\n",
    "import matplotlib.pyplot as plt\n",
    "import nltk\n",
    "import keras\n",
    "\n",
    "from sklearn.feature_extraction.text import CountVectorizer, HashingVectorizer\n",
    "from sklearn.feature_extraction.text import TfidfTransformer\n",
    "from nltk.stem.snowball import SnowballStemmer\n",
    "\n",
    "import warnings"
   ]
  },
  {
   "cell_type": "code",
   "execution_count": null,
   "id": "1422c9b2",
   "metadata": {
    "colab": {
     "base_uri": "https://localhost:8080/"
    },
    "collapsed": true,
    "id": "1422c9b2",
    "outputId": "8ffc13e7-e9c5-495a-caed-5d99b9d93751"
   },
   "outputs": [
    {
     "name": "stderr",
     "output_type": "stream",
     "text": [
      "[nltk_data] Downloading package stopwords to /root/nltk_data...\n",
      "[nltk_data]   Package stopwords is already up-to-date!\n"
     ]
    },
    {
     "data": {
      "text/plain": [
       "True"
      ]
     },
     "execution_count": 2,
     "metadata": {},
     "output_type": "execute_result"
    }
   ],
   "source": [
    "nltk.download('stopwords')"
   ]
  },
  {
   "cell_type": "markdown",
   "id": "4b55ec9a",
   "metadata": {
    "id": "4b55ec9a"
   },
   "source": [
    "#### Zadanie 1"
   ]
  },
  {
   "cell_type": "markdown",
   "id": "4df2df47",
   "metadata": {
    "id": "4df2df47"
   },
   "source": [
    "W zadaniu 1 należało zaimplementować pipeline dla klasyfikacji tekstu z lepszą skutecznością niż model przedstawiony na wykładzie. Najpierw pobierzemy zbiór danych, na których będziemy trenować modele:"
   ]
  },
  {
   "cell_type": "code",
   "execution_count": null,
   "id": "41dde577",
   "metadata": {
    "colab": {
     "base_uri": "https://localhost:8080/"
    },
    "id": "41dde577",
    "outputId": "f84b40c1-54b4-401f-c253-ab6809e7b6fa"
   },
   "outputs": [
    {
     "data": {
      "text/plain": [
       "['alt.atheism',\n",
       " 'comp.graphics',\n",
       " 'comp.os.ms-windows.misc',\n",
       " 'comp.sys.ibm.pc.hardware',\n",
       " 'comp.sys.mac.hardware',\n",
       " 'comp.windows.x',\n",
       " 'misc.forsale',\n",
       " 'rec.autos',\n",
       " 'rec.motorcycles',\n",
       " 'rec.sport.baseball',\n",
       " 'rec.sport.hockey',\n",
       " 'sci.crypt',\n",
       " 'sci.electronics',\n",
       " 'sci.med',\n",
       " 'sci.space',\n",
       " 'soc.religion.christian',\n",
       " 'talk.politics.guns',\n",
       " 'talk.politics.mideast',\n",
       " 'talk.politics.misc',\n",
       " 'talk.religion.misc']"
      ]
     },
     "execution_count": 3,
     "metadata": {},
     "output_type": "execute_result"
    }
   ],
   "source": [
    "from sklearn.datasets import fetch_20newsgroups\n",
    "train = fetch_20newsgroups(subset='train', shuffle=True)\n",
    "train.target_names"
   ]
  },
  {
   "cell_type": "markdown",
   "id": "be6e5c1b",
   "metadata": {
    "id": "be6e5c1b"
   },
   "source": [
    "Dodatkowo trzeba ściągnąć zbiór testowy:"
   ]
  },
  {
   "cell_type": "code",
   "execution_count": null,
   "id": "2b7ae4bf",
   "metadata": {
    "id": "2b7ae4bf"
   },
   "outputs": [],
   "source": [
    "test = fetch_20newsgroups(subset='test', shuffle=True)"
   ]
  },
  {
   "cell_type": "markdown",
   "id": "828e1549",
   "metadata": {
    "id": "828e1549"
   },
   "source": [
    "Do klasyfikacji tekstu użyjemy reprezentacji *bag-of-words*, czyli będziemy traktować wejściowy tekst jako zbiór słów jednocześnie ignorując porządek słów w tekście (potem można zastosować tzw. *n-gramy*, czyli stosować w procesie uczenia grupy $n$ słów następujących po sobie). Przed utworzeniem reprezentacji wektorowej słów występujących w poszczególnych dokumentach, najpierw dokonamy stemmingu, usunięcia *stop-words*, znaków interpunkcyjnych oraz każdą dużą litere w tekście zmienimy na małą:"
   ]
  },
  {
   "cell_type": "code",
   "execution_count": null,
   "id": "1a512d1e",
   "metadata": {
    "id": "1a512d1e"
   },
   "outputs": [],
   "source": [
    "stemmer = SnowballStemmer(f'english', ignore_stopwords=True)"
   ]
  },
  {
   "cell_type": "code",
   "execution_count": null,
   "id": "b5561f78",
   "metadata": {
    "id": "b5561f78"
   },
   "outputs": [],
   "source": [
    "class StemmedCountVectorizer(CountVectorizer):\n",
    "    def build_analyzer(self):\n",
    "        analyzer = super(StemmedCountVectorizer, self).build_analyzer()\n",
    "        return lambda doc: ([stemmer.stem(w) for w in analyzer(doc)])\n",
    "    \n",
    "stemmed_count_vectorizer = StemmedCountVectorizer(stop_words=f'english', lowercase=True)"
   ]
  },
  {
   "cell_type": "markdown",
   "id": "6a5262f8",
   "metadata": {
    "id": "6a5262f8"
   },
   "source": [
    "Zbadajmy jeszcze jak zmienia się rozmiar macierzy z zakodowanym tekstem, po zastosowaniu powyższych procedur:"
   ]
  },
  {
   "cell_type": "code",
   "execution_count": null,
   "id": "631d3cfc",
   "metadata": {
    "id": "631d3cfc",
    "outputId": "85b80651-f385-4156-f233-f655b527cef9"
   },
   "outputs": [
    {
     "data": {
      "text/plain": [
       "(11314, 110995)"
      ]
     },
     "execution_count": 7,
     "metadata": {},
     "output_type": "execute_result"
    }
   ],
   "source": [
    "X_train_counts = stemmed_count_vectorizer.fit_transform(train.data)\n",
    "X_train_counts.shape"
   ]
  },
  {
   "cell_type": "markdown",
   "id": "f396c1a9",
   "metadata": {
    "id": "f396c1a9"
   },
   "source": [
    "Jak widać rozmiar otrzymanej macierzy jest mniejszy, niż rozmiar macierzy otrzymanej z mniej przetworzonego tekstu (wtedy ten rozmiar wynosił (11314, 130107)). Poniższy kod odpowiada za utworzenie pipeline'a. Do *ocenienia* sepcyficzności słów dla danego dokumentu, użyjemy wag ***tf-idf***, a jako klasyfikatora użyjemy lasy losowe:"
   ]
  },
  {
   "cell_type": "code",
   "execution_count": null,
   "id": "087d1618",
   "metadata": {
    "id": "087d1618"
   },
   "outputs": [],
   "source": [
    "pipeline_classifier = Pipeline(\n",
    "    [('vect', StemmedCountVectorizer()),\n",
    "    ('tfidf', TfidfTransformer()),\n",
    "    ('rfclf', RandomForestClassifier(oob_score=True))]\n",
    ")\n",
    "\n",
    "pipeline_classifier = pipeline_classifier.fit(train.data, train.target)"
   ]
  },
  {
   "cell_type": "markdown",
   "id": "e274e9ae",
   "metadata": {
    "id": "e274e9ae"
   },
   "source": [
    "Następnie zbadajmy skuteczność otrzymanego klasyfikatora:"
   ]
  },
  {
   "cell_type": "code",
   "execution_count": null,
   "id": "3745e729",
   "metadata": {
    "id": "3745e729",
    "outputId": "68939ac5-16c8-42a2-b0a1-86ea2db3c40a"
   },
   "outputs": [
    {
     "name": "stdout",
     "output_type": "stream",
     "text": [
      "Skuteczność otrzymanego klasyfikatora: 0.7590281465746149\n",
      "Out-of-bag error: 0.8026339048965883\n"
     ]
    }
   ],
   "source": [
    "predictions = pipeline_classifier.predict(test.data)\n",
    "\n",
    "print(f'Skuteczność otrzymanego klasyfikatora: {np.mean(predictions == test.target)}')\n",
    "print(f'Out-of-bag error: {pipeline_classifier[2].oob_score_}')"
   ]
  },
  {
   "cell_type": "markdown",
   "id": "37155bcd",
   "metadata": {
    "id": "37155bcd"
   },
   "source": [
    "Spróbujmy zastosować *grid search* w celu dobrania najlepszych parametrów przy założeniu, że naszym modelem są lasy losowe. Za tą część odpowiada poniższy kod:"
   ]
  },
  {
   "cell_type": "code",
   "execution_count": null,
   "id": "1722191f",
   "metadata": {
    "id": "1722191f"
   },
   "outputs": [],
   "source": [
    "parameters = {\n",
    "    'vect__ngram_range': [(1, 1)],\n",
    "    'tfidf__use_idf': [True, False],\n",
    "}"
   ]
  },
  {
   "cell_type": "code",
   "execution_count": null,
   "id": "3c2dfaed",
   "metadata": {
    "collapsed": true,
    "id": "3c2dfaed",
    "outputId": "3591a71f-0215-46d1-8e2a-19e5caf58fd6"
   },
   "outputs": [
    {
     "name": "stderr",
     "output_type": "stream",
     "text": [
      "<frozen importlib._bootstrap>:228: RuntimeWarning: scipy._lib.messagestream.MessageStream size changed, may indicate binary incompatibility. Expected 56 from C header, got 64 from PyObject\n",
      "<frozen importlib._bootstrap>:228: RuntimeWarning: scipy._lib.messagestream.MessageStream size changed, may indicate binary incompatibility. Expected 56 from C header, got 64 from PyObject\n",
      "<frozen importlib._bootstrap>:228: RuntimeWarning: scipy._lib.messagestream.MessageStream size changed, may indicate binary incompatibility. Expected 56 from C header, got 64 from PyObject\n",
      "<frozen importlib._bootstrap>:228: RuntimeWarning: scipy._lib.messagestream.MessageStream size changed, may indicate binary incompatibility. Expected 56 from C header, got 64 from PyObject\n",
      "<frozen importlib._bootstrap>:228: RuntimeWarning: scipy._lib.messagestream.MessageStream size changed, may indicate binary incompatibility. Expected 56 from C header, got 64 from PyObject\n",
      "<frozen importlib._bootstrap>:228: RuntimeWarning: scipy._lib.messagestream.MessageStream size changed, may indicate binary incompatibility. Expected 56 from C header, got 64 from PyObject\n",
      "<frozen importlib._bootstrap>:228: RuntimeWarning: scipy._lib.messagestream.MessageStream size changed, may indicate binary incompatibility. Expected 56 from C header, got 64 from PyObject\n",
      "<frozen importlib._bootstrap>:228: RuntimeWarning: scipy._lib.messagestream.MessageStream size changed, may indicate binary incompatibility. Expected 56 from C header, got 64 from PyObject\n"
     ]
    },
    {
     "data": {
      "text/html": [
       "<style>#sk-container-id-1 {color: black;background-color: white;}#sk-container-id-1 pre{padding: 0;}#sk-container-id-1 div.sk-toggleable {background-color: white;}#sk-container-id-1 label.sk-toggleable__label {cursor: pointer;display: block;width: 100%;margin-bottom: 0;padding: 0.3em;box-sizing: border-box;text-align: center;}#sk-container-id-1 label.sk-toggleable__label-arrow:before {content: \"▸\";float: left;margin-right: 0.25em;color: #696969;}#sk-container-id-1 label.sk-toggleable__label-arrow:hover:before {color: black;}#sk-container-id-1 div.sk-estimator:hover label.sk-toggleable__label-arrow:before {color: black;}#sk-container-id-1 div.sk-toggleable__content {max-height: 0;max-width: 0;overflow: hidden;text-align: left;background-color: #f0f8ff;}#sk-container-id-1 div.sk-toggleable__content pre {margin: 0.2em;color: black;border-radius: 0.25em;background-color: #f0f8ff;}#sk-container-id-1 input.sk-toggleable__control:checked~div.sk-toggleable__content {max-height: 200px;max-width: 100%;overflow: auto;}#sk-container-id-1 input.sk-toggleable__control:checked~label.sk-toggleable__label-arrow:before {content: \"▾\";}#sk-container-id-1 div.sk-estimator input.sk-toggleable__control:checked~label.sk-toggleable__label {background-color: #d4ebff;}#sk-container-id-1 div.sk-label input.sk-toggleable__control:checked~label.sk-toggleable__label {background-color: #d4ebff;}#sk-container-id-1 input.sk-hidden--visually {border: 0;clip: rect(1px 1px 1px 1px);clip: rect(1px, 1px, 1px, 1px);height: 1px;margin: -1px;overflow: hidden;padding: 0;position: absolute;width: 1px;}#sk-container-id-1 div.sk-estimator {font-family: monospace;background-color: #f0f8ff;border: 1px dotted black;border-radius: 0.25em;box-sizing: border-box;margin-bottom: 0.5em;}#sk-container-id-1 div.sk-estimator:hover {background-color: #d4ebff;}#sk-container-id-1 div.sk-parallel-item::after {content: \"\";width: 100%;border-bottom: 1px solid gray;flex-grow: 1;}#sk-container-id-1 div.sk-label:hover label.sk-toggleable__label {background-color: #d4ebff;}#sk-container-id-1 div.sk-serial::before {content: \"\";position: absolute;border-left: 1px solid gray;box-sizing: border-box;top: 0;bottom: 0;left: 50%;z-index: 0;}#sk-container-id-1 div.sk-serial {display: flex;flex-direction: column;align-items: center;background-color: white;padding-right: 0.2em;padding-left: 0.2em;position: relative;}#sk-container-id-1 div.sk-item {position: relative;z-index: 1;}#sk-container-id-1 div.sk-parallel {display: flex;align-items: stretch;justify-content: center;background-color: white;position: relative;}#sk-container-id-1 div.sk-item::before, #sk-container-id-1 div.sk-parallel-item::before {content: \"\";position: absolute;border-left: 1px solid gray;box-sizing: border-box;top: 0;bottom: 0;left: 50%;z-index: -1;}#sk-container-id-1 div.sk-parallel-item {display: flex;flex-direction: column;z-index: 1;position: relative;background-color: white;}#sk-container-id-1 div.sk-parallel-item:first-child::after {align-self: flex-end;width: 50%;}#sk-container-id-1 div.sk-parallel-item:last-child::after {align-self: flex-start;width: 50%;}#sk-container-id-1 div.sk-parallel-item:only-child::after {width: 0;}#sk-container-id-1 div.sk-dashed-wrapped {border: 1px dashed gray;margin: 0 0.4em 0.5em 0.4em;box-sizing: border-box;padding-bottom: 0.4em;background-color: white;}#sk-container-id-1 div.sk-label label {font-family: monospace;font-weight: bold;display: inline-block;line-height: 1.2em;}#sk-container-id-1 div.sk-label-container {text-align: center;}#sk-container-id-1 div.sk-container {/* jupyter's `normalize.less` sets `[hidden] { display: none; }` but bootstrap.min.css set `[hidden] { display: none !important; }` so we also need the `!important` here to be able to override the default hidden behavior on the sphinx rendered scikit-learn.org. See: https://github.com/scikit-learn/scikit-learn/issues/21755 */display: inline-block !important;position: relative;}#sk-container-id-1 div.sk-text-repr-fallback {display: none;}</style><div id=\"sk-container-id-1\" class=\"sk-top-container\"><div class=\"sk-text-repr-fallback\"><pre>GridSearchCV(estimator=Pipeline(steps=[(&#x27;vect&#x27;, StemmedCountVectorizer()),\n",
       "                                       (&#x27;tfidf&#x27;, TfidfTransformer()),\n",
       "                                       (&#x27;rfclf&#x27;,\n",
       "                                        RandomForestClassifier(oob_score=True))]),\n",
       "             n_jobs=-1,\n",
       "             param_grid={&#x27;tfidf__use_idf&#x27;: [True, False],\n",
       "                         &#x27;vect__ngram_range&#x27;: [(1, 1)]})</pre><b>In a Jupyter environment, please rerun this cell to show the HTML representation or trust the notebook. <br />On GitHub, the HTML representation is unable to render, please try loading this page with nbviewer.org.</b></div><div class=\"sk-container\" hidden><div class=\"sk-item sk-dashed-wrapped\"><div class=\"sk-label-container\"><div class=\"sk-label sk-toggleable\"><input class=\"sk-toggleable__control sk-hidden--visually\" id=\"sk-estimator-id-1\" type=\"checkbox\" ><label for=\"sk-estimator-id-1\" class=\"sk-toggleable__label sk-toggleable__label-arrow\">GridSearchCV</label><div class=\"sk-toggleable__content\"><pre>GridSearchCV(estimator=Pipeline(steps=[(&#x27;vect&#x27;, StemmedCountVectorizer()),\n",
       "                                       (&#x27;tfidf&#x27;, TfidfTransformer()),\n",
       "                                       (&#x27;rfclf&#x27;,\n",
       "                                        RandomForestClassifier(oob_score=True))]),\n",
       "             n_jobs=-1,\n",
       "             param_grid={&#x27;tfidf__use_idf&#x27;: [True, False],\n",
       "                         &#x27;vect__ngram_range&#x27;: [(1, 1)]})</pre></div></div></div><div class=\"sk-parallel\"><div class=\"sk-parallel-item\"><div class=\"sk-item\"><div class=\"sk-label-container\"><div class=\"sk-label sk-toggleable\"><input class=\"sk-toggleable__control sk-hidden--visually\" id=\"sk-estimator-id-2\" type=\"checkbox\" ><label for=\"sk-estimator-id-2\" class=\"sk-toggleable__label sk-toggleable__label-arrow\">estimator: Pipeline</label><div class=\"sk-toggleable__content\"><pre>Pipeline(steps=[(&#x27;vect&#x27;, StemmedCountVectorizer()),\n",
       "                (&#x27;tfidf&#x27;, TfidfTransformer()),\n",
       "                (&#x27;rfclf&#x27;, RandomForestClassifier(oob_score=True))])</pre></div></div></div><div class=\"sk-serial\"><div class=\"sk-item\"><div class=\"sk-serial\"><div class=\"sk-item\"><div class=\"sk-estimator sk-toggleable\"><input class=\"sk-toggleable__control sk-hidden--visually\" id=\"sk-estimator-id-3\" type=\"checkbox\" ><label for=\"sk-estimator-id-3\" class=\"sk-toggleable__label sk-toggleable__label-arrow\">StemmedCountVectorizer</label><div class=\"sk-toggleable__content\"><pre>StemmedCountVectorizer()</pre></div></div></div><div class=\"sk-item\"><div class=\"sk-estimator sk-toggleable\"><input class=\"sk-toggleable__control sk-hidden--visually\" id=\"sk-estimator-id-4\" type=\"checkbox\" ><label for=\"sk-estimator-id-4\" class=\"sk-toggleable__label sk-toggleable__label-arrow\">TfidfTransformer</label><div class=\"sk-toggleable__content\"><pre>TfidfTransformer()</pre></div></div></div><div class=\"sk-item\"><div class=\"sk-estimator sk-toggleable\"><input class=\"sk-toggleable__control sk-hidden--visually\" id=\"sk-estimator-id-5\" type=\"checkbox\" ><label for=\"sk-estimator-id-5\" class=\"sk-toggleable__label sk-toggleable__label-arrow\">RandomForestClassifier</label><div class=\"sk-toggleable__content\"><pre>RandomForestClassifier(oob_score=True)</pre></div></div></div></div></div></div></div></div></div></div></div></div>"
      ],
      "text/plain": [
       "GridSearchCV(estimator=Pipeline(steps=[('vect', StemmedCountVectorizer()),\n",
       "                                       ('tfidf', TfidfTransformer()),\n",
       "                                       ('rfclf',\n",
       "                                        RandomForestClassifier(oob_score=True))]),\n",
       "             n_jobs=-1,\n",
       "             param_grid={'tfidf__use_idf': [True, False],\n",
       "                         'vect__ngram_range': [(1, 1)]})"
      ]
     },
     "execution_count": 11,
     "metadata": {},
     "output_type": "execute_result"
    }
   ],
   "source": [
    "gs_clf = GridSearchCV(pipeline_classifier, parameters, n_jobs=-1)\n",
    "\n",
    "gs_clf.fit(train.data, train.target)"
   ]
  },
  {
   "cell_type": "markdown",
   "id": "fdb8360c",
   "metadata": {
    "id": "fdb8360c"
   },
   "source": [
    "Poniżej znadują się wyniki zwrócone przez wcześniejsze procedury:"
   ]
  },
  {
   "cell_type": "code",
   "execution_count": null,
   "id": "83637d85",
   "metadata": {
    "id": "83637d85",
    "outputId": "8e164c3c-f84c-4499-f5b7-9cc19967b5f7"
   },
   "outputs": [
    {
     "name": "stdout",
     "output_type": "stream",
     "text": [
      "Najlepsza skuteczność: 0.8361320954125745\n",
      "Najlepsze parametry: {'tfidf__use_idf': True, 'vect__ngram_range': (1, 1)}\n"
     ]
    }
   ],
   "source": [
    "print(f'Najlepsza skuteczność: {gs_clf.best_score_}')\n",
    "print(f'Najlepsze parametry: {gs_clf.best_params_}')"
   ]
  },
  {
   "cell_type": "markdown",
   "id": "ca908178",
   "metadata": {
    "id": "ca908178"
   },
   "source": [
    "Następnie zobaczymy jak radzi sobie z tym zadaniem algorytm $k$-najbliższych sąsiadów:"
   ]
  },
  {
   "cell_type": "code",
   "execution_count": null,
   "id": "9d561997",
   "metadata": {
    "id": "9d561997"
   },
   "outputs": [],
   "source": [
    "knn_pipeline = Pipeline([\n",
    "    ('vect', StemmedCountVectorizer()),\n",
    "    ('tfidf', TfidfTransformer()),\n",
    "    ('knnclf', KNeighborsClassifier())])"
   ]
  },
  {
   "cell_type": "markdown",
   "id": "0a7bc1a0",
   "metadata": {
    "id": "0a7bc1a0"
   },
   "source": [
    "Testowane parametry dla tego klasyfikatora:"
   ]
  },
  {
   "cell_type": "code",
   "execution_count": null,
   "id": "ca80782a",
   "metadata": {
    "id": "ca80782a"
   },
   "outputs": [],
   "source": [
    "parameters = {\n",
    "    'knnclf__n_neighbors': [5, 6, 7, 8],\n",
    "    'tfidf__use_idf': [True, False]\n",
    "}"
   ]
  },
  {
   "cell_type": "markdown",
   "id": "290e64bc",
   "metadata": {
    "id": "290e64bc"
   },
   "source": [
    "Kolejne wyczerpujące przeszukiwanie przestrzeni parametrów:"
   ]
  },
  {
   "cell_type": "code",
   "execution_count": null,
   "id": "7151ed7c",
   "metadata": {
    "collapsed": true,
    "id": "7151ed7c",
    "outputId": "04d79c30-dcf0-48cb-b14e-2da5511b7f6f"
   },
   "outputs": [
    {
     "name": "stderr",
     "output_type": "stream",
     "text": [
      "<frozen importlib._bootstrap>:228: RuntimeWarning: scipy._lib.messagestream.MessageStream size changed, may indicate binary incompatibility. Expected 56 from C header, got 64 from PyObject\n",
      "<frozen importlib._bootstrap>:228: RuntimeWarning: scipy._lib.messagestream.MessageStream size changed, may indicate binary incompatibility. Expected 56 from C header, got 64 from PyObject\n",
      "<frozen importlib._bootstrap>:228: RuntimeWarning: scipy._lib.messagestream.MessageStream size changed, may indicate binary incompatibility. Expected 56 from C header, got 64 from PyObject\n",
      "<frozen importlib._bootstrap>:228: RuntimeWarning: scipy._lib.messagestream.MessageStream size changed, may indicate binary incompatibility. Expected 56 from C header, got 64 from PyObject\n",
      "<frozen importlib._bootstrap>:228: RuntimeWarning: scipy._lib.messagestream.MessageStream size changed, may indicate binary incompatibility. Expected 56 from C header, got 64 from PyObject\n",
      "<frozen importlib._bootstrap>:228: RuntimeWarning: scipy._lib.messagestream.MessageStream size changed, may indicate binary incompatibility. Expected 56 from C header, got 64 from PyObject\n",
      "<frozen importlib._bootstrap>:228: RuntimeWarning: scipy._lib.messagestream.MessageStream size changed, may indicate binary incompatibility. Expected 56 from C header, got 64 from PyObject\n",
      "<frozen importlib._bootstrap>:228: RuntimeWarning: scipy._lib.messagestream.MessageStream size changed, may indicate binary incompatibility. Expected 56 from C header, got 64 from PyObject\n",
      "/home/bw/anaconda3/lib/python3.9/site-packages/sklearn/neighbors/_classification.py:237: FutureWarning: Unlike other reduction functions (e.g. `skew`, `kurtosis`), the default behavior of `mode` typically preserves the axis it acts along. In SciPy 1.11.0, this behavior will change: the default value of `keepdims` will become False, the `axis` over which the statistic is taken will be eliminated, and the value None will no longer be accepted. Set `keepdims` to True or False to avoid this warning.\n",
      "  mode, _ = stats.mode(_y[neigh_ind, k], axis=1)\n",
      "/home/bw/anaconda3/lib/python3.9/site-packages/sklearn/neighbors/_classification.py:237: FutureWarning: Unlike other reduction functions (e.g. `skew`, `kurtosis`), the default behavior of `mode` typically preserves the axis it acts along. In SciPy 1.11.0, this behavior will change: the default value of `keepdims` will become False, the `axis` over which the statistic is taken will be eliminated, and the value None will no longer be accepted. Set `keepdims` to True or False to avoid this warning.\n",
      "  mode, _ = stats.mode(_y[neigh_ind, k], axis=1)\n",
      "/home/bw/anaconda3/lib/python3.9/site-packages/sklearn/neighbors/_classification.py:237: FutureWarning: Unlike other reduction functions (e.g. `skew`, `kurtosis`), the default behavior of `mode` typically preserves the axis it acts along. In SciPy 1.11.0, this behavior will change: the default value of `keepdims` will become False, the `axis` over which the statistic is taken will be eliminated, and the value None will no longer be accepted. Set `keepdims` to True or False to avoid this warning.\n",
      "  mode, _ = stats.mode(_y[neigh_ind, k], axis=1)\n",
      "/home/bw/anaconda3/lib/python3.9/site-packages/sklearn/neighbors/_classification.py:237: FutureWarning: Unlike other reduction functions (e.g. `skew`, `kurtosis`), the default behavior of `mode` typically preserves the axis it acts along. In SciPy 1.11.0, this behavior will change: the default value of `keepdims` will become False, the `axis` over which the statistic is taken will be eliminated, and the value None will no longer be accepted. Set `keepdims` to True or False to avoid this warning.\n",
      "  mode, _ = stats.mode(_y[neigh_ind, k], axis=1)\n",
      "/home/bw/anaconda3/lib/python3.9/site-packages/sklearn/neighbors/_classification.py:237: FutureWarning: Unlike other reduction functions (e.g. `skew`, `kurtosis`), the default behavior of `mode` typically preserves the axis it acts along. In SciPy 1.11.0, this behavior will change: the default value of `keepdims` will become False, the `axis` over which the statistic is taken will be eliminated, and the value None will no longer be accepted. Set `keepdims` to True or False to avoid this warning.\n",
      "  mode, _ = stats.mode(_y[neigh_ind, k], axis=1)\n",
      "/home/bw/anaconda3/lib/python3.9/site-packages/sklearn/neighbors/_classification.py:237: FutureWarning: Unlike other reduction functions (e.g. `skew`, `kurtosis`), the default behavior of `mode` typically preserves the axis it acts along. In SciPy 1.11.0, this behavior will change: the default value of `keepdims` will become False, the `axis` over which the statistic is taken will be eliminated, and the value None will no longer be accepted. Set `keepdims` to True or False to avoid this warning.\n",
      "  mode, _ = stats.mode(_y[neigh_ind, k], axis=1)\n",
      "/home/bw/anaconda3/lib/python3.9/site-packages/sklearn/neighbors/_classification.py:237: FutureWarning: Unlike other reduction functions (e.g. `skew`, `kurtosis`), the default behavior of `mode` typically preserves the axis it acts along. In SciPy 1.11.0, this behavior will change: the default value of `keepdims` will become False, the `axis` over which the statistic is taken will be eliminated, and the value None will no longer be accepted. Set `keepdims` to True or False to avoid this warning.\n",
      "  mode, _ = stats.mode(_y[neigh_ind, k], axis=1)\n",
      "/home/bw/anaconda3/lib/python3.9/site-packages/sklearn/neighbors/_classification.py:237: FutureWarning: Unlike other reduction functions (e.g. `skew`, `kurtosis`), the default behavior of `mode` typically preserves the axis it acts along. In SciPy 1.11.0, this behavior will change: the default value of `keepdims` will become False, the `axis` over which the statistic is taken will be eliminated, and the value None will no longer be accepted. Set `keepdims` to True or False to avoid this warning.\n",
      "  mode, _ = stats.mode(_y[neigh_ind, k], axis=1)\n",
      "/home/bw/anaconda3/lib/python3.9/site-packages/sklearn/neighbors/_classification.py:237: FutureWarning: Unlike other reduction functions (e.g. `skew`, `kurtosis`), the default behavior of `mode` typically preserves the axis it acts along. In SciPy 1.11.0, this behavior will change: the default value of `keepdims` will become False, the `axis` over which the statistic is taken will be eliminated, and the value None will no longer be accepted. Set `keepdims` to True or False to avoid this warning.\n",
      "  mode, _ = stats.mode(_y[neigh_ind, k], axis=1)\n",
      "/home/bw/anaconda3/lib/python3.9/site-packages/sklearn/neighbors/_classification.py:237: FutureWarning: Unlike other reduction functions (e.g. `skew`, `kurtosis`), the default behavior of `mode` typically preserves the axis it acts along. In SciPy 1.11.0, this behavior will change: the default value of `keepdims` will become False, the `axis` over which the statistic is taken will be eliminated, and the value None will no longer be accepted. Set `keepdims` to True or False to avoid this warning.\n",
      "  mode, _ = stats.mode(_y[neigh_ind, k], axis=1)\n",
      "/home/bw/anaconda3/lib/python3.9/site-packages/sklearn/neighbors/_classification.py:237: FutureWarning: Unlike other reduction functions (e.g. `skew`, `kurtosis`), the default behavior of `mode` typically preserves the axis it acts along. In SciPy 1.11.0, this behavior will change: the default value of `keepdims` will become False, the `axis` over which the statistic is taken will be eliminated, and the value None will no longer be accepted. Set `keepdims` to True or False to avoid this warning.\n",
      "  mode, _ = stats.mode(_y[neigh_ind, k], axis=1)\n",
      "/home/bw/anaconda3/lib/python3.9/site-packages/sklearn/neighbors/_classification.py:237: FutureWarning: Unlike other reduction functions (e.g. `skew`, `kurtosis`), the default behavior of `mode` typically preserves the axis it acts along. In SciPy 1.11.0, this behavior will change: the default value of `keepdims` will become False, the `axis` over which the statistic is taken will be eliminated, and the value None will no longer be accepted. Set `keepdims` to True or False to avoid this warning.\n",
      "  mode, _ = stats.mode(_y[neigh_ind, k], axis=1)\n",
      "/home/bw/anaconda3/lib/python3.9/site-packages/sklearn/neighbors/_classification.py:237: FutureWarning: Unlike other reduction functions (e.g. `skew`, `kurtosis`), the default behavior of `mode` typically preserves the axis it acts along. In SciPy 1.11.0, this behavior will change: the default value of `keepdims` will become False, the `axis` over which the statistic is taken will be eliminated, and the value None will no longer be accepted. Set `keepdims` to True or False to avoid this warning.\n",
      "  mode, _ = stats.mode(_y[neigh_ind, k], axis=1)\n"
     ]
    },
    {
     "name": "stderr",
     "output_type": "stream",
     "text": [
      "/home/bw/anaconda3/lib/python3.9/site-packages/sklearn/neighbors/_classification.py:237: FutureWarning: Unlike other reduction functions (e.g. `skew`, `kurtosis`), the default behavior of `mode` typically preserves the axis it acts along. In SciPy 1.11.0, this behavior will change: the default value of `keepdims` will become False, the `axis` over which the statistic is taken will be eliminated, and the value None will no longer be accepted. Set `keepdims` to True or False to avoid this warning.\n",
      "  mode, _ = stats.mode(_y[neigh_ind, k], axis=1)\n",
      "/home/bw/anaconda3/lib/python3.9/site-packages/sklearn/neighbors/_classification.py:237: FutureWarning: Unlike other reduction functions (e.g. `skew`, `kurtosis`), the default behavior of `mode` typically preserves the axis it acts along. In SciPy 1.11.0, this behavior will change: the default value of `keepdims` will become False, the `axis` over which the statistic is taken will be eliminated, and the value None will no longer be accepted. Set `keepdims` to True or False to avoid this warning.\n",
      "  mode, _ = stats.mode(_y[neigh_ind, k], axis=1)\n",
      "/home/bw/anaconda3/lib/python3.9/site-packages/sklearn/neighbors/_classification.py:237: FutureWarning: Unlike other reduction functions (e.g. `skew`, `kurtosis`), the default behavior of `mode` typically preserves the axis it acts along. In SciPy 1.11.0, this behavior will change: the default value of `keepdims` will become False, the `axis` over which the statistic is taken will be eliminated, and the value None will no longer be accepted. Set `keepdims` to True or False to avoid this warning.\n",
      "  mode, _ = stats.mode(_y[neigh_ind, k], axis=1)\n",
      "/home/bw/anaconda3/lib/python3.9/site-packages/sklearn/neighbors/_classification.py:237: FutureWarning: Unlike other reduction functions (e.g. `skew`, `kurtosis`), the default behavior of `mode` typically preserves the axis it acts along. In SciPy 1.11.0, this behavior will change: the default value of `keepdims` will become False, the `axis` over which the statistic is taken will be eliminated, and the value None will no longer be accepted. Set `keepdims` to True or False to avoid this warning.\n",
      "  mode, _ = stats.mode(_y[neigh_ind, k], axis=1)\n",
      "/home/bw/anaconda3/lib/python3.9/site-packages/sklearn/neighbors/_classification.py:237: FutureWarning: Unlike other reduction functions (e.g. `skew`, `kurtosis`), the default behavior of `mode` typically preserves the axis it acts along. In SciPy 1.11.0, this behavior will change: the default value of `keepdims` will become False, the `axis` over which the statistic is taken will be eliminated, and the value None will no longer be accepted. Set `keepdims` to True or False to avoid this warning.\n",
      "  mode, _ = stats.mode(_y[neigh_ind, k], axis=1)\n",
      "/home/bw/anaconda3/lib/python3.9/site-packages/sklearn/neighbors/_classification.py:237: FutureWarning: Unlike other reduction functions (e.g. `skew`, `kurtosis`), the default behavior of `mode` typically preserves the axis it acts along. In SciPy 1.11.0, this behavior will change: the default value of `keepdims` will become False, the `axis` over which the statistic is taken will be eliminated, and the value None will no longer be accepted. Set `keepdims` to True or False to avoid this warning.\n",
      "  mode, _ = stats.mode(_y[neigh_ind, k], axis=1)\n",
      "/home/bw/anaconda3/lib/python3.9/site-packages/sklearn/neighbors/_classification.py:237: FutureWarning: Unlike other reduction functions (e.g. `skew`, `kurtosis`), the default behavior of `mode` typically preserves the axis it acts along. In SciPy 1.11.0, this behavior will change: the default value of `keepdims` will become False, the `axis` over which the statistic is taken will be eliminated, and the value None will no longer be accepted. Set `keepdims` to True or False to avoid this warning.\n",
      "  mode, _ = stats.mode(_y[neigh_ind, k], axis=1)\n",
      "/home/bw/anaconda3/lib/python3.9/site-packages/sklearn/neighbors/_classification.py:237: FutureWarning: Unlike other reduction functions (e.g. `skew`, `kurtosis`), the default behavior of `mode` typically preserves the axis it acts along. In SciPy 1.11.0, this behavior will change: the default value of `keepdims` will become False, the `axis` over which the statistic is taken will be eliminated, and the value None will no longer be accepted. Set `keepdims` to True or False to avoid this warning.\n",
      "  mode, _ = stats.mode(_y[neigh_ind, k], axis=1)\n",
      "/home/bw/anaconda3/lib/python3.9/site-packages/sklearn/neighbors/_classification.py:237: FutureWarning: Unlike other reduction functions (e.g. `skew`, `kurtosis`), the default behavior of `mode` typically preserves the axis it acts along. In SciPy 1.11.0, this behavior will change: the default value of `keepdims` will become False, the `axis` over which the statistic is taken will be eliminated, and the value None will no longer be accepted. Set `keepdims` to True or False to avoid this warning.\n",
      "  mode, _ = stats.mode(_y[neigh_ind, k], axis=1)\n",
      "/home/bw/anaconda3/lib/python3.9/site-packages/sklearn/neighbors/_classification.py:237: FutureWarning: Unlike other reduction functions (e.g. `skew`, `kurtosis`), the default behavior of `mode` typically preserves the axis it acts along. In SciPy 1.11.0, this behavior will change: the default value of `keepdims` will become False, the `axis` over which the statistic is taken will be eliminated, and the value None will no longer be accepted. Set `keepdims` to True or False to avoid this warning.\n",
      "  mode, _ = stats.mode(_y[neigh_ind, k], axis=1)\n",
      "/home/bw/anaconda3/lib/python3.9/site-packages/sklearn/neighbors/_classification.py:237: FutureWarning: Unlike other reduction functions (e.g. `skew`, `kurtosis`), the default behavior of `mode` typically preserves the axis it acts along. In SciPy 1.11.0, this behavior will change: the default value of `keepdims` will become False, the `axis` over which the statistic is taken will be eliminated, and the value None will no longer be accepted. Set `keepdims` to True or False to avoid this warning.\n",
      "  mode, _ = stats.mode(_y[neigh_ind, k], axis=1)\n",
      "/home/bw/anaconda3/lib/python3.9/site-packages/sklearn/neighbors/_classification.py:237: FutureWarning: Unlike other reduction functions (e.g. `skew`, `kurtosis`), the default behavior of `mode` typically preserves the axis it acts along. In SciPy 1.11.0, this behavior will change: the default value of `keepdims` will become False, the `axis` over which the statistic is taken will be eliminated, and the value None will no longer be accepted. Set `keepdims` to True or False to avoid this warning.\n",
      "  mode, _ = stats.mode(_y[neigh_ind, k], axis=1)\n",
      "/home/bw/anaconda3/lib/python3.9/site-packages/sklearn/neighbors/_classification.py:237: FutureWarning: Unlike other reduction functions (e.g. `skew`, `kurtosis`), the default behavior of `mode` typically preserves the axis it acts along. In SciPy 1.11.0, this behavior will change: the default value of `keepdims` will become False, the `axis` over which the statistic is taken will be eliminated, and the value None will no longer be accepted. Set `keepdims` to True or False to avoid this warning.\n",
      "  mode, _ = stats.mode(_y[neigh_ind, k], axis=1)\n",
      "/home/bw/anaconda3/lib/python3.9/site-packages/sklearn/neighbors/_classification.py:237: FutureWarning: Unlike other reduction functions (e.g. `skew`, `kurtosis`), the default behavior of `mode` typically preserves the axis it acts along. In SciPy 1.11.0, this behavior will change: the default value of `keepdims` will become False, the `axis` over which the statistic is taken will be eliminated, and the value None will no longer be accepted. Set `keepdims` to True or False to avoid this warning.\n",
      "  mode, _ = stats.mode(_y[neigh_ind, k], axis=1)\n",
      "/home/bw/anaconda3/lib/python3.9/site-packages/sklearn/neighbors/_classification.py:237: FutureWarning: Unlike other reduction functions (e.g. `skew`, `kurtosis`), the default behavior of `mode` typically preserves the axis it acts along. In SciPy 1.11.0, this behavior will change: the default value of `keepdims` will become False, the `axis` over which the statistic is taken will be eliminated, and the value None will no longer be accepted. Set `keepdims` to True or False to avoid this warning.\n",
      "  mode, _ = stats.mode(_y[neigh_ind, k], axis=1)\n",
      "/home/bw/anaconda3/lib/python3.9/site-packages/sklearn/neighbors/_classification.py:237: FutureWarning: Unlike other reduction functions (e.g. `skew`, `kurtosis`), the default behavior of `mode` typically preserves the axis it acts along. In SciPy 1.11.0, this behavior will change: the default value of `keepdims` will become False, the `axis` over which the statistic is taken will be eliminated, and the value None will no longer be accepted. Set `keepdims` to True or False to avoid this warning.\n",
      "  mode, _ = stats.mode(_y[neigh_ind, k], axis=1)\n"
     ]
    },
    {
     "name": "stderr",
     "output_type": "stream",
     "text": [
      "/home/bw/anaconda3/lib/python3.9/site-packages/sklearn/neighbors/_classification.py:237: FutureWarning: Unlike other reduction functions (e.g. `skew`, `kurtosis`), the default behavior of `mode` typically preserves the axis it acts along. In SciPy 1.11.0, this behavior will change: the default value of `keepdims` will become False, the `axis` over which the statistic is taken will be eliminated, and the value None will no longer be accepted. Set `keepdims` to True or False to avoid this warning.\n",
      "  mode, _ = stats.mode(_y[neigh_ind, k], axis=1)\n",
      "/home/bw/anaconda3/lib/python3.9/site-packages/sklearn/neighbors/_classification.py:237: FutureWarning: Unlike other reduction functions (e.g. `skew`, `kurtosis`), the default behavior of `mode` typically preserves the axis it acts along. In SciPy 1.11.0, this behavior will change: the default value of `keepdims` will become False, the `axis` over which the statistic is taken will be eliminated, and the value None will no longer be accepted. Set `keepdims` to True or False to avoid this warning.\n",
      "  mode, _ = stats.mode(_y[neigh_ind, k], axis=1)\n",
      "/home/bw/anaconda3/lib/python3.9/site-packages/sklearn/neighbors/_classification.py:237: FutureWarning: Unlike other reduction functions (e.g. `skew`, `kurtosis`), the default behavior of `mode` typically preserves the axis it acts along. In SciPy 1.11.0, this behavior will change: the default value of `keepdims` will become False, the `axis` over which the statistic is taken will be eliminated, and the value None will no longer be accepted. Set `keepdims` to True or False to avoid this warning.\n",
      "  mode, _ = stats.mode(_y[neigh_ind, k], axis=1)\n",
      "/home/bw/anaconda3/lib/python3.9/site-packages/sklearn/neighbors/_classification.py:237: FutureWarning: Unlike other reduction functions (e.g. `skew`, `kurtosis`), the default behavior of `mode` typically preserves the axis it acts along. In SciPy 1.11.0, this behavior will change: the default value of `keepdims` will become False, the `axis` over which the statistic is taken will be eliminated, and the value None will no longer be accepted. Set `keepdims` to True or False to avoid this warning.\n",
      "  mode, _ = stats.mode(_y[neigh_ind, k], axis=1)\n",
      "/home/bw/anaconda3/lib/python3.9/site-packages/sklearn/neighbors/_classification.py:237: FutureWarning: Unlike other reduction functions (e.g. `skew`, `kurtosis`), the default behavior of `mode` typically preserves the axis it acts along. In SciPy 1.11.0, this behavior will change: the default value of `keepdims` will become False, the `axis` over which the statistic is taken will be eliminated, and the value None will no longer be accepted. Set `keepdims` to True or False to avoid this warning.\n",
      "  mode, _ = stats.mode(_y[neigh_ind, k], axis=1)\n",
      "/home/bw/anaconda3/lib/python3.9/site-packages/sklearn/neighbors/_classification.py:237: FutureWarning: Unlike other reduction functions (e.g. `skew`, `kurtosis`), the default behavior of `mode` typically preserves the axis it acts along. In SciPy 1.11.0, this behavior will change: the default value of `keepdims` will become False, the `axis` over which the statistic is taken will be eliminated, and the value None will no longer be accepted. Set `keepdims` to True or False to avoid this warning.\n",
      "  mode, _ = stats.mode(_y[neigh_ind, k], axis=1)\n",
      "/home/bw/anaconda3/lib/python3.9/site-packages/sklearn/neighbors/_classification.py:237: FutureWarning: Unlike other reduction functions (e.g. `skew`, `kurtosis`), the default behavior of `mode` typically preserves the axis it acts along. In SciPy 1.11.0, this behavior will change: the default value of `keepdims` will become False, the `axis` over which the statistic is taken will be eliminated, and the value None will no longer be accepted. Set `keepdims` to True or False to avoid this warning.\n",
      "  mode, _ = stats.mode(_y[neigh_ind, k], axis=1)\n",
      "/home/bw/anaconda3/lib/python3.9/site-packages/sklearn/neighbors/_classification.py:237: FutureWarning: Unlike other reduction functions (e.g. `skew`, `kurtosis`), the default behavior of `mode` typically preserves the axis it acts along. In SciPy 1.11.0, this behavior will change: the default value of `keepdims` will become False, the `axis` over which the statistic is taken will be eliminated, and the value None will no longer be accepted. Set `keepdims` to True or False to avoid this warning.\n",
      "  mode, _ = stats.mode(_y[neigh_ind, k], axis=1)\n",
      "/home/bw/anaconda3/lib/python3.9/site-packages/sklearn/neighbors/_classification.py:237: FutureWarning: Unlike other reduction functions (e.g. `skew`, `kurtosis`), the default behavior of `mode` typically preserves the axis it acts along. In SciPy 1.11.0, this behavior will change: the default value of `keepdims` will become False, the `axis` over which the statistic is taken will be eliminated, and the value None will no longer be accepted. Set `keepdims` to True or False to avoid this warning.\n",
      "  mode, _ = stats.mode(_y[neigh_ind, k], axis=1)\n",
      "/home/bw/anaconda3/lib/python3.9/site-packages/sklearn/neighbors/_classification.py:237: FutureWarning: Unlike other reduction functions (e.g. `skew`, `kurtosis`), the default behavior of `mode` typically preserves the axis it acts along. In SciPy 1.11.0, this behavior will change: the default value of `keepdims` will become False, the `axis` over which the statistic is taken will be eliminated, and the value None will no longer be accepted. Set `keepdims` to True or False to avoid this warning.\n",
      "  mode, _ = stats.mode(_y[neigh_ind, k], axis=1)\n",
      "/home/bw/anaconda3/lib/python3.9/site-packages/sklearn/neighbors/_classification.py:237: FutureWarning: Unlike other reduction functions (e.g. `skew`, `kurtosis`), the default behavior of `mode` typically preserves the axis it acts along. In SciPy 1.11.0, this behavior will change: the default value of `keepdims` will become False, the `axis` over which the statistic is taken will be eliminated, and the value None will no longer be accepted. Set `keepdims` to True or False to avoid this warning.\n",
      "  mode, _ = stats.mode(_y[neigh_ind, k], axis=1)\n"
     ]
    },
    {
     "data": {
      "text/html": [
       "<style>#sk-container-id-2 {color: black;background-color: white;}#sk-container-id-2 pre{padding: 0;}#sk-container-id-2 div.sk-toggleable {background-color: white;}#sk-container-id-2 label.sk-toggleable__label {cursor: pointer;display: block;width: 100%;margin-bottom: 0;padding: 0.3em;box-sizing: border-box;text-align: center;}#sk-container-id-2 label.sk-toggleable__label-arrow:before {content: \"▸\";float: left;margin-right: 0.25em;color: #696969;}#sk-container-id-2 label.sk-toggleable__label-arrow:hover:before {color: black;}#sk-container-id-2 div.sk-estimator:hover label.sk-toggleable__label-arrow:before {color: black;}#sk-container-id-2 div.sk-toggleable__content {max-height: 0;max-width: 0;overflow: hidden;text-align: left;background-color: #f0f8ff;}#sk-container-id-2 div.sk-toggleable__content pre {margin: 0.2em;color: black;border-radius: 0.25em;background-color: #f0f8ff;}#sk-container-id-2 input.sk-toggleable__control:checked~div.sk-toggleable__content {max-height: 200px;max-width: 100%;overflow: auto;}#sk-container-id-2 input.sk-toggleable__control:checked~label.sk-toggleable__label-arrow:before {content: \"▾\";}#sk-container-id-2 div.sk-estimator input.sk-toggleable__control:checked~label.sk-toggleable__label {background-color: #d4ebff;}#sk-container-id-2 div.sk-label input.sk-toggleable__control:checked~label.sk-toggleable__label {background-color: #d4ebff;}#sk-container-id-2 input.sk-hidden--visually {border: 0;clip: rect(1px 1px 1px 1px);clip: rect(1px, 1px, 1px, 1px);height: 1px;margin: -1px;overflow: hidden;padding: 0;position: absolute;width: 1px;}#sk-container-id-2 div.sk-estimator {font-family: monospace;background-color: #f0f8ff;border: 1px dotted black;border-radius: 0.25em;box-sizing: border-box;margin-bottom: 0.5em;}#sk-container-id-2 div.sk-estimator:hover {background-color: #d4ebff;}#sk-container-id-2 div.sk-parallel-item::after {content: \"\";width: 100%;border-bottom: 1px solid gray;flex-grow: 1;}#sk-container-id-2 div.sk-label:hover label.sk-toggleable__label {background-color: #d4ebff;}#sk-container-id-2 div.sk-serial::before {content: \"\";position: absolute;border-left: 1px solid gray;box-sizing: border-box;top: 0;bottom: 0;left: 50%;z-index: 0;}#sk-container-id-2 div.sk-serial {display: flex;flex-direction: column;align-items: center;background-color: white;padding-right: 0.2em;padding-left: 0.2em;position: relative;}#sk-container-id-2 div.sk-item {position: relative;z-index: 1;}#sk-container-id-2 div.sk-parallel {display: flex;align-items: stretch;justify-content: center;background-color: white;position: relative;}#sk-container-id-2 div.sk-item::before, #sk-container-id-2 div.sk-parallel-item::before {content: \"\";position: absolute;border-left: 1px solid gray;box-sizing: border-box;top: 0;bottom: 0;left: 50%;z-index: -1;}#sk-container-id-2 div.sk-parallel-item {display: flex;flex-direction: column;z-index: 1;position: relative;background-color: white;}#sk-container-id-2 div.sk-parallel-item:first-child::after {align-self: flex-end;width: 50%;}#sk-container-id-2 div.sk-parallel-item:last-child::after {align-self: flex-start;width: 50%;}#sk-container-id-2 div.sk-parallel-item:only-child::after {width: 0;}#sk-container-id-2 div.sk-dashed-wrapped {border: 1px dashed gray;margin: 0 0.4em 0.5em 0.4em;box-sizing: border-box;padding-bottom: 0.4em;background-color: white;}#sk-container-id-2 div.sk-label label {font-family: monospace;font-weight: bold;display: inline-block;line-height: 1.2em;}#sk-container-id-2 div.sk-label-container {text-align: center;}#sk-container-id-2 div.sk-container {/* jupyter's `normalize.less` sets `[hidden] { display: none; }` but bootstrap.min.css set `[hidden] { display: none !important; }` so we also need the `!important` here to be able to override the default hidden behavior on the sphinx rendered scikit-learn.org. See: https://github.com/scikit-learn/scikit-learn/issues/21755 */display: inline-block !important;position: relative;}#sk-container-id-2 div.sk-text-repr-fallback {display: none;}</style><div id=\"sk-container-id-2\" class=\"sk-top-container\"><div class=\"sk-text-repr-fallback\"><pre>GridSearchCV(estimator=Pipeline(steps=[(&#x27;vect&#x27;, StemmedCountVectorizer()),\n",
       "                                       (&#x27;tfidf&#x27;, TfidfTransformer()),\n",
       "                                       (&#x27;knnclf&#x27;, KNeighborsClassifier())]),\n",
       "             n_jobs=-1,\n",
       "             param_grid={&#x27;knnclf__n_neighbors&#x27;: [5, 6, 7, 8],\n",
       "                         &#x27;tfidf__use_idf&#x27;: [True, False]})</pre><b>In a Jupyter environment, please rerun this cell to show the HTML representation or trust the notebook. <br />On GitHub, the HTML representation is unable to render, please try loading this page with nbviewer.org.</b></div><div class=\"sk-container\" hidden><div class=\"sk-item sk-dashed-wrapped\"><div class=\"sk-label-container\"><div class=\"sk-label sk-toggleable\"><input class=\"sk-toggleable__control sk-hidden--visually\" id=\"sk-estimator-id-6\" type=\"checkbox\" ><label for=\"sk-estimator-id-6\" class=\"sk-toggleable__label sk-toggleable__label-arrow\">GridSearchCV</label><div class=\"sk-toggleable__content\"><pre>GridSearchCV(estimator=Pipeline(steps=[(&#x27;vect&#x27;, StemmedCountVectorizer()),\n",
       "                                       (&#x27;tfidf&#x27;, TfidfTransformer()),\n",
       "                                       (&#x27;knnclf&#x27;, KNeighborsClassifier())]),\n",
       "             n_jobs=-1,\n",
       "             param_grid={&#x27;knnclf__n_neighbors&#x27;: [5, 6, 7, 8],\n",
       "                         &#x27;tfidf__use_idf&#x27;: [True, False]})</pre></div></div></div><div class=\"sk-parallel\"><div class=\"sk-parallel-item\"><div class=\"sk-item\"><div class=\"sk-label-container\"><div class=\"sk-label sk-toggleable\"><input class=\"sk-toggleable__control sk-hidden--visually\" id=\"sk-estimator-id-7\" type=\"checkbox\" ><label for=\"sk-estimator-id-7\" class=\"sk-toggleable__label sk-toggleable__label-arrow\">estimator: Pipeline</label><div class=\"sk-toggleable__content\"><pre>Pipeline(steps=[(&#x27;vect&#x27;, StemmedCountVectorizer()),\n",
       "                (&#x27;tfidf&#x27;, TfidfTransformer()),\n",
       "                (&#x27;knnclf&#x27;, KNeighborsClassifier())])</pre></div></div></div><div class=\"sk-serial\"><div class=\"sk-item\"><div class=\"sk-serial\"><div class=\"sk-item\"><div class=\"sk-estimator sk-toggleable\"><input class=\"sk-toggleable__control sk-hidden--visually\" id=\"sk-estimator-id-8\" type=\"checkbox\" ><label for=\"sk-estimator-id-8\" class=\"sk-toggleable__label sk-toggleable__label-arrow\">StemmedCountVectorizer</label><div class=\"sk-toggleable__content\"><pre>StemmedCountVectorizer()</pre></div></div></div><div class=\"sk-item\"><div class=\"sk-estimator sk-toggleable\"><input class=\"sk-toggleable__control sk-hidden--visually\" id=\"sk-estimator-id-9\" type=\"checkbox\" ><label for=\"sk-estimator-id-9\" class=\"sk-toggleable__label sk-toggleable__label-arrow\">TfidfTransformer</label><div class=\"sk-toggleable__content\"><pre>TfidfTransformer()</pre></div></div></div><div class=\"sk-item\"><div class=\"sk-estimator sk-toggleable\"><input class=\"sk-toggleable__control sk-hidden--visually\" id=\"sk-estimator-id-10\" type=\"checkbox\" ><label for=\"sk-estimator-id-10\" class=\"sk-toggleable__label sk-toggleable__label-arrow\">KNeighborsClassifier</label><div class=\"sk-toggleable__content\"><pre>KNeighborsClassifier()</pre></div></div></div></div></div></div></div></div></div></div></div></div>"
      ],
      "text/plain": [
       "GridSearchCV(estimator=Pipeline(steps=[('vect', StemmedCountVectorizer()),\n",
       "                                       ('tfidf', TfidfTransformer()),\n",
       "                                       ('knnclf', KNeighborsClassifier())]),\n",
       "             n_jobs=-1,\n",
       "             param_grid={'knnclf__n_neighbors': [5, 6, 7, 8],\n",
       "                         'tfidf__use_idf': [True, False]})"
      ]
     },
     "execution_count": 27,
     "metadata": {},
     "output_type": "execute_result"
    }
   ],
   "source": [
    "gs_clf = GridSearchCV(knn_pipeline, parameters, n_jobs=-1)\n",
    "\n",
    "gs_clf.fit(train.data, train.target)"
   ]
  },
  {
   "cell_type": "markdown",
   "id": "a978e8a9",
   "metadata": {
    "id": "a978e8a9"
   },
   "source": [
    "Wyniki:"
   ]
  },
  {
   "cell_type": "code",
   "execution_count": null,
   "id": "8531a30e",
   "metadata": {
    "id": "8531a30e",
    "outputId": "c09482cc-25a9-4b10-ded2-e68e5ae4145a"
   },
   "outputs": [
    {
     "name": "stdout",
     "output_type": "stream",
     "text": [
      "Najlepsza skuteczność: 0.7828352386232527\n",
      "Najlepsze parametry: {'knnclf__n_neighbors': 5, 'tfidf__use_idf': True}\n"
     ]
    }
   ],
   "source": [
    "print(f'Najlepsza skuteczność: {gs_clf.best_score_}')\n",
    "print(f'Najlepsze parametry: {gs_clf.best_params_}')"
   ]
  },
  {
   "cell_type": "markdown",
   "id": "1ee5d198",
   "metadata": {
    "id": "1ee5d198"
   },
   "source": [
    "Najczęściej polecanym modelem do klasyfikacji tekstu jest liniowy SVM. W związku z tym, również zbadamy jego działanie na naszym zbiorze danych:"
   ]
  },
  {
   "cell_type": "code",
   "execution_count": null,
   "id": "869797a2",
   "metadata": {
    "id": "869797a2"
   },
   "outputs": [],
   "source": [
    "svm_pipeline = Pipeline([\n",
    "    ('vect', StemmedCountVectorizer()),\n",
    "    ('tfidf', TfidfTransformer()),\n",
    "    ('svmclf', SGDClassifier())])"
   ]
  },
  {
   "cell_type": "markdown",
   "id": "13b165fc",
   "metadata": {
    "id": "13b165fc"
   },
   "source": [
    "Znowu ustalamy możliwe parametry:"
   ]
  },
  {
   "cell_type": "code",
   "execution_count": null,
   "id": "c1001f4e",
   "metadata": {
    "id": "c1001f4e"
   },
   "outputs": [],
   "source": [
    "parameters = {\n",
    "    'svmclf__loss': ['hinge', 'log_loss'],\n",
    "    'svmclf__alpha': [1e-3],\n",
    "    'svmclf__random_state': [42],\n",
    "    'tfidf__use_idf': [True, False]\n",
    "}"
   ]
  },
  {
   "cell_type": "code",
   "execution_count": null,
   "id": "7de1eee4",
   "metadata": {
    "id": "7de1eee4",
    "outputId": "e5ad017d-42e4-4bc1-ad9e-9c8c12a4e2d5"
   },
   "outputs": [
    {
     "data": {
      "text/html": [
       "<style>#sk-container-id-3 {color: black;background-color: white;}#sk-container-id-3 pre{padding: 0;}#sk-container-id-3 div.sk-toggleable {background-color: white;}#sk-container-id-3 label.sk-toggleable__label {cursor: pointer;display: block;width: 100%;margin-bottom: 0;padding: 0.3em;box-sizing: border-box;text-align: center;}#sk-container-id-3 label.sk-toggleable__label-arrow:before {content: \"▸\";float: left;margin-right: 0.25em;color: #696969;}#sk-container-id-3 label.sk-toggleable__label-arrow:hover:before {color: black;}#sk-container-id-3 div.sk-estimator:hover label.sk-toggleable__label-arrow:before {color: black;}#sk-container-id-3 div.sk-toggleable__content {max-height: 0;max-width: 0;overflow: hidden;text-align: left;background-color: #f0f8ff;}#sk-container-id-3 div.sk-toggleable__content pre {margin: 0.2em;color: black;border-radius: 0.25em;background-color: #f0f8ff;}#sk-container-id-3 input.sk-toggleable__control:checked~div.sk-toggleable__content {max-height: 200px;max-width: 100%;overflow: auto;}#sk-container-id-3 input.sk-toggleable__control:checked~label.sk-toggleable__label-arrow:before {content: \"▾\";}#sk-container-id-3 div.sk-estimator input.sk-toggleable__control:checked~label.sk-toggleable__label {background-color: #d4ebff;}#sk-container-id-3 div.sk-label input.sk-toggleable__control:checked~label.sk-toggleable__label {background-color: #d4ebff;}#sk-container-id-3 input.sk-hidden--visually {border: 0;clip: rect(1px 1px 1px 1px);clip: rect(1px, 1px, 1px, 1px);height: 1px;margin: -1px;overflow: hidden;padding: 0;position: absolute;width: 1px;}#sk-container-id-3 div.sk-estimator {font-family: monospace;background-color: #f0f8ff;border: 1px dotted black;border-radius: 0.25em;box-sizing: border-box;margin-bottom: 0.5em;}#sk-container-id-3 div.sk-estimator:hover {background-color: #d4ebff;}#sk-container-id-3 div.sk-parallel-item::after {content: \"\";width: 100%;border-bottom: 1px solid gray;flex-grow: 1;}#sk-container-id-3 div.sk-label:hover label.sk-toggleable__label {background-color: #d4ebff;}#sk-container-id-3 div.sk-serial::before {content: \"\";position: absolute;border-left: 1px solid gray;box-sizing: border-box;top: 0;bottom: 0;left: 50%;z-index: 0;}#sk-container-id-3 div.sk-serial {display: flex;flex-direction: column;align-items: center;background-color: white;padding-right: 0.2em;padding-left: 0.2em;position: relative;}#sk-container-id-3 div.sk-item {position: relative;z-index: 1;}#sk-container-id-3 div.sk-parallel {display: flex;align-items: stretch;justify-content: center;background-color: white;position: relative;}#sk-container-id-3 div.sk-item::before, #sk-container-id-3 div.sk-parallel-item::before {content: \"\";position: absolute;border-left: 1px solid gray;box-sizing: border-box;top: 0;bottom: 0;left: 50%;z-index: -1;}#sk-container-id-3 div.sk-parallel-item {display: flex;flex-direction: column;z-index: 1;position: relative;background-color: white;}#sk-container-id-3 div.sk-parallel-item:first-child::after {align-self: flex-end;width: 50%;}#sk-container-id-3 div.sk-parallel-item:last-child::after {align-self: flex-start;width: 50%;}#sk-container-id-3 div.sk-parallel-item:only-child::after {width: 0;}#sk-container-id-3 div.sk-dashed-wrapped {border: 1px dashed gray;margin: 0 0.4em 0.5em 0.4em;box-sizing: border-box;padding-bottom: 0.4em;background-color: white;}#sk-container-id-3 div.sk-label label {font-family: monospace;font-weight: bold;display: inline-block;line-height: 1.2em;}#sk-container-id-3 div.sk-label-container {text-align: center;}#sk-container-id-3 div.sk-container {/* jupyter's `normalize.less` sets `[hidden] { display: none; }` but bootstrap.min.css set `[hidden] { display: none !important; }` so we also need the `!important` here to be able to override the default hidden behavior on the sphinx rendered scikit-learn.org. See: https://github.com/scikit-learn/scikit-learn/issues/21755 */display: inline-block !important;position: relative;}#sk-container-id-3 div.sk-text-repr-fallback {display: none;}</style><div id=\"sk-container-id-3\" class=\"sk-top-container\"><div class=\"sk-text-repr-fallback\"><pre>GridSearchCV(estimator=Pipeline(steps=[(&#x27;vect&#x27;, StemmedCountVectorizer()),\n",
       "                                       (&#x27;tfidf&#x27;, TfidfTransformer()),\n",
       "                                       (&#x27;svmclf&#x27;, SGDClassifier())]),\n",
       "             n_jobs=-1,\n",
       "             param_grid={&#x27;svmclf__alpha&#x27;: [0.001],\n",
       "                         &#x27;svmclf__loss&#x27;: [&#x27;hinge&#x27;, &#x27;log_loss&#x27;],\n",
       "                         &#x27;svmclf__random_state&#x27;: [42],\n",
       "                         &#x27;tfidf__use_idf&#x27;: [True, False]})</pre><b>In a Jupyter environment, please rerun this cell to show the HTML representation or trust the notebook. <br />On GitHub, the HTML representation is unable to render, please try loading this page with nbviewer.org.</b></div><div class=\"sk-container\" hidden><div class=\"sk-item sk-dashed-wrapped\"><div class=\"sk-label-container\"><div class=\"sk-label sk-toggleable\"><input class=\"sk-toggleable__control sk-hidden--visually\" id=\"sk-estimator-id-11\" type=\"checkbox\" ><label for=\"sk-estimator-id-11\" class=\"sk-toggleable__label sk-toggleable__label-arrow\">GridSearchCV</label><div class=\"sk-toggleable__content\"><pre>GridSearchCV(estimator=Pipeline(steps=[(&#x27;vect&#x27;, StemmedCountVectorizer()),\n",
       "                                       (&#x27;tfidf&#x27;, TfidfTransformer()),\n",
       "                                       (&#x27;svmclf&#x27;, SGDClassifier())]),\n",
       "             n_jobs=-1,\n",
       "             param_grid={&#x27;svmclf__alpha&#x27;: [0.001],\n",
       "                         &#x27;svmclf__loss&#x27;: [&#x27;hinge&#x27;, &#x27;log_loss&#x27;],\n",
       "                         &#x27;svmclf__random_state&#x27;: [42],\n",
       "                         &#x27;tfidf__use_idf&#x27;: [True, False]})</pre></div></div></div><div class=\"sk-parallel\"><div class=\"sk-parallel-item\"><div class=\"sk-item\"><div class=\"sk-label-container\"><div class=\"sk-label sk-toggleable\"><input class=\"sk-toggleable__control sk-hidden--visually\" id=\"sk-estimator-id-12\" type=\"checkbox\" ><label for=\"sk-estimator-id-12\" class=\"sk-toggleable__label sk-toggleable__label-arrow\">estimator: Pipeline</label><div class=\"sk-toggleable__content\"><pre>Pipeline(steps=[(&#x27;vect&#x27;, StemmedCountVectorizer()),\n",
       "                (&#x27;tfidf&#x27;, TfidfTransformer()), (&#x27;svmclf&#x27;, SGDClassifier())])</pre></div></div></div><div class=\"sk-serial\"><div class=\"sk-item\"><div class=\"sk-serial\"><div class=\"sk-item\"><div class=\"sk-estimator sk-toggleable\"><input class=\"sk-toggleable__control sk-hidden--visually\" id=\"sk-estimator-id-13\" type=\"checkbox\" ><label for=\"sk-estimator-id-13\" class=\"sk-toggleable__label sk-toggleable__label-arrow\">StemmedCountVectorizer</label><div class=\"sk-toggleable__content\"><pre>StemmedCountVectorizer()</pre></div></div></div><div class=\"sk-item\"><div class=\"sk-estimator sk-toggleable\"><input class=\"sk-toggleable__control sk-hidden--visually\" id=\"sk-estimator-id-14\" type=\"checkbox\" ><label for=\"sk-estimator-id-14\" class=\"sk-toggleable__label sk-toggleable__label-arrow\">TfidfTransformer</label><div class=\"sk-toggleable__content\"><pre>TfidfTransformer()</pre></div></div></div><div class=\"sk-item\"><div class=\"sk-estimator sk-toggleable\"><input class=\"sk-toggleable__control sk-hidden--visually\" id=\"sk-estimator-id-15\" type=\"checkbox\" ><label for=\"sk-estimator-id-15\" class=\"sk-toggleable__label sk-toggleable__label-arrow\">SGDClassifier</label><div class=\"sk-toggleable__content\"><pre>SGDClassifier()</pre></div></div></div></div></div></div></div></div></div></div></div></div>"
      ],
      "text/plain": [
       "GridSearchCV(estimator=Pipeline(steps=[('vect', StemmedCountVectorizer()),\n",
       "                                       ('tfidf', TfidfTransformer()),\n",
       "                                       ('svmclf', SGDClassifier())]),\n",
       "             n_jobs=-1,\n",
       "             param_grid={'svmclf__alpha': [0.001],\n",
       "                         'svmclf__loss': ['hinge', 'log_loss'],\n",
       "                         'svmclf__random_state': [42],\n",
       "                         'tfidf__use_idf': [True, False]})"
      ]
     },
     "execution_count": 32,
     "metadata": {},
     "output_type": "execute_result"
    }
   ],
   "source": [
    "gs_clf = GridSearchCV(svm_pipeline, parameters, n_jobs=-1)\n",
    "\n",
    "gs_clf.fit(train.data, train.target)"
   ]
  },
  {
   "cell_type": "markdown",
   "id": "1ca1589b",
   "metadata": {
    "id": "1ca1589b"
   },
   "source": [
    "Wyniki:"
   ]
  },
  {
   "cell_type": "code",
   "execution_count": null,
   "id": "0c46108f",
   "metadata": {
    "id": "0c46108f",
    "outputId": "0ac5410f-8f58-4e41-fa40-a5cea683cefa"
   },
   "outputs": [
    {
     "name": "stdout",
     "output_type": "stream",
     "text": [
      "Najlepsza skuteczność: 0.8852752131021747\n",
      "Najlepsze parametry: {'svmclf__alpha': 0.001, 'svmclf__loss': 'hinge', 'svmclf__random_state': 42, 'tfidf__use_idf': True}\n"
     ]
    }
   ],
   "source": [
    "print(f'Najlepsza skuteczność: {gs_clf.best_score_}')\n",
    "print(f'Najlepsze parametry: {gs_clf.best_params_}')"
   ]
  },
  {
   "cell_type": "markdown",
   "id": "9e1969e1",
   "metadata": {
    "id": "9e1969e1"
   },
   "source": [
    "Istotnie, najlepsza skuteczność została osiągnięta dla ostatniego estymatora i wynosi ona $88.5 \\%$. Zatem przetesotwaliśmy $3$ rodzaje estymatorów i mamy następujący ranking: pierwsze miejsce - SVM, drugie miejsce - RFC i trzecie miejsce - KNN."
   ]
  },
  {
   "cell_type": "code",
   "execution_count": null,
   "id": "b8a09974",
   "metadata": {
    "id": "b8a09974"
   },
   "outputs": [],
   "source": [
    "parameters = {\n",
    "    'vect__ngram_range': [(2, 2)],\n",
    "    'svmclf__loss': ['hinge', 'log_loss'],\n",
    "    'svmclf__alpha': [1e-3],\n",
    "    'svmclf__random_state': [42],\n",
    "    'tfidf__use_idf': [True, False]\n",
    "}"
   ]
  },
  {
   "cell_type": "code",
   "execution_count": null,
   "id": "50814f90",
   "metadata": {
    "collapsed": true,
    "id": "50814f90",
    "outputId": "5b0be2c5-3357-4754-c74e-1e8a07f1ce1a"
   },
   "outputs": [
    {
     "name": "stderr",
     "output_type": "stream",
     "text": [
      "<frozen importlib._bootstrap>:228: RuntimeWarning: scipy._lib.messagestream.MessageStream size changed, may indicate binary incompatibility. Expected 56 from C header, got 64 from PyObject\n",
      "<frozen importlib._bootstrap>:228: RuntimeWarning: scipy._lib.messagestream.MessageStream size changed, may indicate binary incompatibility. Expected 56 from C header, got 64 from PyObject\n",
      "<frozen importlib._bootstrap>:228: RuntimeWarning: scipy._lib.messagestream.MessageStream size changed, may indicate binary incompatibility. Expected 56 from C header, got 64 from PyObject\n",
      "<frozen importlib._bootstrap>:228: RuntimeWarning: scipy._lib.messagestream.MessageStream size changed, may indicate binary incompatibility. Expected 56 from C header, got 64 from PyObject\n",
      "<frozen importlib._bootstrap>:228: RuntimeWarning: scipy._lib.messagestream.MessageStream size changed, may indicate binary incompatibility. Expected 56 from C header, got 64 from PyObject\n",
      "<frozen importlib._bootstrap>:228: RuntimeWarning: scipy._lib.messagestream.MessageStream size changed, may indicate binary incompatibility. Expected 56 from C header, got 64 from PyObject\n",
      "<frozen importlib._bootstrap>:228: RuntimeWarning: scipy._lib.messagestream.MessageStream size changed, may indicate binary incompatibility. Expected 56 from C header, got 64 from PyObject\n",
      "<frozen importlib._bootstrap>:228: RuntimeWarning: scipy._lib.messagestream.MessageStream size changed, may indicate binary incompatibility. Expected 56 from C header, got 64 from PyObject\n"
     ]
    },
    {
     "data": {
      "text/html": [
       "<style>#sk-container-id-4 {color: black;background-color: white;}#sk-container-id-4 pre{padding: 0;}#sk-container-id-4 div.sk-toggleable {background-color: white;}#sk-container-id-4 label.sk-toggleable__label {cursor: pointer;display: block;width: 100%;margin-bottom: 0;padding: 0.3em;box-sizing: border-box;text-align: center;}#sk-container-id-4 label.sk-toggleable__label-arrow:before {content: \"▸\";float: left;margin-right: 0.25em;color: #696969;}#sk-container-id-4 label.sk-toggleable__label-arrow:hover:before {color: black;}#sk-container-id-4 div.sk-estimator:hover label.sk-toggleable__label-arrow:before {color: black;}#sk-container-id-4 div.sk-toggleable__content {max-height: 0;max-width: 0;overflow: hidden;text-align: left;background-color: #f0f8ff;}#sk-container-id-4 div.sk-toggleable__content pre {margin: 0.2em;color: black;border-radius: 0.25em;background-color: #f0f8ff;}#sk-container-id-4 input.sk-toggleable__control:checked~div.sk-toggleable__content {max-height: 200px;max-width: 100%;overflow: auto;}#sk-container-id-4 input.sk-toggleable__control:checked~label.sk-toggleable__label-arrow:before {content: \"▾\";}#sk-container-id-4 div.sk-estimator input.sk-toggleable__control:checked~label.sk-toggleable__label {background-color: #d4ebff;}#sk-container-id-4 div.sk-label input.sk-toggleable__control:checked~label.sk-toggleable__label {background-color: #d4ebff;}#sk-container-id-4 input.sk-hidden--visually {border: 0;clip: rect(1px 1px 1px 1px);clip: rect(1px, 1px, 1px, 1px);height: 1px;margin: -1px;overflow: hidden;padding: 0;position: absolute;width: 1px;}#sk-container-id-4 div.sk-estimator {font-family: monospace;background-color: #f0f8ff;border: 1px dotted black;border-radius: 0.25em;box-sizing: border-box;margin-bottom: 0.5em;}#sk-container-id-4 div.sk-estimator:hover {background-color: #d4ebff;}#sk-container-id-4 div.sk-parallel-item::after {content: \"\";width: 100%;border-bottom: 1px solid gray;flex-grow: 1;}#sk-container-id-4 div.sk-label:hover label.sk-toggleable__label {background-color: #d4ebff;}#sk-container-id-4 div.sk-serial::before {content: \"\";position: absolute;border-left: 1px solid gray;box-sizing: border-box;top: 0;bottom: 0;left: 50%;z-index: 0;}#sk-container-id-4 div.sk-serial {display: flex;flex-direction: column;align-items: center;background-color: white;padding-right: 0.2em;padding-left: 0.2em;position: relative;}#sk-container-id-4 div.sk-item {position: relative;z-index: 1;}#sk-container-id-4 div.sk-parallel {display: flex;align-items: stretch;justify-content: center;background-color: white;position: relative;}#sk-container-id-4 div.sk-item::before, #sk-container-id-4 div.sk-parallel-item::before {content: \"\";position: absolute;border-left: 1px solid gray;box-sizing: border-box;top: 0;bottom: 0;left: 50%;z-index: -1;}#sk-container-id-4 div.sk-parallel-item {display: flex;flex-direction: column;z-index: 1;position: relative;background-color: white;}#sk-container-id-4 div.sk-parallel-item:first-child::after {align-self: flex-end;width: 50%;}#sk-container-id-4 div.sk-parallel-item:last-child::after {align-self: flex-start;width: 50%;}#sk-container-id-4 div.sk-parallel-item:only-child::after {width: 0;}#sk-container-id-4 div.sk-dashed-wrapped {border: 1px dashed gray;margin: 0 0.4em 0.5em 0.4em;box-sizing: border-box;padding-bottom: 0.4em;background-color: white;}#sk-container-id-4 div.sk-label label {font-family: monospace;font-weight: bold;display: inline-block;line-height: 1.2em;}#sk-container-id-4 div.sk-label-container {text-align: center;}#sk-container-id-4 div.sk-container {/* jupyter's `normalize.less` sets `[hidden] { display: none; }` but bootstrap.min.css set `[hidden] { display: none !important; }` so we also need the `!important` here to be able to override the default hidden behavior on the sphinx rendered scikit-learn.org. See: https://github.com/scikit-learn/scikit-learn/issues/21755 */display: inline-block !important;position: relative;}#sk-container-id-4 div.sk-text-repr-fallback {display: none;}</style><div id=\"sk-container-id-4\" class=\"sk-top-container\"><div class=\"sk-text-repr-fallback\"><pre>GridSearchCV(estimator=Pipeline(steps=[(&#x27;vect&#x27;, StemmedCountVectorizer()),\n",
       "                                       (&#x27;tfidf&#x27;, TfidfTransformer()),\n",
       "                                       (&#x27;svmclf&#x27;, SGDClassifier())]),\n",
       "             n_jobs=-1,\n",
       "             param_grid={&#x27;svmclf__alpha&#x27;: [0.001],\n",
       "                         &#x27;svmclf__loss&#x27;: [&#x27;hinge&#x27;, &#x27;log_loss&#x27;],\n",
       "                         &#x27;svmclf__random_state&#x27;: [42],\n",
       "                         &#x27;tfidf__use_idf&#x27;: [True, False],\n",
       "                         &#x27;vect__ngram_range&#x27;: [(2, 2)]})</pre><b>In a Jupyter environment, please rerun this cell to show the HTML representation or trust the notebook. <br />On GitHub, the HTML representation is unable to render, please try loading this page with nbviewer.org.</b></div><div class=\"sk-container\" hidden><div class=\"sk-item sk-dashed-wrapped\"><div class=\"sk-label-container\"><div class=\"sk-label sk-toggleable\"><input class=\"sk-toggleable__control sk-hidden--visually\" id=\"sk-estimator-id-16\" type=\"checkbox\" ><label for=\"sk-estimator-id-16\" class=\"sk-toggleable__label sk-toggleable__label-arrow\">GridSearchCV</label><div class=\"sk-toggleable__content\"><pre>GridSearchCV(estimator=Pipeline(steps=[(&#x27;vect&#x27;, StemmedCountVectorizer()),\n",
       "                                       (&#x27;tfidf&#x27;, TfidfTransformer()),\n",
       "                                       (&#x27;svmclf&#x27;, SGDClassifier())]),\n",
       "             n_jobs=-1,\n",
       "             param_grid={&#x27;svmclf__alpha&#x27;: [0.001],\n",
       "                         &#x27;svmclf__loss&#x27;: [&#x27;hinge&#x27;, &#x27;log_loss&#x27;],\n",
       "                         &#x27;svmclf__random_state&#x27;: [42],\n",
       "                         &#x27;tfidf__use_idf&#x27;: [True, False],\n",
       "                         &#x27;vect__ngram_range&#x27;: [(2, 2)]})</pre></div></div></div><div class=\"sk-parallel\"><div class=\"sk-parallel-item\"><div class=\"sk-item\"><div class=\"sk-label-container\"><div class=\"sk-label sk-toggleable\"><input class=\"sk-toggleable__control sk-hidden--visually\" id=\"sk-estimator-id-17\" type=\"checkbox\" ><label for=\"sk-estimator-id-17\" class=\"sk-toggleable__label sk-toggleable__label-arrow\">estimator: Pipeline</label><div class=\"sk-toggleable__content\"><pre>Pipeline(steps=[(&#x27;vect&#x27;, StemmedCountVectorizer()),\n",
       "                (&#x27;tfidf&#x27;, TfidfTransformer()), (&#x27;svmclf&#x27;, SGDClassifier())])</pre></div></div></div><div class=\"sk-serial\"><div class=\"sk-item\"><div class=\"sk-serial\"><div class=\"sk-item\"><div class=\"sk-estimator sk-toggleable\"><input class=\"sk-toggleable__control sk-hidden--visually\" id=\"sk-estimator-id-18\" type=\"checkbox\" ><label for=\"sk-estimator-id-18\" class=\"sk-toggleable__label sk-toggleable__label-arrow\">StemmedCountVectorizer</label><div class=\"sk-toggleable__content\"><pre>StemmedCountVectorizer()</pre></div></div></div><div class=\"sk-item\"><div class=\"sk-estimator sk-toggleable\"><input class=\"sk-toggleable__control sk-hidden--visually\" id=\"sk-estimator-id-19\" type=\"checkbox\" ><label for=\"sk-estimator-id-19\" class=\"sk-toggleable__label sk-toggleable__label-arrow\">TfidfTransformer</label><div class=\"sk-toggleable__content\"><pre>TfidfTransformer()</pre></div></div></div><div class=\"sk-item\"><div class=\"sk-estimator sk-toggleable\"><input class=\"sk-toggleable__control sk-hidden--visually\" id=\"sk-estimator-id-20\" type=\"checkbox\" ><label for=\"sk-estimator-id-20\" class=\"sk-toggleable__label sk-toggleable__label-arrow\">SGDClassifier</label><div class=\"sk-toggleable__content\"><pre>SGDClassifier()</pre></div></div></div></div></div></div></div></div></div></div></div></div>"
      ],
      "text/plain": [
       "GridSearchCV(estimator=Pipeline(steps=[('vect', StemmedCountVectorizer()),\n",
       "                                       ('tfidf', TfidfTransformer()),\n",
       "                                       ('svmclf', SGDClassifier())]),\n",
       "             n_jobs=-1,\n",
       "             param_grid={'svmclf__alpha': [0.001],\n",
       "                         'svmclf__loss': ['hinge', 'log_loss'],\n",
       "                         'svmclf__random_state': [42],\n",
       "                         'tfidf__use_idf': [True, False],\n",
       "                         'vect__ngram_range': [(2, 2)]})"
      ]
     },
     "execution_count": 25,
     "metadata": {},
     "output_type": "execute_result"
    }
   ],
   "source": [
    "gs_clf = GridSearchCV(svm_pipeline, parameters, n_jobs=-1)\n",
    "\n",
    "gs_clf.fit(train.data, train.target)"
   ]
  },
  {
   "cell_type": "code",
   "execution_count": null,
   "id": "aae315f3",
   "metadata": {
    "id": "aae315f3",
    "outputId": "861916d6-a58a-4fc8-b284-78bb42f367a8"
   },
   "outputs": [
    {
     "name": "stdout",
     "output_type": "stream",
     "text": [
      "Najlepsza skuteczność: 0.8869541265262539\n",
      "Najlepsze parametry: {'svmclf__alpha': 0.001, 'svmclf__loss': 'hinge', 'svmclf__random_state': 42, 'tfidf__use_idf': True, 'vect__ngram_range': (2, 2)}\n"
     ]
    }
   ],
   "source": [
    "print(f'Najlepsza skuteczność: {gs_clf.best_score_}')\n",
    "print(f'Najlepsze parametry: {gs_clf.best_params_}')"
   ]
  },
  {
   "cell_type": "markdown",
   "id": "d96ee64b",
   "metadata": {
    "id": "d96ee64b"
   },
   "source": [
    "Jak widać dla bigramów osięgneliśmy lepszą skuteczność modelu (na poziomie $88.6 \\%$), jednak ta poprawa nie jest duża."
   ]
  },
  {
   "cell_type": "markdown",
   "id": "ba2b3809",
   "metadata": {
    "id": "ba2b3809"
   },
   "source": [
    "### Zadanie 2"
   ]
  },
  {
   "cell_type": "markdown",
   "id": "1bad5f06",
   "metadata": {
    "id": "1bad5f06"
   },
   "source": [
    "W zadaniu 2 należało wykorzystać sieć neuronową pokazaną na wykładzie do rozwiązania problemu klasyfikacji z poprzedniego zadania. Wykorzystujemy ten sam zbiór danych co w poprzednim zadaniu. Przed zbudowaniem sieci neuronowej i uruchomieniem trenowania najpierw trzeba odpowiednio przetworzyć dane wejściowe. Zobaczmy ile jest kategorii i w jaki sposób są reprezentowane:"
   ]
  },
  {
   "cell_type": "code",
   "execution_count": null,
   "id": "2eac18f4",
   "metadata": {
    "colab": {
     "base_uri": "https://localhost:8080/"
    },
    "id": "2eac18f4",
    "outputId": "28570e46-b573-47bd-f55b-2e8b5f3f2bdc"
   },
   "outputs": [
    {
     "data": {
      "text/plain": [
       "array([ 7,  4,  4,  1, 14, 16, 13,  3,  2,  4,  8, 19,  4, 14,  6,  0,  1,\n",
       "        7, 12,  5])"
      ]
     },
     "execution_count": 7,
     "metadata": {},
     "output_type": "execute_result"
    }
   ],
   "source": [
    "train.target[:20]"
   ]
  },
  {
   "cell_type": "markdown",
   "id": "b5ce189e",
   "metadata": {
    "id": "b5ce189e"
   },
   "source": [
    "Jak widać jest $20$ kategorii reprezentowanych jako liczby całkowite ze zbioru $\\{0, \\ldots, 19\\}$. W następnym kroku znowu utrzorzymy macierz z daymi treningowymi (ta sama procedura tj. stemming, usuwanie \"stop-words\" itd. jak poprzednio):"
   ]
  },
  {
   "cell_type": "code",
   "execution_count": null,
   "id": "ab15bcf5",
   "metadata": {
    "id": "ab15bcf5"
   },
   "outputs": [],
   "source": [
    "stemmed_count_vectorizer = StemmedCountVectorizer(stop_words=f'english', lowercase=True)\n",
    "X = stemmed_count_vectorizer.fit_transform(train.data)\n",
    "\n",
    "s = np.sum(X, axis=0)\n",
    "_, cols = s.shape"
   ]
  },
  {
   "cell_type": "markdown",
   "id": "swAttYi_CuMf",
   "metadata": {
    "id": "swAttYi_CuMf"
   },
   "source": [
    "W wektorach będziemy używać wag Tf-idf:"
   ]
  },
  {
   "cell_type": "code",
   "execution_count": null,
   "id": "O8TK159HCtH2",
   "metadata": {
    "id": "O8TK159HCtH2"
   },
   "outputs": [],
   "source": [
    "tfidf_transformer = TfidfTransformer()\n",
    "X_train = tfidf_transformer.fit_transform(X)"
   ]
  },
  {
   "cell_type": "code",
   "execution_count": null,
   "id": "eeaaf0ea",
   "metadata": {
    "colab": {
     "base_uri": "https://localhost:8080/"
    },
    "id": "eeaaf0ea",
    "outputId": "222a913e-fc65-4256-87f1-d741b9251733"
   },
   "outputs": [
    {
     "data": {
      "text/plain": [
       "(11314, 110995)"
      ]
     },
     "execution_count": 9,
     "metadata": {},
     "output_type": "execute_result"
    }
   ],
   "source": [
    "X_train.shape"
   ]
  },
  {
   "cell_type": "markdown",
   "id": "3e1f3be4",
   "metadata": {
    "id": "3e1f3be4"
   },
   "source": [
    "Każdy wiersz powyższej macierzy jest tak naprawde wektorem ze zmiennymi binarnymi. Zatem suma wartości w poszczególnych kolumnach będzie odpowiadała liczbie wystąpień danego słowa we wszystkich dokumentach:"
   ]
  },
  {
   "cell_type": "code",
   "execution_count": null,
   "id": "VLGVSNYc7fPa",
   "metadata": {
    "colab": {
     "base_uri": "https://localhost:8080/"
    },
    "id": "VLGVSNYc7fPa",
    "outputId": "fcf7f694-6fb5-44a7-b040-1cc88cd7988c"
   },
   "outputs": [
    {
     "data": {
      "text/plain": [
       "110995"
      ]
     },
     "execution_count": 12,
     "metadata": {},
     "output_type": "execute_result"
    }
   ],
   "source": [
    "cols"
   ]
  },
  {
   "cell_type": "markdown",
   "id": "321ad210",
   "metadata": {
    "id": "321ad210"
   },
   "source": [
    "Tworzymy słownik z numerami kolejnych kolumn jako klucze i liczbami wystąpień jako wartości:"
   ]
  },
  {
   "cell_type": "code",
   "execution_count": null,
   "id": "9499e590",
   "metadata": {
    "id": "9499e590"
   },
   "outputs": [],
   "source": [
    "occurences_dictionary = {i:s[0, i] for i in range(0, cols)}"
   ]
  },
  {
   "cell_type": "markdown",
   "id": "dc47b119",
   "metadata": {
    "id": "dc47b119"
   },
   "source": [
    "Sortujemy słownik w kolejności malejącej po wartościach:"
   ]
  },
  {
   "cell_type": "code",
   "execution_count": null,
   "id": "a6547825",
   "metadata": {
    "id": "a6547825"
   },
   "outputs": [],
   "source": [
    "sorted_occurences_dictionary = {k: v for k, v in sorted(occurences_dictionary.items(), key=lambda x: x[1], reverse=True)}"
   ]
  },
  {
   "cell_type": "markdown",
   "id": "b84411cd",
   "metadata": {
    "id": "b84411cd"
   },
   "source": [
    "W celu zmniejszenia rozmiaru wektorów wejściowych, będziemy brać tylko $n$ najczęściej występujących słów:"
   ]
  },
  {
   "cell_type": "code",
   "execution_count": null,
   "id": "94c3a0a0",
   "metadata": {
    "id": "94c3a0a0"
   },
   "outputs": [],
   "source": [
    "top_n_words = 15000\n",
    "\n",
    "desired_columns = list(sorted_occurences_dictionary.keys())[:top_n_words]\n",
    "\n",
    "X_train = X_train.toarray()\n",
    "\n",
    "X_train = X_train[:, desired_columns]"
   ]
  },
  {
   "cell_type": "markdown",
   "id": "740d0a81",
   "metadata": {
    "id": "740d0a81"
   },
   "source": [
    "Weryfikacja, że wszystko działa poprawnie:"
   ]
  },
  {
   "cell_type": "code",
   "execution_count": null,
   "id": "b6fb99a9",
   "metadata": {
    "colab": {
     "base_uri": "https://localhost:8080/"
    },
    "id": "b6fb99a9",
    "outputId": "552606d3-748e-4696-f7bd-2638bf035c38"
   },
   "outputs": [
    {
     "data": {
      "text/plain": [
       "(11314, 400)"
      ]
     },
     "execution_count": 16,
     "metadata": {},
     "output_type": "execute_result"
    }
   ],
   "source": [
    "X_train.shape"
   ]
  },
  {
   "cell_type": "markdown",
   "id": "096f29af",
   "metadata": {
    "id": "096f29af"
   },
   "source": [
    "Następnie tworzymy architekture sieci neuronowej:"
   ]
  },
  {
   "cell_type": "code",
   "execution_count": null,
   "id": "84d29ceb",
   "metadata": {
    "id": "84d29ceb"
   },
   "outputs": [],
   "source": [
    "from keras import models\n",
    "from keras import layers\n",
    "\n",
    "\n",
    "network = models.Sequential()\n",
    "network.add(layers.Dense(2000, activation='relu', input_shape=(15000,)))\n",
    "network.add(layers.Dense(2000, activation='relu'))\n",
    "network.add(layers.Dense(20, activation='softmax'))\n",
    "\n",
    "network.compile(\n",
    "    optimizer='rmsprop',\n",
    "    loss='categorical_crossentropy',\n",
    "    metrics=['accuracy']\n",
    ")"
   ]
  },
  {
   "cell_type": "markdown",
   "id": "2ed00f5c",
   "metadata": {
    "id": "2ed00f5c"
   },
   "source": [
    "W następnym kroku, nadal dostosowuje dane treningowe do sieci neuronowej. Sieć neuronowa ma $20$ wyjść, które modelują pewien rozkład prawdopodobieństwa. Z tego względu odpowiedzi trzeba zakodować w podobny sposób. Wykorzystamy do tego dobrze znany \"one-hot encoding\" (czyli wektor z $20$ pozycjami ; $1$ jest na przewidywanej pozycji (kategorii) a reszta to $0$):"
   ]
  },
  {
   "cell_type": "code",
   "execution_count": null,
   "id": "38d230df",
   "metadata": {
    "id": "38d230df"
   },
   "outputs": [],
   "source": [
    "from keras.utils import to_categorical\n",
    "\n",
    "train_labels_one_hot = to_categorical(train.target)\n",
    "test_labels_one_hot = to_categorical(test.target)"
   ]
  },
  {
   "cell_type": "markdown",
   "id": "8d417b5f",
   "metadata": {
    "id": "8d417b5f"
   },
   "source": [
    "Sprawdźmy, czy wszystko jest ok:"
   ]
  },
  {
   "cell_type": "code",
   "execution_count": null,
   "id": "08efc62b",
   "metadata": {
    "colab": {
     "base_uri": "https://localhost:8080/"
    },
    "id": "08efc62b",
    "outputId": "71c37c8b-1e56-49a2-e73f-2ee7f1a132a3"
   },
   "outputs": [
    {
     "data": {
      "text/plain": [
       "(11314, 20)"
      ]
     },
     "execution_count": 15,
     "metadata": {},
     "output_type": "execute_result"
    }
   ],
   "source": [
    "train_labels_one_hot.shape"
   ]
  },
  {
   "cell_type": "code",
   "execution_count": null,
   "id": "89dc2a25",
   "metadata": {
    "colab": {
     "base_uri": "https://localhost:8080/"
    },
    "id": "89dc2a25",
    "outputId": "80f7f422-7a37-4165-9f8e-c0851dd38167"
   },
   "outputs": [
    {
     "data": {
      "text/plain": [
       "(7532, 20)"
      ]
     },
     "execution_count": 17,
     "metadata": {},
     "output_type": "execute_result"
    }
   ],
   "source": [
    "test_labels_one_hot.shape"
   ]
  },
  {
   "cell_type": "markdown",
   "id": "eb127c9e",
   "metadata": {
    "id": "eb127c9e"
   },
   "source": [
    "Teraz dostosujemy dane testowe do sieci neuronowej (podobna procedura co dla danych treningowych):"
   ]
  },
  {
   "cell_type": "code",
   "execution_count": null,
   "id": "8226c7ea",
   "metadata": {
    "colab": {
     "base_uri": "https://localhost:8080/"
    },
    "id": "8226c7ea",
    "outputId": "0219a2af-c648-4fff-8575-4217c2d5cb13"
   },
   "outputs": [
    {
     "data": {
      "text/plain": [
       "(7532, 15000)"
      ]
     },
     "execution_count": 16,
     "metadata": {},
     "output_type": "execute_result"
    }
   ],
   "source": [
    "X_test = stemmed_count_vectorizer.fit_transform(test.data)\n",
    "\n",
    "s = np.sum(X_test, axis=0)\n",
    "\n",
    "_, cols = s.shape\n",
    "\n",
    "X_test = tfidf_transformer.fit_transform(X_test)\n",
    "\n",
    "occurences_dictionary = {i:s[0, i] for i in range(0, cols)}\n",
    "sorted_occurences_dictionary = {k: v for k, v in sorted(occurences_dictionary.items(), key=lambda x: x[1], reverse=True)}\n",
    "\n",
    "desired_columns = list(sorted_occurences_dictionary.keys())[:top_n_words]\n",
    "\n",
    "X_test = X_test.toarray()\n",
    "\n",
    "X_test = X_test[:, desired_columns]\n",
    "\n",
    "X_test.shape"
   ]
  },
  {
   "cell_type": "code",
   "execution_count": null,
   "id": "Ey2n9Pi9w2bB",
   "metadata": {
    "colab": {
     "base_uri": "https://localhost:8080/"
    },
    "id": "Ey2n9Pi9w2bB",
    "outputId": "68b37bec-fe89-47fa-af66-8c41b0a7de48"
   },
   "outputs": [
    {
     "name": "stdout",
     "output_type": "stream",
     "text": [
      "Epoch 1/30\n",
      "17/17 [==============================] - 6s 233ms/step - loss: 1.5044 - accuracy: 0.6048 - val_loss: 3.4995 - val_accuracy: 0.0531\n",
      "Epoch 2/30\n",
      "17/17 [==============================] - 1s 68ms/step - loss: 0.2232 - accuracy: 0.9530 - val_loss: 4.8446 - val_accuracy: 0.0482\n",
      "Epoch 3/30\n",
      "17/17 [==============================] - 1s 67ms/step - loss: 0.0762 - accuracy: 0.9842 - val_loss: 3.9454 - val_accuracy: 0.0499\n",
      "Epoch 4/30\n",
      "17/17 [==============================] - 1s 67ms/step - loss: 0.0228 - accuracy: 0.9961 - val_loss: 4.1412 - val_accuracy: 0.0516\n",
      "Epoch 5/30\n",
      "17/17 [==============================] - 1s 68ms/step - loss: 0.0112 - accuracy: 0.9980 - val_loss: 4.4614 - val_accuracy: 0.0539\n",
      "Epoch 6/30\n",
      "17/17 [==============================] - 1s 68ms/step - loss: 0.0083 - accuracy: 0.9984 - val_loss: 5.8982 - val_accuracy: 0.0516\n",
      "Epoch 7/30\n",
      "17/17 [==============================] - 1s 67ms/step - loss: 0.0111 - accuracy: 0.9971 - val_loss: 5.3315 - val_accuracy: 0.0566\n",
      "Epoch 8/30\n",
      "17/17 [==============================] - 1s 68ms/step - loss: 0.0043 - accuracy: 0.9989 - val_loss: 5.0919 - val_accuracy: 0.0558\n",
      "Epoch 9/30\n",
      "17/17 [==============================] - 1s 68ms/step - loss: 0.0060 - accuracy: 0.9982 - val_loss: 6.5227 - val_accuracy: 0.0547\n",
      "Epoch 10/30\n",
      "17/17 [==============================] - 1s 68ms/step - loss: 0.0071 - accuracy: 0.9978 - val_loss: 5.3946 - val_accuracy: 0.0526\n",
      "Epoch 11/30\n",
      "17/17 [==============================] - 1s 67ms/step - loss: 0.0022 - accuracy: 0.9994 - val_loss: 5.5199 - val_accuracy: 0.0536\n",
      "Epoch 12/30\n",
      "17/17 [==============================] - 1s 67ms/step - loss: 0.0054 - accuracy: 0.9986 - val_loss: 6.9820 - val_accuracy: 0.0539\n",
      "Epoch 13/30\n",
      "17/17 [==============================] - 1s 67ms/step - loss: 0.0053 - accuracy: 0.9975 - val_loss: 5.7983 - val_accuracy: 0.0510\n",
      "Epoch 14/30\n",
      "17/17 [==============================] - 1s 70ms/step - loss: 0.0037 - accuracy: 0.9987 - val_loss: 5.9043 - val_accuracy: 0.0526\n",
      "Epoch 15/30\n",
      "17/17 [==============================] - 1s 68ms/step - loss: 0.0029 - accuracy: 0.9989 - val_loss: 6.0243 - val_accuracy: 0.0550\n",
      "Epoch 16/30\n",
      "17/17 [==============================] - 1s 67ms/step - loss: 0.0029 - accuracy: 0.9989 - val_loss: 6.1935 - val_accuracy: 0.0548\n",
      "Epoch 17/30\n",
      "17/17 [==============================] - 1s 68ms/step - loss: 0.0023 - accuracy: 0.9990 - val_loss: 6.3567 - val_accuracy: 0.0551\n",
      "Epoch 18/30\n",
      "17/17 [==============================] - 1s 68ms/step - loss: 0.0019 - accuracy: 0.9992 - val_loss: 6.6049 - val_accuracy: 0.0531\n",
      "Epoch 19/30\n",
      "17/17 [==============================] - 1s 69ms/step - loss: 0.0030 - accuracy: 0.9987 - val_loss: 6.7711 - val_accuracy: 0.0568\n",
      "Epoch 20/30\n",
      "17/17 [==============================] - 1s 68ms/step - loss: 0.0019 - accuracy: 0.9990 - val_loss: 6.7597 - val_accuracy: 0.0539\n",
      "Epoch 21/30\n",
      "17/17 [==============================] - 1s 68ms/step - loss: 0.0019 - accuracy: 0.9989 - val_loss: 7.0624 - val_accuracy: 0.0542\n",
      "Epoch 22/30\n",
      "17/17 [==============================] - 1s 68ms/step - loss: 0.0016 - accuracy: 0.9991 - val_loss: 7.1853 - val_accuracy: 0.0570\n",
      "Epoch 23/30\n",
      "17/17 [==============================] - 1s 89ms/step - loss: 0.0017 - accuracy: 0.9990 - val_loss: 7.3134 - val_accuracy: 0.0550\n",
      "Epoch 24/30\n",
      "17/17 [==============================] - 1s 68ms/step - loss: 0.0018 - accuracy: 0.9991 - val_loss: 7.3529 - val_accuracy: 0.0560\n",
      "Epoch 25/30\n",
      "17/17 [==============================] - 1s 70ms/step - loss: 0.0018 - accuracy: 0.9992 - val_loss: 7.5206 - val_accuracy: 0.0536\n",
      "Epoch 26/30\n",
      "17/17 [==============================] - 1s 68ms/step - loss: 0.0016 - accuracy: 0.9992 - val_loss: 7.6087 - val_accuracy: 0.0543\n",
      "Epoch 27/30\n",
      "17/17 [==============================] - 1s 68ms/step - loss: 0.0014 - accuracy: 0.9993 - val_loss: 7.5434 - val_accuracy: 0.0574\n",
      "Epoch 28/30\n",
      "17/17 [==============================] - 1s 66ms/step - loss: 0.0014 - accuracy: 0.9990 - val_loss: 7.9511 - val_accuracy: 0.0551\n",
      "Epoch 29/30\n",
      "17/17 [==============================] - 1s 68ms/step - loss: 0.0015 - accuracy: 0.9992 - val_loss: 7.8806 - val_accuracy: 0.0554\n",
      "Epoch 30/30\n",
      "17/17 [==============================] - 1s 67ms/step - loss: 0.0012 - accuracy: 0.9992 - val_loss: 7.8250 - val_accuracy: 0.0576\n"
     ]
    }
   ],
   "source": [
    "history = network.fit(\n",
    "    X_train,\n",
    "    train_labels_one_hot,\n",
    "    epochs=30, \n",
    "    batch_size=700,\n",
    "    validation_data=(X_test, test_labels_one_hot)\n",
    ")"
   ]
  },
  {
   "cell_type": "markdown",
   "id": "1e40bbb8",
   "metadata": {
    "id": "1e40bbb8"
   },
   "source": [
    "Narysujmy pare wykresów:"
   ]
  },
  {
   "cell_type": "code",
   "execution_count": null,
   "id": "db6e041a",
   "metadata": {
    "colab": {
     "base_uri": "https://localhost:8080/"
    },
    "id": "db6e041a",
    "outputId": "1ce146d5-c59f-4b93-c9f8-46a0a5a08aaa"
   },
   "outputs": [
    {
     "name": "stdout",
     "output_type": "stream",
     "text": [
      "dict_keys(['loss', 'accuracy', 'val_loss', 'val_accuracy'])\n"
     ]
    }
   ],
   "source": [
    "history_dict = history.history\n",
    "\n",
    "print(history_dict.keys())\n",
    "\n",
    "loss = history_dict['loss']\n",
    "val_loss = history_dict['val_loss']\n",
    "\n",
    "accuracy = history_dict['accuracy']\n",
    "val_accuracy = history_dict['val_accuracy']\n",
    "\n",
    "epochs = len(accuracy)\n",
    "ep = list(range(1, epochs))"
   ]
  },
  {
   "cell_type": "markdown",
   "id": "7Fv_UeCuz86A",
   "metadata": {
    "id": "7Fv_UeCuz86A"
   },
   "source": [
    "Wykres zależności straty od epoki:"
   ]
  },
  {
   "cell_type": "code",
   "execution_count": null,
   "id": "WG36BrTZyt1N",
   "metadata": {
    "colab": {
     "base_uri": "https://localhost:8080/",
     "height": 313
    },
    "id": "WG36BrTZyt1N",
    "outputId": "d606684c-9654-4e2a-cf1b-0e04449524a7"
   },
   "outputs": [
    {
     "data": {
      "text/plain": [
       "[<matplotlib.lines.Line2D at 0x7fdc43ec9340>]"
      ]
     },
     "execution_count": 19,
     "metadata": {},
     "output_type": "execute_result"
    },
    {
     "data": {
      "image/png": "[encoded data removed]",
      "text/plain": [
       "<Figure size 432x288 with 1 Axes>"
      ]
     },
     "metadata": {
      "needs_background": "light"
     },
     "output_type": "display_data"
    }
   ],
   "source": [
    "plt.title(f'Training and validation loss')\n",
    "\n",
    "plt.xlabel(f'Epochs')\n",
    "plt.ylabel(f'Loss')\n",
    "\n",
    "plt.plot(ep, loss[1:epochs], '.', color='blue')\n",
    "plt.plot(ep, val_loss[1:epochs], '.', color='red')"
   ]
  },
  {
   "cell_type": "markdown",
   "id": "jsVwuwK_0GMR",
   "metadata": {
    "id": "jsVwuwK_0GMR"
   },
   "source": [
    "Wykres zależności skuteczności na zbiorach treningowym i walidacyjnym w zależności od epoki:"
   ]
  },
  {
   "cell_type": "code",
   "execution_count": null,
   "id": "OpXKodW8znpe",
   "metadata": {
    "colab": {
     "base_uri": "https://localhost:8080/",
     "height": 313
    },
    "id": "OpXKodW8znpe",
    "outputId": "64f4e0b2-ff58-41ae-e760-888cf15e2749"
   },
   "outputs": [
    {
     "data": {
      "text/plain": [
       "[<matplotlib.lines.Line2D at 0x7fdc43e7fee0>]"
      ]
     },
     "execution_count": 20,
     "metadata": {},
     "output_type": "execute_result"
    },
    {
     "data": {
      "image/png": "[encoded data removed]",
      "text/plain": [
       "<Figure size 432x288 with 1 Axes>"
      ]
     },
     "metadata": {
      "needs_background": "light"
     },
     "output_type": "display_data"
    }
   ],
   "source": [
    "plt.title(f'Training and validation accuracy')\n",
    "\n",
    "plt.xlabel(f'Epochs')\n",
    "plt.ylabel(f'Accuracy')\n",
    "\n",
    "plt.plot(ep, accuracy[1:epochs], '.', color='blue')\n",
    "plt.plot(ep, val_accuracy[1:epochs], '.', color='red')"
   ]
  },
  {
   "cell_type": "markdown",
   "id": "1AJhyOZTjtAJ",
   "metadata": {
    "id": "1AJhyOZTjtAJ"
   },
   "source": [
    "Po sprawdzeniu różnych parametrów i przeprowadzeniu eksperymentów można stwierdzić, że w tym przypadku ograniczenie na liczbę najczęściej występujących słów ($n = 15000$) jest za małe (w porównaniu do liczby kolumn w oryginalnym zbiorze testowym), aby osiągnąć jakąś sensowną skuteczność na zbiorze walidacyjnym. Z wykresów widać, że nawet dla tak dużego  $n$ sieć neuronowa po prostu overfittuje (skuteczność na zbiorze treningowym równa prawie $100 \\%$). Po empirycznym sprawdzeniu, doszedłem do wniosku, że dodawanie kolejnych warstw ukrytych do sieci, jeszcze bardziej pogrszało overfitting (co jest normalne w przypadku sieci neuronowych). Z kolei zwiększanie *batch size* poprawia skuteczność na zbiorze walidacyjnym, ale wydłuża proces uczenia sieci neuronowej. Stosowanie większych warstw również pomaga w osiągnięciu lepszej skuteczności (dlatego, bo dodajemy niezbyt dużo (w porównaniu do dodania nowej warstwy) nowych parametrów, które mogą się okazać pomocne w zadaniu klasyfikacji). Dodatkowo zwiększanie liczby epok mogło powodować (w tym przypadku) jeszcze gorszy overfitting (sprawdzano dla liczby epok $e = 50$, ale później zmieniłem na $e = 30$ - to widać z wykresów)."
   ]
  }
 ],
 "metadata": {
  "accelerator": "GPU",
  "colab": {
   "provenance": []
  },
  "gpuClass": "standard",
  "kernelspec": {
   "display_name": "Python 3 (ipykernel)",
   "language": "python",
   "name": "python3"
  },
  "language_info": {
   "codemirror_mode": {
    "name": "ipython",
    "version": 3
   },
   "file_extension": ".py",
   "mimetype": "text/x-python",
   "name": "python",
   "nbconvert_exporter": "python",
   "pygments_lexer": "ipython3",
   "version": "3.8.10"
  }
 },
 "nbformat": 4,
 "nbformat_minor": 5
}
